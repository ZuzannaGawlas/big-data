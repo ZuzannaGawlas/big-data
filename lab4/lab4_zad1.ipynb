{
 "cells": [
  {
   "cell_type": "code",
   "execution_count": 0,
   "metadata": {
    "application/vnd.databricks.v1+cell": {
     "cellMetadata": {
      "byteLimit": 2048000,
      "rowLimit": 10000
     },
     "inputWidgets": {},
     "nuid": "3ad1d7d5-608b-4b1e-a39f-33e30be02e6b",
     "showTitle": false,
     "tableResultSettingsMap": {},
     "title": ""
    }
   },
   "outputs": [],
   "source": [
    "import pandas as pd\n",
    "from pyspark.sql.functions import regexp_replace,regexp_extract,explode,split,expr,array_contains,avg,countDistinct,pandas_udf\n",
    "\n",
    "from pyspark.sql.types import DoubleType,StringType,BooleanType"
   ]
  },
  {
   "cell_type": "code",
   "execution_count": 0,
   "metadata": {
    "application/vnd.databricks.v1+cell": {
     "cellMetadata": {
      "byteLimit": 2048000,
      "rowLimit": 10000
     },
     "inputWidgets": {},
     "nuid": "016d31fd-73d9-44d0-9472-6ec34a19be55",
     "showTitle": false,
     "tableResultSettingsMap": {},
     "title": ""
    }
   },
   "outputs": [
    {
     "output_type": "display_data",
     "data": {
      "text/html": [
       "<style scoped>\n",
       "  .table-result-container {\n",
       "    max-height: 300px;\n",
       "    overflow: auto;\n",
       "  }\n",
       "  table, th, td {\n",
       "    border: 1px solid black;\n",
       "    border-collapse: collapse;\n",
       "  }\n",
       "  th, td {\n",
       "    padding: 5px;\n",
       "  }\n",
       "  th {\n",
       "    text-align: left;\n",
       "  }\n",
       "</style><div class='table-result-container'><table class='table-result'><thead style='background-color: white'><tr><th>InvoiceNo</th><th>StockCode</th><th>Description</th><th>Quantity</th><th>InvoiceDate</th><th>UnitPrice</th><th>CustomerID</th><th>Country</th></tr></thead><tbody><tr><td>536365</td><td>85123A</td><td>WHITE HANGING HEART T-LIGHT HOLDER</td><td>6</td><td>12/1/2010 8:26</td><td>2.55</td><td>17850</td><td>United Kingdom</td></tr><tr><td>536365</td><td>71053</td><td>WHITE METAL LANTERN</td><td>6</td><td>12/1/2010 8:26</td><td>3.39</td><td>17850</td><td>United Kingdom</td></tr><tr><td>536365</td><td>84406B</td><td>CREAM CUPID HEARTS COAT HANGER</td><td>8</td><td>12/1/2010 8:26</td><td>2.75</td><td>17850</td><td>United Kingdom</td></tr><tr><td>536365</td><td>84029G</td><td>KNITTED UNION FLAG HOT WATER BOTTLE</td><td>6</td><td>12/1/2010 8:26</td><td>3.39</td><td>17850</td><td>United Kingdom</td></tr><tr><td>536365</td><td>84029E</td><td>RED WOOLLY HOTTIE WHITE HEART.</td><td>6</td><td>12/1/2010 8:26</td><td>3.39</td><td>17850</td><td>United Kingdom</td></tr><tr><td>536365</td><td>22752</td><td>SET 7 BABUSHKA NESTING BOXES</td><td>2</td><td>12/1/2010 8:26</td><td>7.65</td><td>17850</td><td>United Kingdom</td></tr><tr><td>536365</td><td>21730</td><td>GLASS STAR FROSTED T-LIGHT HOLDER</td><td>6</td><td>12/1/2010 8:26</td><td>4.25</td><td>17850</td><td>United Kingdom</td></tr><tr><td>536366</td><td>22633</td><td>HAND WARMER UNION JACK</td><td>6</td><td>12/1/2010 8:28</td><td>1.85</td><td>17850</td><td>United Kingdom</td></tr><tr><td>536366</td><td>22632</td><td>HAND WARMER RED POLKA DOT</td><td>6</td><td>12/1/2010 8:28</td><td>1.85</td><td>17850</td><td>United Kingdom</td></tr><tr><td>536367</td><td>84879</td><td>ASSORTED COLOUR BIRD ORNAMENT</td><td>32</td><td>12/1/2010 8:34</td><td>1.69</td><td>13047</td><td>United Kingdom</td></tr></tbody></table></div>"
      ]
     },
     "metadata": {
      "application/vnd.databricks.v1+output": {
       "addedWidgets": {},
       "aggData": [],
       "aggError": "",
       "aggOverflow": false,
       "aggSchema": [],
       "aggSeriesLimitReached": false,
       "aggType": "",
       "arguments": {},
       "columnCustomDisplayInfos": {},
       "data": [
        [
         "536365",
         "85123A",
         "WHITE HANGING HEART T-LIGHT HOLDER",
         6,
         "12/1/2010 8:26",
         2.55,
         17850,
         "United Kingdom"
        ],
        [
         "536365",
         "71053",
         "WHITE METAL LANTERN",
         6,
         "12/1/2010 8:26",
         3.39,
         17850,
         "United Kingdom"
        ],
        [
         "536365",
         "84406B",
         "CREAM CUPID HEARTS COAT HANGER",
         8,
         "12/1/2010 8:26",
         2.75,
         17850,
         "United Kingdom"
        ],
        [
         "536365",
         "84029G",
         "KNITTED UNION FLAG HOT WATER BOTTLE",
         6,
         "12/1/2010 8:26",
         3.39,
         17850,
         "United Kingdom"
        ],
        [
         "536365",
         "84029E",
         "RED WOOLLY HOTTIE WHITE HEART.",
         6,
         "12/1/2010 8:26",
         3.39,
         17850,
         "United Kingdom"
        ],
        [
         "536365",
         "22752",
         "SET 7 BABUSHKA NESTING BOXES",
         2,
         "12/1/2010 8:26",
         7.65,
         17850,
         "United Kingdom"
        ],
        [
         "536365",
         "21730",
         "GLASS STAR FROSTED T-LIGHT HOLDER",
         6,
         "12/1/2010 8:26",
         4.25,
         17850,
         "United Kingdom"
        ],
        [
         "536366",
         "22633",
         "HAND WARMER UNION JACK",
         6,
         "12/1/2010 8:28",
         1.85,
         17850,
         "United Kingdom"
        ],
        [
         "536366",
         "22632",
         "HAND WARMER RED POLKA DOT",
         6,
         "12/1/2010 8:28",
         1.85,
         17850,
         "United Kingdom"
        ],
        [
         "536367",
         "84879",
         "ASSORTED COLOUR BIRD ORNAMENT",
         32,
         "12/1/2010 8:34",
         1.69,
         13047,
         "United Kingdom"
        ]
       ],
       "datasetInfos": [],
       "dbfsResultPath": null,
       "isJsonSchema": true,
       "metadata": {},
       "overflow": false,
       "plotOptions": {
        "customPlotOptions": {},
        "displayType": "table",
        "pivotAggregation": null,
        "pivotColumns": null,
        "xColumns": null,
        "yColumns": null
       },
       "removedWidgets": [],
       "schema": [
        {
         "metadata": "{}",
         "name": "InvoiceNo",
         "type": "\"string\""
        },
        {
         "metadata": "{}",
         "name": "StockCode",
         "type": "\"string\""
        },
        {
         "metadata": "{}",
         "name": "Description",
         "type": "\"string\""
        },
        {
         "metadata": "{}",
         "name": "Quantity",
         "type": "\"integer\""
        },
        {
         "metadata": "{}",
         "name": "InvoiceDate",
         "type": "\"string\""
        },
        {
         "metadata": "{}",
         "name": "UnitPrice",
         "type": "\"double\""
        },
        {
         "metadata": "{}",
         "name": "CustomerID",
         "type": "\"integer\""
        },
        {
         "metadata": "{}",
         "name": "Country",
         "type": "\"string\""
        }
       ],
       "type": "table"
      }
     },
     "output_type": "display_data"
    }
   ],
   "source": [
    "df = spark.read.format('csv').option(\"header\",'True')\\\n",
    "    .option('inferSchema','True')\\\n",
    "    .load(\"/FileStore/tables/retail-data/all/*.csv\")\n",
    "display(df.limit(10))"
   ]
  },
  {
   "cell_type": "code",
   "execution_count": 0,
   "metadata": {
    "application/vnd.databricks.v1+cell": {
     "cellMetadata": {
      "byteLimit": 2048000,
      "rowLimit": 10000
     },
     "inputWidgets": {},
     "nuid": "d66cd207-133c-435f-973d-e786e0c6df80",
     "showTitle": false,
     "tableResultSettingsMap": {},
     "title": ""
    }
   },
   "outputs": [
    {
     "output_type": "stream",
     "name": "stdout",
     "output_type": "stream",
     "text": [
      "+---------+---------+-----------+--------+-----------+---------+----------+-------+\n|InvoiceNo|StockCode|Description|Quantity|InvoiceDate|UnitPrice|CustomerID|Country|\n+---------+---------+-----------+--------+-----------+---------+----------+-------+\n|        0|        0|       1454|       0|          0|        0|    135080|      0|\n+---------+---------+-----------+--------+-----------+---------+----------+-------+\n\n"
     ]
    }
   ],
   "source": [
    "from pyspark.sql.functions import col, sum\n",
    "\n",
    "null_counts = df.select([sum(col(c).isNull().cast(\"int\")).alias(c) for c in df.columns])\n",
    "null_counts.show(10)\n"
   ]
  },
  {
   "cell_type": "code",
   "execution_count": 0,
   "metadata": {
    "application/vnd.databricks.v1+cell": {
     "cellMetadata": {
      "byteLimit": 2048000,
      "rowLimit": 10000
     },
     "inputWidgets": {},
     "nuid": "0b01130a-86cf-4c9c-90f0-9cf49e03a1c9",
     "showTitle": false,
     "tableResultSettingsMap": {},
     "title": ""
    }
   },
   "outputs": [
    {
     "output_type": "display_data",
     "data": {
      "text/html": [
       "<style scoped>\n",
       "  .table-result-container {\n",
       "    max-height: 300px;\n",
       "    overflow: auto;\n",
       "  }\n",
       "  table, th, td {\n",
       "    border: 1px solid black;\n",
       "    border-collapse: collapse;\n",
       "  }\n",
       "  th, td {\n",
       "    padding: 5px;\n",
       "  }\n",
       "  th {\n",
       "    text-align: left;\n",
       "  }\n",
       "</style><div class='table-result-container'><table class='table-result'><thead style='background-color: white'><tr><th>InvoiceNo</th><th>StockCode</th><th>Description</th><th>Quantity</th><th>InvoiceDate</th><th>UnitPrice</th><th>CustomerID</th><th>Country</th><th>Exploded</th></tr></thead><tbody><tr><td>536365</td><td>85123A</td><td>WHITE HANGING HEART T-LIGHT HOLDER</td><td>6</td><td>12/1/2010 8:26</td><td>2.55</td><td>17850</td><td>United Kingdom</td><td>2</td></tr><tr><td>536365</td><td>85123A</td><td>WHITE HANGING HEART T-LIGHT HOLDER</td><td>6</td><td>12/1/2010 8:26</td><td>2.55</td><td>17850</td><td>United Kingdom</td><td>55</td></tr><tr><td>536365</td><td>71053</td><td>WHITE METAL LANTERN</td><td>6</td><td>12/1/2010 8:26</td><td>3.39</td><td>17850</td><td>United Kingdom</td><td>3</td></tr><tr><td>536365</td><td>71053</td><td>WHITE METAL LANTERN</td><td>6</td><td>12/1/2010 8:26</td><td>3.39</td><td>17850</td><td>United Kingdom</td><td>39</td></tr><tr><td>536365</td><td>84406B</td><td>CREAM CUPID HEARTS COAT HANGER</td><td>8</td><td>12/1/2010 8:26</td><td>2.75</td><td>17850</td><td>United Kingdom</td><td>2</td></tr><tr><td>536365</td><td>84406B</td><td>CREAM CUPID HEARTS COAT HANGER</td><td>8</td><td>12/1/2010 8:26</td><td>2.75</td><td>17850</td><td>United Kingdom</td><td>75</td></tr><tr><td>536365</td><td>84029G</td><td>KNITTED UNION FLAG HOT WATER BOTTLE</td><td>6</td><td>12/1/2010 8:26</td><td>3.39</td><td>17850</td><td>United Kingdom</td><td>3</td></tr><tr><td>536365</td><td>84029G</td><td>KNITTED UNION FLAG HOT WATER BOTTLE</td><td>6</td><td>12/1/2010 8:26</td><td>3.39</td><td>17850</td><td>United Kingdom</td><td>39</td></tr><tr><td>536365</td><td>84029E</td><td>RED WOOLLY HOTTIE WHITE HEART.</td><td>6</td><td>12/1/2010 8:26</td><td>3.39</td><td>17850</td><td>United Kingdom</td><td>3</td></tr><tr><td>536365</td><td>84029E</td><td>RED WOOLLY HOTTIE WHITE HEART.</td><td>6</td><td>12/1/2010 8:26</td><td>3.39</td><td>17850</td><td>United Kingdom</td><td>39</td></tr></tbody></table></div>"
      ]
     },
     "metadata": {
      "application/vnd.databricks.v1+output": {
       "addedWidgets": {},
       "aggData": [],
       "aggError": "",
       "aggOverflow": false,
       "aggSchema": [],
       "aggSeriesLimitReached": false,
       "aggType": "",
       "arguments": {},
       "columnCustomDisplayInfos": {},
       "data": [
        [
         "536365",
         "85123A",
         "WHITE HANGING HEART T-LIGHT HOLDER",
         6,
         "12/1/2010 8:26",
         2.55,
         17850,
         "United Kingdom",
         "2"
        ],
        [
         "536365",
         "85123A",
         "WHITE HANGING HEART T-LIGHT HOLDER",
         6,
         "12/1/2010 8:26",
         2.55,
         17850,
         "United Kingdom",
         "55"
        ],
        [
         "536365",
         "71053",
         "WHITE METAL LANTERN",
         6,
         "12/1/2010 8:26",
         3.39,
         17850,
         "United Kingdom",
         "3"
        ],
        [
         "536365",
         "71053",
         "WHITE METAL LANTERN",
         6,
         "12/1/2010 8:26",
         3.39,
         17850,
         "United Kingdom",
         "39"
        ],
        [
         "536365",
         "84406B",
         "CREAM CUPID HEARTS COAT HANGER",
         8,
         "12/1/2010 8:26",
         2.75,
         17850,
         "United Kingdom",
         "2"
        ],
        [
         "536365",
         "84406B",
         "CREAM CUPID HEARTS COAT HANGER",
         8,
         "12/1/2010 8:26",
         2.75,
         17850,
         "United Kingdom",
         "75"
        ],
        [
         "536365",
         "84029G",
         "KNITTED UNION FLAG HOT WATER BOTTLE",
         6,
         "12/1/2010 8:26",
         3.39,
         17850,
         "United Kingdom",
         "3"
        ],
        [
         "536365",
         "84029G",
         "KNITTED UNION FLAG HOT WATER BOTTLE",
         6,
         "12/1/2010 8:26",
         3.39,
         17850,
         "United Kingdom",
         "39"
        ],
        [
         "536365",
         "84029E",
         "RED WOOLLY HOTTIE WHITE HEART.",
         6,
         "12/1/2010 8:26",
         3.39,
         17850,
         "United Kingdom",
         "3"
        ],
        [
         "536365",
         "84029E",
         "RED WOOLLY HOTTIE WHITE HEART.",
         6,
         "12/1/2010 8:26",
         3.39,
         17850,
         "United Kingdom",
         "39"
        ]
       ],
       "datasetInfos": [],
       "dbfsResultPath": null,
       "isJsonSchema": true,
       "metadata": {},
       "overflow": false,
       "plotOptions": {
        "customPlotOptions": {},
        "displayType": "table",
        "pivotAggregation": null,
        "pivotColumns": null,
        "xColumns": null,
        "yColumns": null
       },
       "removedWidgets": [],
       "schema": [
        {
         "metadata": "{}",
         "name": "InvoiceNo",
         "type": "\"string\""
        },
        {
         "metadata": "{}",
         "name": "StockCode",
         "type": "\"string\""
        },
        {
         "metadata": "{}",
         "name": "Description",
         "type": "\"string\""
        },
        {
         "metadata": "{}",
         "name": "Quantity",
         "type": "\"integer\""
        },
        {
         "metadata": "{}",
         "name": "InvoiceDate",
         "type": "\"string\""
        },
        {
         "metadata": "{}",
         "name": "UnitPrice",
         "type": "\"double\""
        },
        {
         "metadata": "{}",
         "name": "CustomerID",
         "type": "\"integer\""
        },
        {
         "metadata": "{}",
         "name": "Country",
         "type": "\"string\""
        },
        {
         "metadata": "{}",
         "name": "Exploded",
         "type": "\"string\""
        }
       ],
       "type": "table"
      }
     },
     "output_type": "display_data"
    }
   ],
   "source": [
    "display(df.withColumn(\"Exploded\", explode(split(col(\"UnitPrice\").cast(\"string\"), \"\\.\"))).limit(10))"
   ]
  },
  {
   "cell_type": "code",
   "execution_count": 0,
   "metadata": {
    "application/vnd.databricks.v1+cell": {
     "cellMetadata": {
      "byteLimit": 2048000,
      "rowLimit": 10000
     },
     "inputWidgets": {},
     "nuid": "628ee1c8-6132-414f-bbd5-cfe92629c22f",
     "showTitle": false,
     "tableResultSettingsMap": {},
     "title": ""
    }
   },
   "outputs": [
    {
     "output_type": "stream",
     "name": "stdout",
     "output_type": "stream",
     "text": [
      "+---------+---------+--------------------+--------+--------------+---------+----------+--------------+\n|InvoiceNo|StockCode|         Description|Quantity|   InvoiceDate|UnitPrice|CustomerID|       Country|\n+---------+---------+--------------------+--------+--------------+---------+----------+--------------+\n|   536365|   85123A|WHITE HANGING HEA...|       6|12/1/2010 8:26|     2.55|     17850|United Kingdom|\n|   536365|    71053| WHITE METAL LANTERN|       6|12/1/2010 8:26|     3.39|     17850|United Kingdom|\n|   536365|   84406B|CREAM CUPID HEART...|       8|12/1/2010 8:26|     2.75|     17850|United Kingdom|\n|   536365|   84029G|KNITTED UNION FLA...|       6|12/1/2010 8:26|     3.39|     17850|United Kingdom|\n|   536365|   84029E|RED WOOLLY HOTTIE...|       6|12/1/2010 8:26|     3.39|     17850|United Kingdom|\n|   536365|    22752|SET 7 BABUSHKA NE...|       2|12/1/2010 8:26|     7.65|     17850|United Kingdom|\n|   536365|    21730|GLASS STAR FROSTE...|       6|12/1/2010 8:26|     4.25|     17850|United Kingdom|\n|   536366|    22633|HAND WARMER UNION...|       6|12/1/2010 8:28|     1.85|     17850|United Kingdom|\n|   536366|    22632|HAND WARMER RED P...|       6|12/1/2010 8:28|     1.85|     17850|United Kingdom|\n|   536367|    84879|ASSORTED COLOUR B...|      32|12/1/2010 8:34|     1.69|     13047|United Kingdom|\n+---------+---------+--------------------+--------+--------------+---------+----------+--------------+\nonly showing top 10 rows\n\n+---------+---------+-----------+--------+-----------+---------+----------+-------+\n|InvoiceNo|StockCode|Description|Quantity|InvoiceDate|UnitPrice|CustomerID|Country|\n+---------+---------+-----------+--------+-----------+---------+----------+-------+\n|        0|        0|          0|       0|          0|        0|    135080|      0|\n+---------+---------+-----------+--------+-----------+---------+----------+-------+\n\n"
     ]
    }
   ],
   "source": [
    "df_fillna=df.fillna({\"Description\":\"Brak\"})\n",
    "df_fillna.show(10)\n",
    "null_counts = df_fillna.select([sum(col(c).isNull().cast(\"int\")).alias(c) for c in df.columns])\n",
    "null_counts.show(10)\n"
   ]
  },
  {
   "cell_type": "code",
   "execution_count": 0,
   "metadata": {
    "application/vnd.databricks.v1+cell": {
     "cellMetadata": {
      "byteLimit": 2048000,
      "rowLimit": 10000
     },
     "inputWidgets": {},
     "nuid": "048f2b91-7284-406f-89f4-90440a582942",
     "showTitle": false,
     "tableResultSettingsMap": {},
     "title": ""
    }
   },
   "outputs": [
    {
     "output_type": "stream",
     "name": "stdout",
     "output_type": "stream",
     "text": [
      "+---------+---------+--------------------+--------+--------------+---------+----------+--------------+\n|InvoiceNo|StockCode|         Description|Quantity|   InvoiceDate|UnitPrice|CustomerID|       Country|\n+---------+---------+--------------------+--------+--------------+---------+----------+--------------+\n|   536365|   85123A|WHITE HANGING HEA...|       6|12/1/2010 8:26|     2.55|     17850|United Kingdom|\n|   536365|    71053| WHITE METAL LANTERN|       6|12/1/2010 8:26|     3.39|     17850|United Kingdom|\n|   536365|   84406B|CREAM CUPID HEART...|       8|12/1/2010 8:26|     2.75|     17850|United Kingdom|\n|   536365|   84029G|KNITTED UNION FLA...|       6|12/1/2010 8:26|     3.39|     17850|United Kingdom|\n|   536365|   84029E|RED WOOLLY HOTTIE...|       6|12/1/2010 8:26|     3.39|     17850|United Kingdom|\n|   536365|    22752|SET 7 BABUSHKA NE...|       2|12/1/2010 8:26|     7.65|     17850|United Kingdom|\n|   536365|    21730|GLASS STAR FROSTE...|       6|12/1/2010 8:26|     4.25|     17850|United Kingdom|\n|   536366|    22633|HAND WARMER UNION...|       6|12/1/2010 8:28|     1.85|     17850|United Kingdom|\n|   536366|    22632|HAND WARMER RED P...|       6|12/1/2010 8:28|     1.85|     17850|United Kingdom|\n|   536367|    84879|ASSORTED COLOUR B...|      32|12/1/2010 8:34|     1.69|     13047|United Kingdom|\n+---------+---------+--------------------+--------+--------------+---------+----------+--------------+\nonly showing top 10 rows\n\n+---------+---------+-----------+--------+-----------+---------+----------+-------+\n|InvoiceNo|StockCode|Description|Quantity|InvoiceDate|UnitPrice|CustomerID|Country|\n+---------+---------+-----------+--------+-----------+---------+----------+-------+\n|        0|        0|          0|       0|          0|        0|         0|      0|\n+---------+---------+-----------+--------+-----------+---------+----------+-------+\n\n"
     ]
    }
   ],
   "source": [
    "df_dropna=df_fillna.dropna(subset=\"CustomerID\")\n",
    "df_dropna.show(10)\n",
    "null_counts = df_dropna.select([sum(col(c).isNull().cast(\"int\")).alias(c) for c in df.columns])\n",
    "null_counts.show(10)"
   ]
  },
  {
   "cell_type": "code",
   "execution_count": 0,
   "metadata": {
    "application/vnd.databricks.v1+cell": {
     "cellMetadata": {
      "byteLimit": 2048000,
      "rowLimit": 10000
     },
     "inputWidgets": {},
     "nuid": "1f92e503-adcd-4678-bb9c-9be4168427ae",
     "showTitle": false,
     "tableResultSettingsMap": {},
     "title": ""
    }
   },
   "outputs": [
    {
     "output_type": "display_data",
     "data": {
      "text/html": [
       "<style scoped>\n",
       "  .table-result-container {\n",
       "    max-height: 300px;\n",
       "    overflow: auto;\n",
       "  }\n",
       "  table, th, td {\n",
       "    border: 1px solid black;\n",
       "    border-collapse: collapse;\n",
       "  }\n",
       "  th, td {\n",
       "    padding: 5px;\n",
       "  }\n",
       "  th {\n",
       "    text-align: left;\n",
       "  }\n",
       "</style><div class='table-result-container'><table class='table-result'><thead style='background-color: white'><tr><th>InvoiceNo</th><th>StockCode</th><th>Description</th><th>Quantity</th><th>InvoiceDate</th><th>UnitPrice</th><th>CustomerID</th><th>Country</th></tr></thead><tbody><tr><td>536365</td><td>85123A</td><td>WHITE HANGING COCK T-LIGHT HOLDER</td><td>6</td><td>12/1/2010 8:26</td><td>2.55</td><td>17850</td><td>United Kingdom</td></tr><tr><td>536365</td><td>71053</td><td>WHITE METAL LANTERN</td><td>6</td><td>12/1/2010 8:26</td><td>3.39</td><td>17850</td><td>United Kingdom</td></tr><tr><td>536365</td><td>84406B</td><td>CREAM CUPID COCKS COAT HANGER</td><td>8</td><td>12/1/2010 8:26</td><td>2.75</td><td>17850</td><td>United Kingdom</td></tr><tr><td>536365</td><td>84029G</td><td>KNITTED UNION FLAG HOT WATER BOTTLE</td><td>6</td><td>12/1/2010 8:26</td><td>3.39</td><td>17850</td><td>United Kingdom</td></tr><tr><td>536365</td><td>84029E</td><td>RED WOOLLY HOTTIE WHITE COCK.</td><td>6</td><td>12/1/2010 8:26</td><td>3.39</td><td>17850</td><td>United Kingdom</td></tr><tr><td>536365</td><td>22752</td><td>SET 7 BABUSHKA NESTING BOXES</td><td>2</td><td>12/1/2010 8:26</td><td>7.65</td><td>17850</td><td>United Kingdom</td></tr><tr><td>536365</td><td>21730</td><td>GLASS STAR FROSTED T-LIGHT HOLDER</td><td>6</td><td>12/1/2010 8:26</td><td>4.25</td><td>17850</td><td>United Kingdom</td></tr><tr><td>536366</td><td>22633</td><td>HAND WARMER UNION JACK</td><td>6</td><td>12/1/2010 8:28</td><td>1.85</td><td>17850</td><td>United Kingdom</td></tr><tr><td>536366</td><td>22632</td><td>HAND WARMER RED POLKA DOT</td><td>6</td><td>12/1/2010 8:28</td><td>1.85</td><td>17850</td><td>United Kingdom</td></tr><tr><td>536367</td><td>84879</td><td>ASSORTED COLOUR BIRD ORNAMENT</td><td>32</td><td>12/1/2010 8:34</td><td>1.69</td><td>13047</td><td>United Kingdom</td></tr></tbody></table></div>"
      ]
     },
     "metadata": {
      "application/vnd.databricks.v1+output": {
       "addedWidgets": {},
       "aggData": [],
       "aggError": "",
       "aggOverflow": false,
       "aggSchema": [],
       "aggSeriesLimitReached": false,
       "aggType": "",
       "arguments": {},
       "columnCustomDisplayInfos": {},
       "data": [
        [
         "536365",
         "85123A",
         "WHITE HANGING COCK T-LIGHT HOLDER",
         6,
         "12/1/2010 8:26",
         2.55,
         17850,
         "United Kingdom"
        ],
        [
         "536365",
         "71053",
         "WHITE METAL LANTERN",
         6,
         "12/1/2010 8:26",
         3.39,
         17850,
         "United Kingdom"
        ],
        [
         "536365",
         "84406B",
         "CREAM CUPID COCKS COAT HANGER",
         8,
         "12/1/2010 8:26",
         2.75,
         17850,
         "United Kingdom"
        ],
        [
         "536365",
         "84029G",
         "KNITTED UNION FLAG HOT WATER BOTTLE",
         6,
         "12/1/2010 8:26",
         3.39,
         17850,
         "United Kingdom"
        ],
        [
         "536365",
         "84029E",
         "RED WOOLLY HOTTIE WHITE COCK.",
         6,
         "12/1/2010 8:26",
         3.39,
         17850,
         "United Kingdom"
        ],
        [
         "536365",
         "22752",
         "SET 7 BABUSHKA NESTING BOXES",
         2,
         "12/1/2010 8:26",
         7.65,
         17850,
         "United Kingdom"
        ],
        [
         "536365",
         "21730",
         "GLASS STAR FROSTED T-LIGHT HOLDER",
         6,
         "12/1/2010 8:26",
         4.25,
         17850,
         "United Kingdom"
        ],
        [
         "536366",
         "22633",
         "HAND WARMER UNION JACK",
         6,
         "12/1/2010 8:28",
         1.85,
         17850,
         "United Kingdom"
        ],
        [
         "536366",
         "22632",
         "HAND WARMER RED POLKA DOT",
         6,
         "12/1/2010 8:28",
         1.85,
         17850,
         "United Kingdom"
        ],
        [
         "536367",
         "84879",
         "ASSORTED COLOUR BIRD ORNAMENT",
         32,
         "12/1/2010 8:34",
         1.69,
         13047,
         "United Kingdom"
        ]
       ],
       "datasetInfos": [],
       "dbfsResultPath": null,
       "isJsonSchema": true,
       "metadata": {},
       "overflow": false,
       "plotOptions": {
        "customPlotOptions": {},
        "displayType": "table",
        "pivotAggregation": null,
        "pivotColumns": null,
        "xColumns": null,
        "yColumns": null
       },
       "removedWidgets": [],
       "schema": [
        {
         "metadata": "{}",
         "name": "InvoiceNo",
         "type": "\"string\""
        },
        {
         "metadata": "{}",
         "name": "StockCode",
         "type": "\"string\""
        },
        {
         "metadata": "{}",
         "name": "Description",
         "type": "\"string\""
        },
        {
         "metadata": "{}",
         "name": "Quantity",
         "type": "\"integer\""
        },
        {
         "metadata": "{}",
         "name": "InvoiceDate",
         "type": "\"string\""
        },
        {
         "metadata": "{}",
         "name": "UnitPrice",
         "type": "\"double\""
        },
        {
         "metadata": "{}",
         "name": "CustomerID",
         "type": "\"integer\""
        },
        {
         "metadata": "{}",
         "name": "Country",
         "type": "\"string\""
        }
       ],
       "type": "table"
      }
     },
     "output_type": "display_data"
    }
   ],
   "source": [
    "display(df_dropna.withColumn(\"Description\",regexp_replace(col(\"Description\"),\"HEART\", \"COCK\")).limit(10))"
   ]
  },
  {
   "cell_type": "code",
   "execution_count": 0,
   "metadata": {
    "application/vnd.databricks.v1+cell": {
     "cellMetadata": {
      "byteLimit": 2048000,
      "rowLimit": 10000
     },
     "inputWidgets": {},
     "nuid": "260217da-5841-44d6-a000-0fb600d3f419",
     "showTitle": false,
     "tableResultSettingsMap": {},
     "title": ""
    }
   },
   "outputs": [
    {
     "output_type": "display_data",
     "data": {
      "text/html": [
       "<style scoped>\n",
       "  .table-result-container {\n",
       "    max-height: 300px;\n",
       "    overflow: auto;\n",
       "  }\n",
       "  table, th, td {\n",
       "    border: 1px solid black;\n",
       "    border-collapse: collapse;\n",
       "  }\n",
       "  th, td {\n",
       "    padding: 5px;\n",
       "  }\n",
       "  th {\n",
       "    text-align: left;\n",
       "  }\n",
       "</style><div class='table-result-container'><table class='table-result'><thead style='background-color: white'><tr><th>InvoiceNo</th><th>StockCode</th><th>Description</th><th>Quantity</th><th>InvoiceDate</th><th>UnitPrice</th><th>CustomerID</th><th>Country</th><th>extract</th></tr></thead><tbody><tr><td>536365</td><td>85123A</td><td>WHITE HANGING HEART T-LIGHT HOLDER</td><td>6</td><td>12/1/2010 8:26</td><td>2.55</td><td>17850</td><td>United Kingdom</td><td>HANGING</td></tr><tr><td>536365</td><td>71053</td><td>WHITE METAL LANTERN</td><td>6</td><td>12/1/2010 8:26</td><td>3.39</td><td>17850</td><td>United Kingdom</td><td>METAL</td></tr><tr><td>536365</td><td>84406B</td><td>CREAM CUPID HEARTS COAT HANGER</td><td>8</td><td>12/1/2010 8:26</td><td>2.75</td><td>17850</td><td>United Kingdom</td><td>CUPID</td></tr><tr><td>536365</td><td>84029G</td><td>KNITTED UNION FLAG HOT WATER BOTTLE</td><td>6</td><td>12/1/2010 8:26</td><td>3.39</td><td>17850</td><td>United Kingdom</td><td>UNION</td></tr><tr><td>536365</td><td>84029E</td><td>RED WOOLLY HOTTIE WHITE HEART.</td><td>6</td><td>12/1/2010 8:26</td><td>3.39</td><td>17850</td><td>United Kingdom</td><td>WOOLLY</td></tr><tr><td>536365</td><td>22752</td><td>SET 7 BABUSHKA NESTING BOXES</td><td>2</td><td>12/1/2010 8:26</td><td>7.65</td><td>17850</td><td>United Kingdom</td><td>7</td></tr><tr><td>536365</td><td>21730</td><td>GLASS STAR FROSTED T-LIGHT HOLDER</td><td>6</td><td>12/1/2010 8:26</td><td>4.25</td><td>17850</td><td>United Kingdom</td><td>STAR</td></tr><tr><td>536366</td><td>22633</td><td>HAND WARMER UNION JACK</td><td>6</td><td>12/1/2010 8:28</td><td>1.85</td><td>17850</td><td>United Kingdom</td><td>WARMER</td></tr><tr><td>536366</td><td>22632</td><td>HAND WARMER RED POLKA DOT</td><td>6</td><td>12/1/2010 8:28</td><td>1.85</td><td>17850</td><td>United Kingdom</td><td>WARMER</td></tr><tr><td>536367</td><td>84879</td><td>ASSORTED COLOUR BIRD ORNAMENT</td><td>32</td><td>12/1/2010 8:34</td><td>1.69</td><td>13047</td><td>United Kingdom</td><td>COLOUR</td></tr></tbody></table></div>"
      ]
     },
     "metadata": {
      "application/vnd.databricks.v1+output": {
       "addedWidgets": {},
       "aggData": [],
       "aggError": "",
       "aggOverflow": false,
       "aggSchema": [],
       "aggSeriesLimitReached": false,
       "aggType": "",
       "arguments": {},
       "columnCustomDisplayInfos": {},
       "data": [
        [
         "536365",
         "85123A",
         "WHITE HANGING HEART T-LIGHT HOLDER",
         6,
         "12/1/2010 8:26",
         2.55,
         17850,
         "United Kingdom",
         "HANGING"
        ],
        [
         "536365",
         "71053",
         "WHITE METAL LANTERN",
         6,
         "12/1/2010 8:26",
         3.39,
         17850,
         "United Kingdom",
         "METAL"
        ],
        [
         "536365",
         "84406B",
         "CREAM CUPID HEARTS COAT HANGER",
         8,
         "12/1/2010 8:26",
         2.75,
         17850,
         "United Kingdom",
         "CUPID"
        ],
        [
         "536365",
         "84029G",
         "KNITTED UNION FLAG HOT WATER BOTTLE",
         6,
         "12/1/2010 8:26",
         3.39,
         17850,
         "United Kingdom",
         "UNION"
        ],
        [
         "536365",
         "84029E",
         "RED WOOLLY HOTTIE WHITE HEART.",
         6,
         "12/1/2010 8:26",
         3.39,
         17850,
         "United Kingdom",
         "WOOLLY"
        ],
        [
         "536365",
         "22752",
         "SET 7 BABUSHKA NESTING BOXES",
         2,
         "12/1/2010 8:26",
         7.65,
         17850,
         "United Kingdom",
         "7"
        ],
        [
         "536365",
         "21730",
         "GLASS STAR FROSTED T-LIGHT HOLDER",
         6,
         "12/1/2010 8:26",
         4.25,
         17850,
         "United Kingdom",
         "STAR"
        ],
        [
         "536366",
         "22633",
         "HAND WARMER UNION JACK",
         6,
         "12/1/2010 8:28",
         1.85,
         17850,
         "United Kingdom",
         "WARMER"
        ],
        [
         "536366",
         "22632",
         "HAND WARMER RED POLKA DOT",
         6,
         "12/1/2010 8:28",
         1.85,
         17850,
         "United Kingdom",
         "WARMER"
        ],
        [
         "536367",
         "84879",
         "ASSORTED COLOUR BIRD ORNAMENT",
         32,
         "12/1/2010 8:34",
         1.69,
         13047,
         "United Kingdom",
         "COLOUR"
        ]
       ],
       "datasetInfos": [],
       "dbfsResultPath": null,
       "isJsonSchema": true,
       "metadata": {},
       "overflow": false,
       "plotOptions": {
        "customPlotOptions": {},
        "displayType": "table",
        "pivotAggregation": null,
        "pivotColumns": null,
        "xColumns": null,
        "yColumns": null
       },
       "removedWidgets": [],
       "schema": [
        {
         "metadata": "{}",
         "name": "InvoiceNo",
         "type": "\"string\""
        },
        {
         "metadata": "{}",
         "name": "StockCode",
         "type": "\"string\""
        },
        {
         "metadata": "{}",
         "name": "Description",
         "type": "\"string\""
        },
        {
         "metadata": "{}",
         "name": "Quantity",
         "type": "\"integer\""
        },
        {
         "metadata": "{}",
         "name": "InvoiceDate",
         "type": "\"string\""
        },
        {
         "metadata": "{}",
         "name": "UnitPrice",
         "type": "\"double\""
        },
        {
         "metadata": "{}",
         "name": "CustomerID",
         "type": "\"integer\""
        },
        {
         "metadata": "{}",
         "name": "Country",
         "type": "\"string\""
        },
        {
         "metadata": "{}",
         "name": "extract",
         "type": "\"string\""
        }
       ],
       "type": "table"
      }
     },
     "output_type": "display_data"
    }
   ],
   "source": [
    "display(df_dropna.withColumn(\"extract\",regexp_extract(\"Description\",r\"^\\S+\\s+(\\S+)\", 1)).limit(10))"
   ]
  },
  {
   "cell_type": "code",
   "execution_count": 0,
   "metadata": {
    "application/vnd.databricks.v1+cell": {
     "cellMetadata": {
      "byteLimit": 2048000,
      "rowLimit": 10000
     },
     "inputWidgets": {},
     "nuid": "a6187492-19f3-4b69-b5a9-fc8a29441421",
     "showTitle": false,
     "tableResultSettingsMap": {},
     "title": ""
    }
   },
   "outputs": [
    {
     "output_type": "display_data",
     "data": {
      "text/html": [
       "<style scoped>\n",
       "  .table-result-container {\n",
       "    max-height: 300px;\n",
       "    overflow: auto;\n",
       "  }\n",
       "  table, th, td {\n",
       "    border: 1px solid black;\n",
       "    border-collapse: collapse;\n",
       "  }\n",
       "  th, td {\n",
       "    padding: 5px;\n",
       "  }\n",
       "  th {\n",
       "    text-align: left;\n",
       "  }\n",
       "</style><div class='table-result-container'><table class='table-result'><thead style='background-color: white'><tr><th>InvoiceNo</th><th>Description</th><th>Quantity</th><th>InvoiceDate</th><th>UnitPrice</th><th>CustomerID</th><th>Country</th></tr></thead><tbody><tr><td>536365</td><td>WHITE HANGING HEART T-LIGHT HOLDER</td><td>6</td><td>12/1/2010 8:26</td><td>2.55</td><td>17850</td><td>United Kingdom</td></tr><tr><td>536365</td><td>WHITE METAL LANTERN</td><td>6</td><td>12/1/2010 8:26</td><td>3.39</td><td>17850</td><td>United Kingdom</td></tr><tr><td>536365</td><td>CREAM CUPID HEARTS COAT HANGER</td><td>8</td><td>12/1/2010 8:26</td><td>2.75</td><td>17850</td><td>United Kingdom</td></tr><tr><td>536365</td><td>KNITTED UNION FLAG HOT WATER BOTTLE</td><td>6</td><td>12/1/2010 8:26</td><td>3.39</td><td>17850</td><td>United Kingdom</td></tr><tr><td>536365</td><td>RED WOOLLY HOTTIE WHITE HEART.</td><td>6</td><td>12/1/2010 8:26</td><td>3.39</td><td>17850</td><td>United Kingdom</td></tr><tr><td>536365</td><td>SET 7 BABUSHKA NESTING BOXES</td><td>2</td><td>12/1/2010 8:26</td><td>7.65</td><td>17850</td><td>United Kingdom</td></tr><tr><td>536365</td><td>GLASS STAR FROSTED T-LIGHT HOLDER</td><td>6</td><td>12/1/2010 8:26</td><td>4.25</td><td>17850</td><td>United Kingdom</td></tr><tr><td>536366</td><td>HAND WARMER UNION JACK</td><td>6</td><td>12/1/2010 8:28</td><td>1.85</td><td>17850</td><td>United Kingdom</td></tr><tr><td>536366</td><td>HAND WARMER RED POLKA DOT</td><td>6</td><td>12/1/2010 8:28</td><td>1.85</td><td>17850</td><td>United Kingdom</td></tr><tr><td>536367</td><td>ASSORTED COLOUR BIRD ORNAMENT</td><td>32</td><td>12/1/2010 8:34</td><td>1.69</td><td>13047</td><td>United Kingdom</td></tr></tbody></table></div>"
      ]
     },
     "metadata": {
      "application/vnd.databricks.v1+output": {
       "addedWidgets": {},
       "aggData": [],
       "aggError": "",
       "aggOverflow": false,
       "aggSchema": [],
       "aggSeriesLimitReached": false,
       "aggType": "",
       "arguments": {},
       "columnCustomDisplayInfos": {},
       "data": [
        [
         "536365",
         "WHITE HANGING HEART T-LIGHT HOLDER",
         6,
         "12/1/2010 8:26",
         2.55,
         17850,
         "United Kingdom"
        ],
        [
         "536365",
         "WHITE METAL LANTERN",
         6,
         "12/1/2010 8:26",
         3.39,
         17850,
         "United Kingdom"
        ],
        [
         "536365",
         "CREAM CUPID HEARTS COAT HANGER",
         8,
         "12/1/2010 8:26",
         2.75,
         17850,
         "United Kingdom"
        ],
        [
         "536365",
         "KNITTED UNION FLAG HOT WATER BOTTLE",
         6,
         "12/1/2010 8:26",
         3.39,
         17850,
         "United Kingdom"
        ],
        [
         "536365",
         "RED WOOLLY HOTTIE WHITE HEART.",
         6,
         "12/1/2010 8:26",
         3.39,
         17850,
         "United Kingdom"
        ],
        [
         "536365",
         "SET 7 BABUSHKA NESTING BOXES",
         2,
         "12/1/2010 8:26",
         7.65,
         17850,
         "United Kingdom"
        ],
        [
         "536365",
         "GLASS STAR FROSTED T-LIGHT HOLDER",
         6,
         "12/1/2010 8:26",
         4.25,
         17850,
         "United Kingdom"
        ],
        [
         "536366",
         "HAND WARMER UNION JACK",
         6,
         "12/1/2010 8:28",
         1.85,
         17850,
         "United Kingdom"
        ],
        [
         "536366",
         "HAND WARMER RED POLKA DOT",
         6,
         "12/1/2010 8:28",
         1.85,
         17850,
         "United Kingdom"
        ],
        [
         "536367",
         "ASSORTED COLOUR BIRD ORNAMENT",
         32,
         "12/1/2010 8:34",
         1.69,
         13047,
         "United Kingdom"
        ]
       ],
       "datasetInfos": [],
       "dbfsResultPath": null,
       "isJsonSchema": true,
       "metadata": {},
       "overflow": false,
       "plotOptions": {
        "customPlotOptions": {},
        "displayType": "table",
        "pivotAggregation": null,
        "pivotColumns": null,
        "xColumns": null,
        "yColumns": null
       },
       "removedWidgets": [],
       "schema": [
        {
         "metadata": "{}",
         "name": "InvoiceNo",
         "type": "\"string\""
        },
        {
         "metadata": "{}",
         "name": "Description",
         "type": "\"string\""
        },
        {
         "metadata": "{}",
         "name": "Quantity",
         "type": "\"integer\""
        },
        {
         "metadata": "{}",
         "name": "InvoiceDate",
         "type": "\"string\""
        },
        {
         "metadata": "{}",
         "name": "UnitPrice",
         "type": "\"double\""
        },
        {
         "metadata": "{}",
         "name": "CustomerID",
         "type": "\"integer\""
        },
        {
         "metadata": "{}",
         "name": "Country",
         "type": "\"string\""
        }
       ],
       "type": "table"
      }
     },
     "output_type": "display_data"
    }
   ],
   "source": [
    "\n",
    "display(df.drop(\"StockCode\").limit(10))"
   ]
  },
  {
   "cell_type": "code",
   "execution_count": 0,
   "metadata": {
    "application/vnd.databricks.v1+cell": {
     "cellMetadata": {
      "byteLimit": 2048000,
      "rowLimit": 10000
     },
     "inputWidgets": {},
     "nuid": "5fc0a051-9d5e-46da-933a-79da83d7c48e",
     "showTitle": false,
     "tableResultSettingsMap": {},
     "title": ""
    }
   },
   "outputs": [
    {
     "output_type": "display_data",
     "data": {
      "text/html": [
       "<style scoped>\n",
       "  .table-result-container {\n",
       "    max-height: 300px;\n",
       "    overflow: auto;\n",
       "  }\n",
       "  table, th, td {\n",
       "    border: 1px solid black;\n",
       "    border-collapse: collapse;\n",
       "  }\n",
       "  th, td {\n",
       "    padding: 5px;\n",
       "  }\n",
       "  th {\n",
       "    text-align: left;\n",
       "  }\n",
       "</style><div class='table-result-container'><table class='table-result'><thead style='background-color: white'><tr><th>InvoiceNo</th><th>StockCode</th><th>Description</th><th>Quantity</th><th>InvoiceDate</th><th>UnitPrice</th><th>CustomerID</th><th>Country</th><th>CustomerID_ifnull</th></tr></thead><tbody><tr><td>581023</td><td>20674</td><td>GREEN POLKADOT BOWL</td><td>4</td><td>12/7/2011 10:35</td><td>2.46</td><td>null</td><td>United Kingdom</td><td>Brak danych</td></tr><tr><td>581023</td><td>20685</td><td>DOORMAT RED RETROSPOT</td><td>1</td><td>12/7/2011 10:35</td><td>16.63</td><td>null</td><td>United Kingdom</td><td>Brak danych</td></tr><tr><td>581023</td><td>20712</td><td>JUMBO BAG WOODLAND ANIMALS</td><td>7</td><td>12/7/2011 10:35</td><td>4.13</td><td>null</td><td>United Kingdom</td><td>Brak danych</td></tr><tr><td>581023</td><td>20713</td><td>JUMBO BAG OWLS</td><td>3</td><td>12/7/2011 10:35</td><td>4.13</td><td>null</td><td>United Kingdom</td><td>Brak danych</td></tr><tr><td>581023</td><td>20717</td><td>STRAWBERRY SHOPPER BAG</td><td>3</td><td>12/7/2011 10:35</td><td>2.46</td><td>null</td><td>United Kingdom</td><td>Brak danych</td></tr><tr><td>581023</td><td>20718</td><td>RED RETROSPOT SHOPPER BAG</td><td>2</td><td>12/7/2011 10:35</td><td>3.29</td><td>null</td><td>United Kingdom</td><td>Brak danych</td></tr><tr><td>581023</td><td>20726</td><td>LUNCH BAG WOODLAND</td><td>4</td><td>12/7/2011 10:35</td><td>4.13</td><td>null</td><td>United Kingdom</td><td>Brak danych</td></tr><tr><td>581023</td><td>20728</td><td>LUNCH BAG CARS BLUE</td><td>3</td><td>12/7/2011 10:35</td><td>4.13</td><td>null</td><td>United Kingdom</td><td>Brak danych</td></tr><tr><td>581023</td><td>20749</td><td>ASSORTED COLOUR MINI CASES</td><td>1</td><td>12/7/2011 10:35</td><td>16.63</td><td>null</td><td>United Kingdom</td><td>Brak danych</td></tr><tr><td>581023</td><td>20936</td><td>FORKED CACTUS CANDLE</td><td>1</td><td>12/7/2011 10:35</td><td>5.79</td><td>null</td><td>United Kingdom</td><td>Brak danych</td></tr></tbody></table></div>"
      ]
     },
     "metadata": {
      "application/vnd.databricks.v1+output": {
       "addedWidgets": {},
       "aggData": [],
       "aggError": "",
       "aggOverflow": false,
       "aggSchema": [],
       "aggSeriesLimitReached": false,
       "aggType": "",
       "arguments": {},
       "columnCustomDisplayInfos": {},
       "data": [
        [
         "581023",
         "20674",
         "GREEN POLKADOT BOWL",
         4,
         "12/7/2011 10:35",
         2.46,
         null,
         "United Kingdom",
         "Brak danych"
        ],
        [
         "581023",
         "20685",
         "DOORMAT RED RETROSPOT",
         1,
         "12/7/2011 10:35",
         16.63,
         null,
         "United Kingdom",
         "Brak danych"
        ],
        [
         "581023",
         "20712",
         "JUMBO BAG WOODLAND ANIMALS",
         7,
         "12/7/2011 10:35",
         4.13,
         null,
         "United Kingdom",
         "Brak danych"
        ],
        [
         "581023",
         "20713",
         "JUMBO BAG OWLS",
         3,
         "12/7/2011 10:35",
         4.13,
         null,
         "United Kingdom",
         "Brak danych"
        ],
        [
         "581023",
         "20717",
         "STRAWBERRY SHOPPER BAG",
         3,
         "12/7/2011 10:35",
         2.46,
         null,
         "United Kingdom",
         "Brak danych"
        ],
        [
         "581023",
         "20718",
         "RED RETROSPOT SHOPPER BAG",
         2,
         "12/7/2011 10:35",
         3.29,
         null,
         "United Kingdom",
         "Brak danych"
        ],
        [
         "581023",
         "20726",
         "LUNCH BAG WOODLAND",
         4,
         "12/7/2011 10:35",
         4.13,
         null,
         "United Kingdom",
         "Brak danych"
        ],
        [
         "581023",
         "20728",
         "LUNCH BAG CARS BLUE",
         3,
         "12/7/2011 10:35",
         4.13,
         null,
         "United Kingdom",
         "Brak danych"
        ],
        [
         "581023",
         "20749",
         "ASSORTED COLOUR MINI CASES",
         1,
         "12/7/2011 10:35",
         16.63,
         null,
         "United Kingdom",
         "Brak danych"
        ],
        [
         "581023",
         "20936",
         "FORKED CACTUS CANDLE",
         1,
         "12/7/2011 10:35",
         5.79,
         null,
         "United Kingdom",
         "Brak danych"
        ]
       ],
       "datasetInfos": [],
       "dbfsResultPath": null,
       "isJsonSchema": true,
       "metadata": {},
       "overflow": false,
       "plotOptions": {
        "customPlotOptions": {},
        "displayType": "table",
        "pivotAggregation": null,
        "pivotColumns": null,
        "xColumns": null,
        "yColumns": null
       },
       "removedWidgets": [],
       "schema": [
        {
         "metadata": "{}",
         "name": "InvoiceNo",
         "type": "\"string\""
        },
        {
         "metadata": "{}",
         "name": "StockCode",
         "type": "\"string\""
        },
        {
         "metadata": "{}",
         "name": "Description",
         "type": "\"string\""
        },
        {
         "metadata": "{}",
         "name": "Quantity",
         "type": "\"integer\""
        },
        {
         "metadata": "{}",
         "name": "InvoiceDate",
         "type": "\"string\""
        },
        {
         "metadata": "{}",
         "name": "UnitPrice",
         "type": "\"double\""
        },
        {
         "metadata": "{}",
         "name": "CustomerID",
         "type": "\"integer\""
        },
        {
         "metadata": "{}",
         "name": "Country",
         "type": "\"string\""
        },
        {
         "metadata": "{}",
         "name": "CustomerID_ifnull",
         "type": "\"string\""
        }
       ],
       "type": "table"
      }
     },
     "output_type": "display_data"
    }
   ],
   "source": [
    "display(df.withColumn(\"CustomerID_ifnull\", expr(\"ifnull(CustomerID, 'Brak danych')\")).filter(col('InvoiceNo')==581023).limit(10))\n",
    "     "
   ]
  },
  {
   "cell_type": "code",
   "execution_count": 0,
   "metadata": {
    "application/vnd.databricks.v1+cell": {
     "cellMetadata": {
      "byteLimit": 2048000,
      "rowLimit": 10000
     },
     "inputWidgets": {},
     "nuid": "ede93b00-a0a2-47ab-9610-004a154d61ff",
     "showTitle": false,
     "tableResultSettingsMap": {},
     "title": ""
    }
   },
   "outputs": [
    {
     "output_type": "display_data",
     "data": {
      "text/html": [
       "<style scoped>\n",
       "  .table-result-container {\n",
       "    max-height: 300px;\n",
       "    overflow: auto;\n",
       "  }\n",
       "  table, th, td {\n",
       "    border: 1px solid black;\n",
       "    border-collapse: collapse;\n",
       "  }\n",
       "  th, td {\n",
       "    padding: 5px;\n",
       "  }\n",
       "  th {\n",
       "    text-align: left;\n",
       "  }\n",
       "</style><div class='table-result-container'><table class='table-result'><thead style='background-color: white'><tr><th>InvoiceNo</th><th>StockCode</th><th>Description</th><th>Quantity</th><th>InvoiceDate</th><th>UnitPrice</th><th>CustomerID</th><th>Country</th><th>Country_NullIf</th></tr></thead><tbody><tr><td>536527</td><td>22809</td><td>SET OF 6 T-LIGHTS SANTA</td><td>6</td><td>12/1/2010 13:04</td><td>2.95</td><td>12662</td><td>Germany</td><td>null</td></tr><tr><td>536527</td><td>84347</td><td>ROTATING SILVER ANGELS T-LIGHT HLDR</td><td>6</td><td>12/1/2010 13:04</td><td>2.55</td><td>12662</td><td>Germany</td><td>null</td></tr><tr><td>536527</td><td>84945</td><td>MULTI COLOUR SILVER T-LIGHT HOLDER</td><td>12</td><td>12/1/2010 13:04</td><td>0.85</td><td>12662</td><td>Germany</td><td>null</td></tr><tr><td>536527</td><td>22242</td><td>5 HOOK HANGER MAGIC TOADSTOOL</td><td>12</td><td>12/1/2010 13:04</td><td>1.65</td><td>12662</td><td>Germany</td><td>null</td></tr><tr><td>536527</td><td>22244</td><td>3 HOOK HANGER MAGIC GARDEN</td><td>12</td><td>12/1/2010 13:04</td><td>1.95</td><td>12662</td><td>Germany</td><td>null</td></tr><tr><td>536527</td><td>22243</td><td>5 HOOK HANGER RED MAGIC TOADSTOOL</td><td>12</td><td>12/1/2010 13:04</td><td>1.65</td><td>12662</td><td>Germany</td><td>null</td></tr><tr><td>536527</td><td>47421</td><td>ASSORTED COLOUR LIZARD SUCTION HOOK</td><td>24</td><td>12/1/2010 13:04</td><td>0.42</td><td>12662</td><td>Germany</td><td>null</td></tr><tr><td>536527</td><td>20712</td><td>JUMBO BAG WOODLAND ANIMALS</td><td>10</td><td>12/1/2010 13:04</td><td>1.95</td><td>12662</td><td>Germany</td><td>null</td></tr><tr><td>536527</td><td>20713</td><td>JUMBO BAG OWLS</td><td>10</td><td>12/1/2010 13:04</td><td>1.95</td><td>12662</td><td>Germany</td><td>null</td></tr><tr><td>536527</td><td>22837</td><td>HOT WATER BOTTLE BABUSHKA </td><td>4</td><td>12/1/2010 13:04</td><td>4.65</td><td>12662</td><td>Germany</td><td>null</td></tr></tbody></table></div>"
      ]
     },
     "metadata": {
      "application/vnd.databricks.v1+output": {
       "addedWidgets": {},
       "aggData": [],
       "aggError": "",
       "aggOverflow": false,
       "aggSchema": [],
       "aggSeriesLimitReached": false,
       "aggType": "",
       "arguments": {},
       "columnCustomDisplayInfos": {},
       "data": [
        [
         "536527",
         "22809",
         "SET OF 6 T-LIGHTS SANTA",
         6,
         "12/1/2010 13:04",
         2.95,
         12662,
         "Germany",
         null
        ],
        [
         "536527",
         "84347",
         "ROTATING SILVER ANGELS T-LIGHT HLDR",
         6,
         "12/1/2010 13:04",
         2.55,
         12662,
         "Germany",
         null
        ],
        [
         "536527",
         "84945",
         "MULTI COLOUR SILVER T-LIGHT HOLDER",
         12,
         "12/1/2010 13:04",
         0.85,
         12662,
         "Germany",
         null
        ],
        [
         "536527",
         "22242",
         "5 HOOK HANGER MAGIC TOADSTOOL",
         12,
         "12/1/2010 13:04",
         1.65,
         12662,
         "Germany",
         null
        ],
        [
         "536527",
         "22244",
         "3 HOOK HANGER MAGIC GARDEN",
         12,
         "12/1/2010 13:04",
         1.95,
         12662,
         "Germany",
         null
        ],
        [
         "536527",
         "22243",
         "5 HOOK HANGER RED MAGIC TOADSTOOL",
         12,
         "12/1/2010 13:04",
         1.65,
         12662,
         "Germany",
         null
        ],
        [
         "536527",
         "47421",
         "ASSORTED COLOUR LIZARD SUCTION HOOK",
         24,
         "12/1/2010 13:04",
         0.42,
         12662,
         "Germany",
         null
        ],
        [
         "536527",
         "20712",
         "JUMBO BAG WOODLAND ANIMALS",
         10,
         "12/1/2010 13:04",
         1.95,
         12662,
         "Germany",
         null
        ],
        [
         "536527",
         "20713",
         "JUMBO BAG OWLS",
         10,
         "12/1/2010 13:04",
         1.95,
         12662,
         "Germany",
         null
        ],
        [
         "536527",
         "22837",
         "HOT WATER BOTTLE BABUSHKA ",
         4,
         "12/1/2010 13:04",
         4.65,
         12662,
         "Germany",
         null
        ]
       ],
       "datasetInfos": [],
       "dbfsResultPath": null,
       "isJsonSchema": true,
       "metadata": {},
       "overflow": false,
       "plotOptions": {
        "customPlotOptions": {},
        "displayType": "table",
        "pivotAggregation": null,
        "pivotColumns": null,
        "xColumns": null,
        "yColumns": null
       },
       "removedWidgets": [],
       "schema": [
        {
         "metadata": "{}",
         "name": "InvoiceNo",
         "type": "\"string\""
        },
        {
         "metadata": "{}",
         "name": "StockCode",
         "type": "\"string\""
        },
        {
         "metadata": "{}",
         "name": "Description",
         "type": "\"string\""
        },
        {
         "metadata": "{}",
         "name": "Quantity",
         "type": "\"integer\""
        },
        {
         "metadata": "{}",
         "name": "InvoiceDate",
         "type": "\"string\""
        },
        {
         "metadata": "{}",
         "name": "UnitPrice",
         "type": "\"double\""
        },
        {
         "metadata": "{}",
         "name": "CustomerID",
         "type": "\"integer\""
        },
        {
         "metadata": "{}",
         "name": "Country",
         "type": "\"string\""
        },
        {
         "metadata": "{}",
         "name": "Country_NullIf",
         "type": "\"string\""
        }
       ],
       "type": "table"
      }
     },
     "output_type": "display_data"
    }
   ],
   "source": [
    "display(df.withColumn(\"Country_NullIf\", expr(\"nullIf(Country, 'Germany')\")).filter(col('Country')==\"Germany\").limit(10))"
   ]
  },
  {
   "cell_type": "code",
   "execution_count": 0,
   "metadata": {
    "application/vnd.databricks.v1+cell": {
     "cellMetadata": {
      "byteLimit": 2048000,
      "rowLimit": 10000
     },
     "inputWidgets": {},
     "nuid": "0050d168-6cd5-4662-9376-bf63eab096e2",
     "showTitle": false,
     "tableResultSettingsMap": {},
     "title": ""
    }
   },
   "outputs": [
    {
     "output_type": "display_data",
     "data": {
      "text/html": [
       "<style scoped>\n",
       "  .table-result-container {\n",
       "    max-height: 300px;\n",
       "    overflow: auto;\n",
       "  }\n",
       "  table, th, td {\n",
       "    border: 1px solid black;\n",
       "    border-collapse: collapse;\n",
       "  }\n",
       "  th, td {\n",
       "    padding: 5px;\n",
       "  }\n",
       "  th {\n",
       "    text-align: left;\n",
       "  }\n",
       "</style><div class='table-result-container'><table class='table-result'><thead style='background-color: white'><tr><th>InvoiceNo</th><th>StockCode</th><th>Description</th><th>Quantity</th><th>InvoiceDate</th><th>UnitPrice</th><th>CustomerID</th><th>Country</th></tr></thead><tbody><tr><td>536527</td><td>22809</td><td>SET OF 6 T-LIGHTS SANTA</td><td>6</td><td>12/1/2010 13:04</td><td>2.95</td><td>12662</td><td>Niemcy</td></tr><tr><td>536527</td><td>84347</td><td>ROTATING SILVER ANGELS T-LIGHT HLDR</td><td>6</td><td>12/1/2010 13:04</td><td>2.55</td><td>12662</td><td>Niemcy</td></tr><tr><td>536527</td><td>84945</td><td>MULTI COLOUR SILVER T-LIGHT HOLDER</td><td>12</td><td>12/1/2010 13:04</td><td>0.85</td><td>12662</td><td>Niemcy</td></tr><tr><td>536527</td><td>22242</td><td>5 HOOK HANGER MAGIC TOADSTOOL</td><td>12</td><td>12/1/2010 13:04</td><td>1.65</td><td>12662</td><td>Niemcy</td></tr><tr><td>536527</td><td>22244</td><td>3 HOOK HANGER MAGIC GARDEN</td><td>12</td><td>12/1/2010 13:04</td><td>1.95</td><td>12662</td><td>Niemcy</td></tr><tr><td>536527</td><td>22243</td><td>5 HOOK HANGER RED MAGIC TOADSTOOL</td><td>12</td><td>12/1/2010 13:04</td><td>1.65</td><td>12662</td><td>Niemcy</td></tr><tr><td>536527</td><td>47421</td><td>ASSORTED COLOUR LIZARD SUCTION HOOK</td><td>24</td><td>12/1/2010 13:04</td><td>0.42</td><td>12662</td><td>Niemcy</td></tr><tr><td>536527</td><td>20712</td><td>JUMBO BAG WOODLAND ANIMALS</td><td>10</td><td>12/1/2010 13:04</td><td>1.95</td><td>12662</td><td>Niemcy</td></tr><tr><td>536527</td><td>20713</td><td>JUMBO BAG OWLS</td><td>10</td><td>12/1/2010 13:04</td><td>1.95</td><td>12662</td><td>Niemcy</td></tr><tr><td>536527</td><td>22837</td><td>HOT WATER BOTTLE BABUSHKA </td><td>4</td><td>12/1/2010 13:04</td><td>4.65</td><td>12662</td><td>Niemcy</td></tr></tbody></table></div>"
      ]
     },
     "metadata": {
      "application/vnd.databricks.v1+output": {
       "addedWidgets": {},
       "aggData": [],
       "aggError": "",
       "aggOverflow": false,
       "aggSchema": [],
       "aggSeriesLimitReached": false,
       "aggType": "",
       "arguments": {},
       "columnCustomDisplayInfos": {},
       "data": [
        [
         "536527",
         "22809",
         "SET OF 6 T-LIGHTS SANTA",
         6,
         "12/1/2010 13:04",
         2.95,
         12662,
         "Niemcy"
        ],
        [
         "536527",
         "84347",
         "ROTATING SILVER ANGELS T-LIGHT HLDR",
         6,
         "12/1/2010 13:04",
         2.55,
         12662,
         "Niemcy"
        ],
        [
         "536527",
         "84945",
         "MULTI COLOUR SILVER T-LIGHT HOLDER",
         12,
         "12/1/2010 13:04",
         0.85,
         12662,
         "Niemcy"
        ],
        [
         "536527",
         "22242",
         "5 HOOK HANGER MAGIC TOADSTOOL",
         12,
         "12/1/2010 13:04",
         1.65,
         12662,
         "Niemcy"
        ],
        [
         "536527",
         "22244",
         "3 HOOK HANGER MAGIC GARDEN",
         12,
         "12/1/2010 13:04",
         1.95,
         12662,
         "Niemcy"
        ],
        [
         "536527",
         "22243",
         "5 HOOK HANGER RED MAGIC TOADSTOOL",
         12,
         "12/1/2010 13:04",
         1.65,
         12662,
         "Niemcy"
        ],
        [
         "536527",
         "47421",
         "ASSORTED COLOUR LIZARD SUCTION HOOK",
         24,
         "12/1/2010 13:04",
         0.42,
         12662,
         "Niemcy"
        ],
        [
         "536527",
         "20712",
         "JUMBO BAG WOODLAND ANIMALS",
         10,
         "12/1/2010 13:04",
         1.95,
         12662,
         "Niemcy"
        ],
        [
         "536527",
         "20713",
         "JUMBO BAG OWLS",
         10,
         "12/1/2010 13:04",
         1.95,
         12662,
         "Niemcy"
        ],
        [
         "536527",
         "22837",
         "HOT WATER BOTTLE BABUSHKA ",
         4,
         "12/1/2010 13:04",
         4.65,
         12662,
         "Niemcy"
        ]
       ],
       "datasetInfos": [],
       "dbfsResultPath": null,
       "isJsonSchema": true,
       "metadata": {},
       "overflow": false,
       "plotOptions": {
        "customPlotOptions": {},
        "displayType": "table",
        "pivotAggregation": null,
        "pivotColumns": null,
        "xColumns": null,
        "yColumns": null
       },
       "removedWidgets": [],
       "schema": [
        {
         "metadata": "{}",
         "name": "InvoiceNo",
         "type": "\"string\""
        },
        {
         "metadata": "{}",
         "name": "StockCode",
         "type": "\"string\""
        },
        {
         "metadata": "{}",
         "name": "Description",
         "type": "\"string\""
        },
        {
         "metadata": "{}",
         "name": "Quantity",
         "type": "\"integer\""
        },
        {
         "metadata": "{}",
         "name": "InvoiceDate",
         "type": "\"string\""
        },
        {
         "metadata": "{}",
         "name": "UnitPrice",
         "type": "\"double\""
        },
        {
         "metadata": "{}",
         "name": "CustomerID",
         "type": "\"integer\""
        },
        {
         "metadata": "{}",
         "name": "Country",
         "type": "\"string\""
        }
       ],
       "type": "table"
      }
     },
     "output_type": "display_data"
    }
   ],
   "source": [
    "\n",
    "display(df.replace({\"Germany\": \"Niemcy\"}, subset=[\"Country\"]).filter(col('Country')==\"Niemcy\").limit(10))"
   ]
  },
  {
   "cell_type": "code",
   "execution_count": 0,
   "metadata": {
    "application/vnd.databricks.v1+cell": {
     "cellMetadata": {
      "byteLimit": 2048000,
      "rowLimit": 10000
     },
     "inputWidgets": {},
     "nuid": "a12cb70f-6c62-493b-a6a7-c3b61a35d0db",
     "showTitle": false,
     "tableResultSettingsMap": {},
     "title": ""
    }
   },
   "outputs": [
    {
     "output_type": "display_data",
     "data": {
      "text/html": [
       "<style scoped>\n",
       "  .table-result-container {\n",
       "    max-height: 300px;\n",
       "    overflow: auto;\n",
       "  }\n",
       "  table, th, td {\n",
       "    border: 1px solid black;\n",
       "    border-collapse: collapse;\n",
       "  }\n",
       "  th, td {\n",
       "    padding: 5px;\n",
       "  }\n",
       "  th {\n",
       "    text-align: left;\n",
       "  }\n",
       "</style><div class='table-result-container'><table class='table-result'><thead style='background-color: white'><tr><th>array_contains(split(Description,  , -1), WHITE)</th></tr></thead><tbody><tr><td>true</td></tr><tr><td>true</td></tr><tr><td>false</td></tr><tr><td>false</td></tr><tr><td>true</td></tr><tr><td>false</td></tr><tr><td>false</td></tr><tr><td>false</td></tr><tr><td>false</td></tr><tr><td>false</td></tr></tbody></table></div>"
      ]
     },
     "metadata": {
      "application/vnd.databricks.v1+output": {
       "addedWidgets": {},
       "aggData": [],
       "aggError": "",
       "aggOverflow": false,
       "aggSchema": [],
       "aggSeriesLimitReached": false,
       "aggType": "",
       "arguments": {},
       "columnCustomDisplayInfos": {},
       "data": [
        [
         true
        ],
        [
         true
        ],
        [
         false
        ],
        [
         false
        ],
        [
         true
        ],
        [
         false
        ],
        [
         false
        ],
        [
         false
        ],
        [
         false
        ],
        [
         false
        ]
       ],
       "datasetInfos": [],
       "dbfsResultPath": null,
       "isJsonSchema": true,
       "metadata": {},
       "overflow": false,
       "plotOptions": {
        "customPlotOptions": {},
        "displayType": "table",
        "pivotAggregation": null,
        "pivotColumns": null,
        "xColumns": null,
        "yColumns": null
       },
       "removedWidgets": [],
       "schema": [
        {
         "metadata": "{}",
         "name": "array_contains(split(Description,  , -1), WHITE)",
         "type": "\"boolean\""
        }
       ],
       "type": "table"
      }
     },
     "output_type": "display_data"
    }
   ],
   "source": [
    "display(df.select(array_contains(split(col(\"Description\"),\" \"), \"WHITE\")).limit(10))"
   ]
  },
  {
   "cell_type": "code",
   "execution_count": 0,
   "metadata": {
    "application/vnd.databricks.v1+cell": {
     "cellMetadata": {
      "byteLimit": 2048000,
      "rowLimit": 10000
     },
     "inputWidgets": {},
     "nuid": "5f57af1e-d097-4ed1-8359-2a42816495d7",
     "showTitle": false,
     "tableResultSettingsMap": {},
     "title": ""
    }
   },
   "outputs": [
    {
     "output_type": "display_data",
     "data": {
      "text/html": [
       "<style scoped>\n",
       "  .table-result-container {\n",
       "    max-height: 300px;\n",
       "    overflow: auto;\n",
       "  }\n",
       "  table, th, td {\n",
       "    border: 1px solid black;\n",
       "    border-collapse: collapse;\n",
       "  }\n",
       "  th, td {\n",
       "    padding: 5px;\n",
       "  }\n",
       "  th {\n",
       "    text-align: left;\n",
       "  }\n",
       "</style><div class='table-result-container'><table class='table-result'><thead style='background-color: white'><tr><th>Średnia cena</th></tr></thead><tbody><tr><td>3.4604710185365173</td></tr></tbody></table></div>"
      ]
     },
     "metadata": {
      "application/vnd.databricks.v1+output": {
       "addedWidgets": {},
       "aggData": [],
       "aggError": "",
       "aggOverflow": false,
       "aggSchema": [],
       "aggSeriesLimitReached": false,
       "aggType": "",
       "arguments": {},
       "columnCustomDisplayInfos": {},
       "data": [
        [
         3.4604710185365173
        ]
       ],
       "datasetInfos": [],
       "dbfsResultPath": null,
       "isJsonSchema": true,
       "metadata": {},
       "overflow": false,
       "plotOptions": {
        "customPlotOptions": {},
        "displayType": "table",
        "pivotAggregation": null,
        "pivotColumns": null,
        "xColumns": null,
        "yColumns": null
       },
       "removedWidgets": [],
       "schema": [
        {
         "metadata": "{}",
         "name": "Średnia cena",
         "type": "\"double\""
        }
       ],
       "type": "table"
      }
     },
     "output_type": "display_data"
    }
   ],
   "source": [
    "display(df_dropna.select(avg(\"UnitPrice\").alias(\"Średnia cena\")))"
   ]
  },
  {
   "cell_type": "code",
   "execution_count": 0,
   "metadata": {
    "application/vnd.databricks.v1+cell": {
     "cellMetadata": {
      "byteLimit": 2048000,
      "rowLimit": 10000
     },
     "inputWidgets": {},
     "nuid": "9fc3c5ee-8c91-4000-a7f1-9a7faa48b6e7",
     "showTitle": false,
     "tableResultSettingsMap": {},
     "title": ""
    }
   },
   "outputs": [
    {
     "output_type": "display_data",
     "data": {
      "text/html": [
       "<style scoped>\n",
       "  .table-result-container {\n",
       "    max-height: 300px;\n",
       "    overflow: auto;\n",
       "  }\n",
       "  table, th, td {\n",
       "    border: 1px solid black;\n",
       "    border-collapse: collapse;\n",
       "  }\n",
       "  th, td {\n",
       "    padding: 5px;\n",
       "  }\n",
       "  th {\n",
       "    text-align: left;\n",
       "  }\n",
       "</style><div class='table-result-container'><table class='table-result'><thead style='background-color: white'><tr><th>Liczba faktur</th></tr></thead><tbody><tr><td>22190</td></tr></tbody></table></div>"
      ]
     },
     "metadata": {
      "application/vnd.databricks.v1+output": {
       "addedWidgets": {},
       "aggData": [],
       "aggError": "",
       "aggOverflow": false,
       "aggSchema": [],
       "aggSeriesLimitReached": false,
       "aggType": "",
       "arguments": {},
       "columnCustomDisplayInfos": {},
       "data": [
        [
         22190
        ]
       ],
       "datasetInfos": [],
       "dbfsResultPath": null,
       "isJsonSchema": true,
       "metadata": {},
       "overflow": false,
       "plotOptions": {
        "customPlotOptions": {},
        "displayType": "table",
        "pivotAggregation": null,
        "pivotColumns": null,
        "xColumns": null,
        "yColumns": null
       },
       "removedWidgets": [],
       "schema": [
        {
         "metadata": "{}",
         "name": "Liczba faktur",
         "type": "\"long\""
        }
       ],
       "type": "table"
      }
     },
     "output_type": "display_data"
    }
   ],
   "source": [
    "display(df_dropna.select(countDistinct(\"InvoiceNo\").alias(\"Liczba faktur\")))"
   ]
  },
  {
   "cell_type": "code",
   "execution_count": 0,
   "metadata": {
    "application/vnd.databricks.v1+cell": {
     "cellMetadata": {
      "byteLimit": 2048000,
      "rowLimit": 10000
     },
     "inputWidgets": {},
     "nuid": "3f2a0a9c-3dcc-4938-b169-1ea1da494a37",
     "showTitle": false,
     "tableResultSettingsMap": {},
     "title": ""
    }
   },
   "outputs": [
    {
     "output_type": "display_data",
     "data": {
      "text/html": [
       "<style scoped>\n",
       "  .table-result-container {\n",
       "    max-height: 300px;\n",
       "    overflow: auto;\n",
       "  }\n",
       "  table, th, td {\n",
       "    border: 1px solid black;\n",
       "    border-collapse: collapse;\n",
       "  }\n",
       "  th, td {\n",
       "    padding: 5px;\n",
       "  }\n",
       "  th {\n",
       "    text-align: left;\n",
       "  }\n",
       "</style><div class='table-result-container'><table class='table-result'><thead style='background-color: white'><tr><th>Country</th><th>Średnia cena na kraj</th></tr></thead><tbody><tr><td>Sweden</td><td>3.910887445887446</td></tr><tr><td>Singapore</td><td>109.64580786026201</td></tr><tr><td>Germany</td><td>3.9669299631384702</td></tr><tr><td>France</td><td>5.049021316688251</td></tr><tr><td>Greece</td><td>4.885547945205479</td></tr><tr><td>Belgium</td><td>3.6443354277428748</td></tr><tr><td>Finland</td><td>5.448705035971222</td></tr><tr><td>Italy</td><td>4.831120797011209</td></tr><tr><td>EIRE</td><td>5.11069873079493</td></tr><tr><td>Lithuania</td><td>2.8411428571428576</td></tr><tr><td>Norway</td><td>6.012025782688769</td></tr><tr><td>Spain</td><td>4.987544413738652</td></tr><tr><td>Denmark</td><td>3.2569408740359904</td></tr><tr><td>Iceland</td><td>2.6440109890109893</td></tr><tr><td>Israel</td><td>3.6500000000000012</td></tr><tr><td>Channel Islands</td><td>4.932124010554089</td></tr><tr><td>Cyprus</td><td>6.302363344051452</td></tr><tr><td>Switzerland</td><td>3.4995205114544525</td></tr><tr><td>Lebanon</td><td>5.387555555555553</td></tr><tr><td>Japan</td><td>2.276145251396648</td></tr><tr><td>Poland</td><td>4.170879765395893</td></tr><tr><td>Portugal</td><td>8.73639189189189</td></tr><tr><td>Australia</td><td>3.2206115965051625</td></tr><tr><td>Austria</td><td>4.243192019950122</td></tr><tr><td>United Kingdom</td><td>3.2560068973521874</td></tr><tr><td>Netherlands</td><td>2.738317165752849</td></tr><tr><td>Saudi Arabia</td><td>2.411</td></tr><tr><td>United Arab Emirates</td><td>3.3807352941176467</td></tr><tr><td>Canada</td><td>6.0303311258278125</td></tr><tr><td>Czech Republic</td><td>2.938333333333333</td></tr><tr><td>European Community</td><td>4.820491803278688</td></tr><tr><td>Malta</td><td>5.2441732283464555</td></tr><tr><td>Unspecified</td><td>3.2008196721311455</td></tr><tr><td>USA</td><td>2.216426116838487</td></tr><tr><td>Brazil</td><td>4.456250000000001</td></tr><tr><td>Bahrain</td><td>4.644117647058825</td></tr><tr><td>RSA</td><td>4.277586206896552</td></tr></tbody></table></div>"
      ]
     },
     "metadata": {
      "application/vnd.databricks.v1+output": {
       "addedWidgets": {},
       "aggData": [],
       "aggError": "",
       "aggOverflow": false,
       "aggSchema": [],
       "aggSeriesLimitReached": false,
       "aggType": "",
       "arguments": {},
       "columnCustomDisplayInfos": {},
       "data": [
        [
         "Sweden",
         3.910887445887446
        ],
        [
         "Singapore",
         109.64580786026201
        ],
        [
         "Germany",
         3.9669299631384702
        ],
        [
         "France",
         5.049021316688251
        ],
        [
         "Greece",
         4.885547945205479
        ],
        [
         "Belgium",
         3.6443354277428748
        ],
        [
         "Finland",
         5.448705035971222
        ],
        [
         "Italy",
         4.831120797011209
        ],
        [
         "EIRE",
         5.11069873079493
        ],
        [
         "Lithuania",
         2.8411428571428576
        ],
        [
         "Norway",
         6.012025782688769
        ],
        [
         "Spain",
         4.987544413738652
        ],
        [
         "Denmark",
         3.2569408740359904
        ],
        [
         "Iceland",
         2.6440109890109893
        ],
        [
         "Israel",
         3.6500000000000012
        ],
        [
         "Channel Islands",
         4.932124010554089
        ],
        [
         "Cyprus",
         6.302363344051452
        ],
        [
         "Switzerland",
         3.4995205114544525
        ],
        [
         "Lebanon",
         5.387555555555553
        ],
        [
         "Japan",
         2.276145251396648
        ],
        [
         "Poland",
         4.170879765395893
        ],
        [
         "Portugal",
         8.73639189189189
        ],
        [
         "Australia",
         3.2206115965051625
        ],
        [
         "Austria",
         4.243192019950122
        ],
        [
         "United Kingdom",
         3.2560068973521874
        ],
        [
         "Netherlands",
         2.738317165752849
        ],
        [
         "Saudi Arabia",
         2.411
        ],
        [
         "United Arab Emirates",
         3.3807352941176467
        ],
        [
         "Canada",
         6.0303311258278125
        ],
        [
         "Czech Republic",
         2.938333333333333
        ],
        [
         "European Community",
         4.820491803278688
        ],
        [
         "Malta",
         5.2441732283464555
        ],
        [
         "Unspecified",
         3.2008196721311455
        ],
        [
         "USA",
         2.216426116838487
        ],
        [
         "Brazil",
         4.456250000000001
        ],
        [
         "Bahrain",
         4.644117647058825
        ],
        [
         "RSA",
         4.277586206896552
        ]
       ],
       "datasetInfos": [],
       "dbfsResultPath": null,
       "isJsonSchema": true,
       "metadata": {},
       "overflow": false,
       "plotOptions": {
        "customPlotOptions": {},
        "displayType": "table",
        "pivotAggregation": null,
        "pivotColumns": null,
        "xColumns": null,
        "yColumns": null
       },
       "removedWidgets": [],
       "schema": [
        {
         "metadata": "{}",
         "name": "Country",
         "type": "\"string\""
        },
        {
         "metadata": "{}",
         "name": "Średnia cena na kraj",
         "type": "\"double\""
        }
       ],
       "type": "table"
      }
     },
     "output_type": "display_data"
    }
   ],
   "source": [
    "display(df_dropna.groupBy(\"Country\").agg(avg(\"UnitPrice\").alias(\"Średnia cena na kraj\")))"
   ]
  },
  {
   "cell_type": "markdown",
   "metadata": {
    "application/vnd.databricks.v1+cell": {
     "cellMetadata": {},
     "inputWidgets": {},
     "nuid": "8fc616c7-302a-4fbe-82cf-760906c46b73",
     "showTitle": false,
     "tableResultSettingsMap": {},
     "title": ""
    }
   },
   "source": [
    "## ZAD 2"
   ]
  },
  {
   "cell_type": "code",
   "execution_count": 0,
   "metadata": {
    "application/vnd.databricks.v1+cell": {
     "cellMetadata": {
      "byteLimit": 2048000,
      "rowLimit": 10000
     },
     "inputWidgets": {},
     "nuid": "855abc77-a1e4-4b5f-8d2b-3d13e0b8522d",
     "showTitle": false,
     "tableResultSettingsMap": {},
     "title": ""
    }
   },
   "outputs": [
    {
     "output_type": "display_data",
     "data": {
      "text/html": [
       "<style scoped>\n",
       "  .table-result-container {\n",
       "    max-height: 300px;\n",
       "    overflow: auto;\n",
       "  }\n",
       "  table, th, td {\n",
       "    border: 1px solid black;\n",
       "    border-collapse: collapse;\n",
       "  }\n",
       "  th, td {\n",
       "    padding: 5px;\n",
       "  }\n",
       "  th {\n",
       "    text-align: left;\n",
       "  }\n",
       "</style><div class='table-result-container'><table class='table-result'><thead style='background-color: white'><tr><th>InvoiceNo</th><th>StockCode</th><th>Description</th><th>Quantity</th><th>InvoiceDate</th><th>UnitPrice</th><th>CustomerID</th><th>Country</th><th>discount_price</th></tr></thead><tbody><tr><td>536365</td><td>85123A</td><td>WHITE HANGING HEART T-LIGHT HOLDER</td><td>6</td><td>12/1/2010 8:26</td><td>2.55</td><td>17850</td><td>United Kingdom</td><td>2.55</td></tr><tr><td>536365</td><td>71053</td><td>WHITE METAL LANTERN</td><td>6</td><td>12/1/2010 8:26</td><td>3.39</td><td>17850</td><td>United Kingdom</td><td>3.39</td></tr><tr><td>536365</td><td>84406B</td><td>CREAM CUPID HEARTS COAT HANGER</td><td>8</td><td>12/1/2010 8:26</td><td>2.75</td><td>17850</td><td>United Kingdom</td><td>2.75</td></tr><tr><td>536365</td><td>84029G</td><td>KNITTED UNION FLAG HOT WATER BOTTLE</td><td>6</td><td>12/1/2010 8:26</td><td>3.39</td><td>17850</td><td>United Kingdom</td><td>3.39</td></tr><tr><td>536365</td><td>84029E</td><td>RED WOOLLY HOTTIE WHITE HEART.</td><td>6</td><td>12/1/2010 8:26</td><td>3.39</td><td>17850</td><td>United Kingdom</td><td>3.39</td></tr><tr><td>536365</td><td>22752</td><td>SET 7 BABUSHKA NESTING BOXES</td><td>2</td><td>12/1/2010 8:26</td><td>7.65</td><td>17850</td><td>United Kingdom</td><td>7.65</td></tr><tr><td>536365</td><td>21730</td><td>GLASS STAR FROSTED T-LIGHT HOLDER</td><td>6</td><td>12/1/2010 8:26</td><td>4.25</td><td>17850</td><td>United Kingdom</td><td>4.25</td></tr><tr><td>536366</td><td>22633</td><td>HAND WARMER UNION JACK</td><td>6</td><td>12/1/2010 8:28</td><td>1.85</td><td>17850</td><td>United Kingdom</td><td>1.85</td></tr><tr><td>536366</td><td>22632</td><td>HAND WARMER RED POLKA DOT</td><td>6</td><td>12/1/2010 8:28</td><td>1.85</td><td>17850</td><td>United Kingdom</td><td>1.85</td></tr><tr><td>536367</td><td>84879</td><td>ASSORTED COLOUR BIRD ORNAMENT</td><td>32</td><td>12/1/2010 8:34</td><td>1.69</td><td>13047</td><td>United Kingdom</td><td>1.521</td></tr></tbody></table></div>"
      ]
     },
     "metadata": {
      "application/vnd.databricks.v1+output": {
       "addedWidgets": {},
       "aggData": [],
       "aggError": "",
       "aggOverflow": false,
       "aggSchema": [],
       "aggSeriesLimitReached": false,
       "aggType": "",
       "arguments": {},
       "columnCustomDisplayInfos": {},
       "data": [
        [
         "536365",
         "85123A",
         "WHITE HANGING HEART T-LIGHT HOLDER",
         6,
         "12/1/2010 8:26",
         2.55,
         17850,
         "United Kingdom",
         2.55
        ],
        [
         "536365",
         "71053",
         "WHITE METAL LANTERN",
         6,
         "12/1/2010 8:26",
         3.39,
         17850,
         "United Kingdom",
         3.39
        ],
        [
         "536365",
         "84406B",
         "CREAM CUPID HEARTS COAT HANGER",
         8,
         "12/1/2010 8:26",
         2.75,
         17850,
         "United Kingdom",
         2.75
        ],
        [
         "536365",
         "84029G",
         "KNITTED UNION FLAG HOT WATER BOTTLE",
         6,
         "12/1/2010 8:26",
         3.39,
         17850,
         "United Kingdom",
         3.39
        ],
        [
         "536365",
         "84029E",
         "RED WOOLLY HOTTIE WHITE HEART.",
         6,
         "12/1/2010 8:26",
         3.39,
         17850,
         "United Kingdom",
         3.39
        ],
        [
         "536365",
         "22752",
         "SET 7 BABUSHKA NESTING BOXES",
         2,
         "12/1/2010 8:26",
         7.65,
         17850,
         "United Kingdom",
         7.65
        ],
        [
         "536365",
         "21730",
         "GLASS STAR FROSTED T-LIGHT HOLDER",
         6,
         "12/1/2010 8:26",
         4.25,
         17850,
         "United Kingdom",
         4.25
        ],
        [
         "536366",
         "22633",
         "HAND WARMER UNION JACK",
         6,
         "12/1/2010 8:28",
         1.85,
         17850,
         "United Kingdom",
         1.85
        ],
        [
         "536366",
         "22632",
         "HAND WARMER RED POLKA DOT",
         6,
         "12/1/2010 8:28",
         1.85,
         17850,
         "United Kingdom",
         1.85
        ],
        [
         "536367",
         "84879",
         "ASSORTED COLOUR BIRD ORNAMENT",
         32,
         "12/1/2010 8:34",
         1.69,
         13047,
         "United Kingdom",
         1.521
        ]
       ],
       "datasetInfos": [],
       "dbfsResultPath": null,
       "isJsonSchema": true,
       "metadata": {},
       "overflow": false,
       "plotOptions": {
        "customPlotOptions": {},
        "displayType": "table",
        "pivotAggregation": null,
        "pivotColumns": null,
        "xColumns": null,
        "yColumns": null
       },
       "removedWidgets": [],
       "schema": [
        {
         "metadata": "{}",
         "name": "InvoiceNo",
         "type": "\"string\""
        },
        {
         "metadata": "{}",
         "name": "StockCode",
         "type": "\"string\""
        },
        {
         "metadata": "{}",
         "name": "Description",
         "type": "\"string\""
        },
        {
         "metadata": "{}",
         "name": "Quantity",
         "type": "\"integer\""
        },
        {
         "metadata": "{}",
         "name": "InvoiceDate",
         "type": "\"string\""
        },
        {
         "metadata": "{}",
         "name": "UnitPrice",
         "type": "\"double\""
        },
        {
         "metadata": "{}",
         "name": "CustomerID",
         "type": "\"integer\""
        },
        {
         "metadata": "{}",
         "name": "Country",
         "type": "\"string\""
        },
        {
         "metadata": "{}",
         "name": "discount_price",
         "type": "\"double\""
        }
       ],
       "type": "table"
      }
     },
     "output_type": "display_data"
    }
   ],
   "source": [
    "def discounted_price(quantity, unit_price):\n",
    "    try:\n",
    "        return unit_price * 0.9 if quantity > 10 else unit_price\n",
    "    except:\n",
    "        return unit_price\n",
    "\n",
    "discounted_price_udf = udf(discounted_price, DoubleType())\n",
    "\n",
    "display(df_dropna.withColumn(\"discount_price\", discounted_price_udf(\"Quantity\", \"UnitPrice\")).limit(10))"
   ]
  },
  {
   "cell_type": "code",
   "execution_count": 0,
   "metadata": {
    "application/vnd.databricks.v1+cell": {
     "cellMetadata": {
      "byteLimit": 2048000,
      "rowLimit": 10000
     },
     "inputWidgets": {},
     "nuid": "9b0f674c-5f98-4a46-b933-499018b26f22",
     "showTitle": false,
     "tableResultSettingsMap": {},
     "title": ""
    }
   },
   "outputs": [
    {
     "output_type": "display_data",
     "data": {
      "text/html": [
       "<style scoped>\n",
       "  .table-result-container {\n",
       "    max-height: 300px;\n",
       "    overflow: auto;\n",
       "  }\n",
       "  table, th, td {\n",
       "    border: 1px solid black;\n",
       "    border-collapse: collapse;\n",
       "  }\n",
       "  th, td {\n",
       "    padding: 5px;\n",
       "  }\n",
       "  th {\n",
       "    text-align: left;\n",
       "  }\n",
       "</style><div class='table-result-container'><table class='table-result'><thead style='background-color: white'><tr><th>InvoiceNo</th><th>StockCode</th><th>Description</th><th>Quantity</th><th>InvoiceDate</th><th>UnitPrice</th><th>CustomerID</th><th>Country</th><th>value_category</th></tr></thead><tbody><tr><td>536365</td><td>85123A</td><td>WHITE HANGING HEART T-LIGHT HOLDER</td><td>6</td><td>12/1/2010 8:26</td><td>2.55</td><td>17850</td><td>United Kingdom</td><td>low</td></tr><tr><td>536365</td><td>71053</td><td>WHITE METAL LANTERN</td><td>6</td><td>12/1/2010 8:26</td><td>3.39</td><td>17850</td><td>United Kingdom</td><td>medium</td></tr><tr><td>536365</td><td>84406B</td><td>CREAM CUPID HEARTS COAT HANGER</td><td>8</td><td>12/1/2010 8:26</td><td>2.75</td><td>17850</td><td>United Kingdom</td><td>medium</td></tr><tr><td>536365</td><td>84029G</td><td>KNITTED UNION FLAG HOT WATER BOTTLE</td><td>6</td><td>12/1/2010 8:26</td><td>3.39</td><td>17850</td><td>United Kingdom</td><td>medium</td></tr><tr><td>536365</td><td>84029E</td><td>RED WOOLLY HOTTIE WHITE HEART.</td><td>6</td><td>12/1/2010 8:26</td><td>3.39</td><td>17850</td><td>United Kingdom</td><td>medium</td></tr><tr><td>536365</td><td>22752</td><td>SET 7 BABUSHKA NESTING BOXES</td><td>2</td><td>12/1/2010 8:26</td><td>7.65</td><td>17850</td><td>United Kingdom</td><td>low</td></tr><tr><td>536365</td><td>21730</td><td>GLASS STAR FROSTED T-LIGHT HOLDER</td><td>6</td><td>12/1/2010 8:26</td><td>4.25</td><td>17850</td><td>United Kingdom</td><td>medium</td></tr><tr><td>536366</td><td>22633</td><td>HAND WARMER UNION JACK</td><td>6</td><td>12/1/2010 8:28</td><td>1.85</td><td>17850</td><td>United Kingdom</td><td>low</td></tr><tr><td>536366</td><td>22632</td><td>HAND WARMER RED POLKA DOT</td><td>6</td><td>12/1/2010 8:28</td><td>1.85</td><td>17850</td><td>United Kingdom</td><td>low</td></tr><tr><td>536367</td><td>84879</td><td>ASSORTED COLOUR BIRD ORNAMENT</td><td>32</td><td>12/1/2010 8:34</td><td>1.69</td><td>13047</td><td>United Kingdom</td><td>medium</td></tr></tbody></table></div>"
      ]
     },
     "metadata": {
      "application/vnd.databricks.v1+output": {
       "addedWidgets": {},
       "aggData": [],
       "aggError": "",
       "aggOverflow": false,
       "aggSchema": [],
       "aggSeriesLimitReached": false,
       "aggType": "",
       "arguments": {},
       "columnCustomDisplayInfos": {},
       "data": [
        [
         "536365",
         "85123A",
         "WHITE HANGING HEART T-LIGHT HOLDER",
         6,
         "12/1/2010 8:26",
         2.55,
         17850,
         "United Kingdom",
         "low"
        ],
        [
         "536365",
         "71053",
         "WHITE METAL LANTERN",
         6,
         "12/1/2010 8:26",
         3.39,
         17850,
         "United Kingdom",
         "medium"
        ],
        [
         "536365",
         "84406B",
         "CREAM CUPID HEARTS COAT HANGER",
         8,
         "12/1/2010 8:26",
         2.75,
         17850,
         "United Kingdom",
         "medium"
        ],
        [
         "536365",
         "84029G",
         "KNITTED UNION FLAG HOT WATER BOTTLE",
         6,
         "12/1/2010 8:26",
         3.39,
         17850,
         "United Kingdom",
         "medium"
        ],
        [
         "536365",
         "84029E",
         "RED WOOLLY HOTTIE WHITE HEART.",
         6,
         "12/1/2010 8:26",
         3.39,
         17850,
         "United Kingdom",
         "medium"
        ],
        [
         "536365",
         "22752",
         "SET 7 BABUSHKA NESTING BOXES",
         2,
         "12/1/2010 8:26",
         7.65,
         17850,
         "United Kingdom",
         "low"
        ],
        [
         "536365",
         "21730",
         "GLASS STAR FROSTED T-LIGHT HOLDER",
         6,
         "12/1/2010 8:26",
         4.25,
         17850,
         "United Kingdom",
         "medium"
        ],
        [
         "536366",
         "22633",
         "HAND WARMER UNION JACK",
         6,
         "12/1/2010 8:28",
         1.85,
         17850,
         "United Kingdom",
         "low"
        ],
        [
         "536366",
         "22632",
         "HAND WARMER RED POLKA DOT",
         6,
         "12/1/2010 8:28",
         1.85,
         17850,
         "United Kingdom",
         "low"
        ],
        [
         "536367",
         "84879",
         "ASSORTED COLOUR BIRD ORNAMENT",
         32,
         "12/1/2010 8:34",
         1.69,
         13047,
         "United Kingdom",
         "medium"
        ]
       ],
       "datasetInfos": [],
       "dbfsResultPath": null,
       "isJsonSchema": true,
       "metadata": {},
       "overflow": false,
       "plotOptions": {
        "customPlotOptions": {},
        "displayType": "table",
        "pivotAggregation": null,
        "pivotColumns": null,
        "xColumns": null,
        "yColumns": null
       },
       "removedWidgets": [],
       "schema": [
        {
         "metadata": "{}",
         "name": "InvoiceNo",
         "type": "\"string\""
        },
        {
         "metadata": "{}",
         "name": "StockCode",
         "type": "\"string\""
        },
        {
         "metadata": "{}",
         "name": "Description",
         "type": "\"string\""
        },
        {
         "metadata": "{}",
         "name": "Quantity",
         "type": "\"integer\""
        },
        {
         "metadata": "{}",
         "name": "InvoiceDate",
         "type": "\"string\""
        },
        {
         "metadata": "{}",
         "name": "UnitPrice",
         "type": "\"double\""
        },
        {
         "metadata": "{}",
         "name": "CustomerID",
         "type": "\"integer\""
        },
        {
         "metadata": "{}",
         "name": "Country",
         "type": "\"string\""
        },
        {
         "metadata": "{}",
         "name": "value_category",
         "type": "\"string\""
        }
       ],
       "type": "table"
      }
     },
     "output_type": "display_data"
    }
   ],
   "source": [
    "@pandas_udf(StringType())\n",
    "def value_category_udf(qty: pd.Series, price: pd.Series) -> pd.Series:\n",
    "    total = qty * price\n",
    "    return total.apply(lambda x: \"low\" if x <= 20 else \"medium\" if x <= 100 else \"high\")\n",
    "\n",
    "display(df_dropna.withColumn(\"value_category\", value_category_udf(\"Quantity\", \"UnitPrice\")).limit(10))\n"
   ]
  }
 ],
 "metadata": {
  "application/vnd.databricks.v1+notebook": {
   "computePreferences": null,
   "dashboards": [],
   "environmentMetadata": {
    "base_environment": "",
    "environment_version": "1"
   },
   "inputWidgetPreferences": null,
   "language": "python",
   "notebookMetadata": {
    "pythonIndentUnit": 4
   },
   "notebookName": "lab4_z1",
   "widgets": {}
  }
 },
 "nbformat": 4,
 "nbformat_minor": 0
}