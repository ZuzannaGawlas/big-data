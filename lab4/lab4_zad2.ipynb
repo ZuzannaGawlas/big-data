{
 "cells": [
  {
   "cell_type": "code",
   "execution_count": 0,
   "metadata": {
    "application/vnd.databricks.v1+cell": {
     "cellMetadata": {
      "byteLimit": 2048000,
      "rowLimit": 10000
     },
     "inputWidgets": {},
     "nuid": "b2db18cf-30d3-4f5c-96c6-e16552cb30cb",
     "showTitle": false,
     "tableResultSettingsMap": {},
     "title": ""
    }
   },
   "outputs": [
    {
     "output_type": "display_data",
     "data": {
      "text/plain": [
       "\u001B[0;31m---------------------------------------------------------------------------\u001B[0m\n",
       "\u001B[0;31mImportError\u001B[0m                               Traceback (most recent call last)\n",
       "File \u001B[0;32m<command-1628525806018062>:5\u001B[0m\n",
       "\u001B[1;32m      3\u001B[0m \u001B[38;5;28;01mfrom\u001B[39;00m \u001B[38;5;21;01mdatetime\u001B[39;00m \u001B[38;5;28;01mimport\u001B[39;00m date\n",
       "\u001B[1;32m      4\u001B[0m \u001B[38;5;28;01mfrom\u001B[39;00m \u001B[38;5;21;01mpyspark\u001B[39;00m\u001B[38;5;21;01m.\u001B[39;00m\u001B[38;5;21;01msql\u001B[39;00m\u001B[38;5;21;01m.\u001B[39;00m\u001B[38;5;21;01mwindow\u001B[39;00m \u001B[38;5;28;01mimport\u001B[39;00m Window\n",
       "\u001B[0;32m----> 5\u001B[0m \u001B[38;5;28;01mfrom\u001B[39;00m \u001B[38;5;21;01mpyspark\u001B[39;00m\u001B[38;5;21;01m.\u001B[39;00m\u001B[38;5;21;01msql\u001B[39;00m\u001B[38;5;21;01m.\u001B[39;00m\u001B[38;5;21;01mfunctions\u001B[39;00m \u001B[38;5;28;01mimport\u001B[39;00m \u001B[38;5;28msum\u001B[39m, first_value\n",
       "\n",
       "\u001B[0;31mImportError\u001B[0m: cannot import name 'first_value' from 'pyspark.sql.functions' (/databricks/spark/python/pyspark/sql/functions.py)"
      ]
     },
     "metadata": {
      "application/vnd.databricks.v1+output": {
       "arguments": {},
       "data": "\u001B[0;31m---------------------------------------------------------------------------\u001B[0m\n\u001B[0;31mImportError\u001B[0m                               Traceback (most recent call last)\nFile \u001B[0;32m<command-1628525806018062>:5\u001B[0m\n\u001B[1;32m      3\u001B[0m \u001B[38;5;28;01mfrom\u001B[39;00m \u001B[38;5;21;01mdatetime\u001B[39;00m \u001B[38;5;28;01mimport\u001B[39;00m date\n\u001B[1;32m      4\u001B[0m \u001B[38;5;28;01mfrom\u001B[39;00m \u001B[38;5;21;01mpyspark\u001B[39;00m\u001B[38;5;21;01m.\u001B[39;00m\u001B[38;5;21;01msql\u001B[39;00m\u001B[38;5;21;01m.\u001B[39;00m\u001B[38;5;21;01mwindow\u001B[39;00m \u001B[38;5;28;01mimport\u001B[39;00m Window\n\u001B[0;32m----> 5\u001B[0m \u001B[38;5;28;01mfrom\u001B[39;00m \u001B[38;5;21;01mpyspark\u001B[39;00m\u001B[38;5;21;01m.\u001B[39;00m\u001B[38;5;21;01msql\u001B[39;00m\u001B[38;5;21;01m.\u001B[39;00m\u001B[38;5;21;01mfunctions\u001B[39;00m \u001B[38;5;28;01mimport\u001B[39;00m \u001B[38;5;28msum\u001B[39m, first_value\n\n\u001B[0;31mImportError\u001B[0m: cannot import name 'first_value' from 'pyspark.sql.functions' (/databricks/spark/python/pyspark/sql/functions.py)",
       "errorSummary": "<span class='ansi-red-fg'>ImportError</span>: cannot import name 'first_value' from 'pyspark.sql.functions' (/databricks/spark/python/pyspark/sql/functions.py)",
       "errorTraceType": "ansi",
       "metadata": {},
       "type": "ipynbError"
      }
     },
     "output_type": "display_data"
    }
   ],
   "source": [
    "from pyspark.sql.types import StructType, StructField, IntegerType, DateType, DecimalType\n",
    "from pyspark.sql import Row\n",
    "from datetime import date\n",
    "from pyspark.sql.window import Window\n",
    "from pyspark.sql.functions import sum"
   ]
  },
  {
   "cell_type": "code",
   "execution_count": 0,
   "metadata": {
    "application/vnd.databricks.v1+cell": {
     "cellMetadata": {
      "byteLimit": 2048000,
      "rowLimit": 10000
     },
     "inputWidgets": {},
     "nuid": "60f666f8-786f-4d80-881d-3660393a0601",
     "showTitle": false,
     "tableResultSettingsMap": {},
     "title": ""
    }
   },
   "outputs": [
    {
     "output_type": "display_data",
     "data": {
      "text/html": [
       "<style scoped>\n",
       "  .table-result-container {\n",
       "    max-height: 300px;\n",
       "    overflow: auto;\n",
       "  }\n",
       "  table, th, td {\n",
       "    border: 1px solid black;\n",
       "    border-collapse: collapse;\n",
       "  }\n",
       "  th, td {\n",
       "    padding: 5px;\n",
       "  }\n",
       "  th {\n",
       "    text-align: left;\n",
       "  }\n",
       "</style><div class='table-result-container'><table class='table-result'><thead style='background-color: white'><tr><th>AccountId</th><th>TranDate</th><th>TranAmt</th></tr></thead><tbody><tr><td>1</td><td>2011-01-01</td><td>500.00</td></tr><tr><td>1</td><td>2011-01-15</td><td>50.00</td></tr><tr><td>1</td><td>2011-01-22</td><td>250.00</td></tr><tr><td>1</td><td>2011-01-24</td><td>75.00</td></tr><tr><td>1</td><td>2011-01-26</td><td>125.00</td></tr><tr><td>1</td><td>2011-01-28</td><td>175.00</td></tr><tr><td>2</td><td>2011-01-01</td><td>500.00</td></tr><tr><td>2</td><td>2011-01-15</td><td>50.00</td></tr><tr><td>2</td><td>2011-01-22</td><td>25.00</td></tr><tr><td>2</td><td>2011-01-23</td><td>125.00</td></tr><tr><td>2</td><td>2011-01-26</td><td>200.00</td></tr><tr><td>2</td><td>2011-01-29</td><td>250.00</td></tr><tr><td>3</td><td>2011-01-01</td><td>500.00</td></tr><tr><td>3</td><td>2011-01-15</td><td>50.00</td></tr><tr><td>3</td><td>2011-01-22</td><td>5000.00</td></tr><tr><td>3</td><td>2011-01-25</td><td>550.00</td></tr><tr><td>3</td><td>2011-01-27</td><td>95.00</td></tr><tr><td>3</td><td>2011-01-30</td><td>2500.00</td></tr></tbody></table></div>"
      ]
     },
     "metadata": {
      "application/vnd.databricks.v1+output": {
       "addedWidgets": {},
       "aggData": [],
       "aggError": "",
       "aggOverflow": false,
       "aggSchema": [],
       "aggSeriesLimitReached": false,
       "aggType": "",
       "arguments": {},
       "columnCustomDisplayInfos": {},
       "data": [
        [
         1,
         "2011-01-01",
         "500.00"
        ],
        [
         1,
         "2011-01-15",
         "50.00"
        ],
        [
         1,
         "2011-01-22",
         "250.00"
        ],
        [
         1,
         "2011-01-24",
         "75.00"
        ],
        [
         1,
         "2011-01-26",
         "125.00"
        ],
        [
         1,
         "2011-01-28",
         "175.00"
        ],
        [
         2,
         "2011-01-01",
         "500.00"
        ],
        [
         2,
         "2011-01-15",
         "50.00"
        ],
        [
         2,
         "2011-01-22",
         "25.00"
        ],
        [
         2,
         "2011-01-23",
         "125.00"
        ],
        [
         2,
         "2011-01-26",
         "200.00"
        ],
        [
         2,
         "2011-01-29",
         "250.00"
        ],
        [
         3,
         "2011-01-01",
         "500.00"
        ],
        [
         3,
         "2011-01-15",
         "50.00"
        ],
        [
         3,
         "2011-01-22",
         "5000.00"
        ],
        [
         3,
         "2011-01-25",
         "550.00"
        ],
        [
         3,
         "2011-01-27",
         "95.00"
        ],
        [
         3,
         "2011-01-30",
         "2500.00"
        ]
       ],
       "datasetInfos": [],
       "dbfsResultPath": null,
       "isJsonSchema": true,
       "metadata": {},
       "overflow": false,
       "plotOptions": {
        "customPlotOptions": {},
        "displayType": "table",
        "pivotAggregation": null,
        "pivotColumns": null,
        "xColumns": null,
        "yColumns": null
       },
       "removedWidgets": [],
       "schema": [
        {
         "metadata": "{}",
         "name": "AccountId",
         "type": "\"integer\""
        },
        {
         "metadata": "{}",
         "name": "TranDate",
         "type": "\"date\""
        },
        {
         "metadata": "{}",
         "name": "TranAmt",
         "type": "\"decimal(8,2)\""
        }
       ],
       "type": "table"
      }
     },
     "output_type": "display_data"
    }
   ],
   "source": [
    "from pyspark.sql.types import StructType, StructField, IntegerType, DateType, DecimalType\n",
    "from datetime import date\n",
    "from decimal import Decimal\n",
    "\n",
    "transactions_data = [\n",
    "    (1, date(2011, 1, 1), Decimal(\"500.00\")),\n",
    "    (1, date(2011, 1, 15), Decimal(\"50.00\")),\n",
    "    (1, date(2011, 1, 22), Decimal(\"250.00\")),\n",
    "    (1, date(2011, 1, 24), Decimal(\"75.00\")),\n",
    "    (1, date(2011, 1, 26), Decimal(\"125.00\")),\n",
    "    (1, date(2011, 1, 28), Decimal(\"175.00\")),\n",
    "    (2, date(2011, 1, 1), Decimal(\"500.00\")),\n",
    "    (2, date(2011, 1, 15), Decimal(\"50.00\")),\n",
    "    (2, date(2011, 1, 22), Decimal(\"25.00\")),\n",
    "    (2, date(2011, 1, 23), Decimal(\"125.00\")),\n",
    "    (2, date(2011, 1, 26), Decimal(\"200.00\")),\n",
    "    (2, date(2011, 1, 29), Decimal(\"250.00\")),\n",
    "    (3, date(2011, 1, 1), Decimal(\"500.00\")),\n",
    "    (3, date(2011, 1, 15), Decimal(\"50.00\")),\n",
    "    (3, date(2011, 1, 22), Decimal(\"5000.00\")),\n",
    "    (3, date(2011, 1, 25), Decimal(\"550.00\")),\n",
    "    (3, date(2011, 1, 27), Decimal(\"95.00\")),\n",
    "    (3, date(2011, 1, 30), Decimal(\"2500.00\")),\n",
    "]\n",
    "\n",
    "transactions_schema = StructType([\n",
    "    StructField(\"AccountId\", IntegerType()),\n",
    "    StructField(\"TranDate\", DateType()),\n",
    "    StructField(\"TranAmt\", DecimalType(8, 2))\n",
    "])\n",
    "\n",
    "transactions_df = spark.createDataFrame(transactions_data, schema=transactions_schema)\n",
    "transactions_df.write.mode(\"overwrite\").saveAsTable(\"Sample.Transactions\")\n",
    "\n",
    "window_spec = Window.partitionBy(\"AccountId\").orderBy(\"TranDate\").rowsBetween(Window.unboundedPreceding, Window.currentRow)\n",
    "\n",
    "display(transactions_df)\n"
   ]
  },
  {
   "cell_type": "code",
   "execution_count": 0,
   "metadata": {
    "application/vnd.databricks.v1+cell": {
     "cellMetadata": {
      "byteLimit": 2048000,
      "rowLimit": 10000
     },
     "inputWidgets": {},
     "nuid": "5249348c-3b1b-47f4-8cb0-6a221c396d1f",
     "showTitle": false,
     "tableResultSettingsMap": {},
     "title": ""
    }
   },
   "outputs": [
    {
     "output_type": "display_data",
     "data": {
      "text/html": [
       "<style scoped>\n",
       "  .table-result-container {\n",
       "    max-height: 300px;\n",
       "    overflow: auto;\n",
       "  }\n",
       "  table, th, td {\n",
       "    border: 1px solid black;\n",
       "    border-collapse: collapse;\n",
       "  }\n",
       "  th, td {\n",
       "    padding: 5px;\n",
       "  }\n",
       "  th {\n",
       "    text-align: left;\n",
       "  }\n",
       "</style><div class='table-result-container'><table class='table-result'><thead style='background-color: white'><tr><th>AccountId</th><th>TranDate</th><th>TranAmt</th><th>RunTotalAmt</th><th>RunAvg</th><th>RunTraQty</th><th>RunSmallAmt</th><th>RunLargeAmt</th></tr></thead><tbody><tr><td>1</td><td>2011-01-01</td><td>500.00</td><td>500.00</td><td>500.000000</td><td>1</td><td>500.00</td><td>500.00</td></tr><tr><td>1</td><td>2011-01-15</td><td>50.00</td><td>550.00</td><td>275.000000</td><td>2</td><td>50.00</td><td>500.00</td></tr><tr><td>1</td><td>2011-01-22</td><td>250.00</td><td>800.00</td><td>266.666667</td><td>3</td><td>50.00</td><td>500.00</td></tr><tr><td>1</td><td>2011-01-24</td><td>75.00</td><td>875.00</td><td>218.750000</td><td>4</td><td>50.00</td><td>500.00</td></tr><tr><td>1</td><td>2011-01-26</td><td>125.00</td><td>1000.00</td><td>200.000000</td><td>5</td><td>50.00</td><td>500.00</td></tr><tr><td>1</td><td>2011-01-28</td><td>175.00</td><td>1175.00</td><td>195.833333</td><td>6</td><td>50.00</td><td>500.00</td></tr><tr><td>2</td><td>2011-01-01</td><td>500.00</td><td>500.00</td><td>500.000000</td><td>1</td><td>500.00</td><td>500.00</td></tr><tr><td>2</td><td>2011-01-15</td><td>50.00</td><td>550.00</td><td>275.000000</td><td>2</td><td>50.00</td><td>500.00</td></tr><tr><td>2</td><td>2011-01-22</td><td>25.00</td><td>575.00</td><td>191.666667</td><td>3</td><td>25.00</td><td>500.00</td></tr><tr><td>2</td><td>2011-01-23</td><td>125.00</td><td>700.00</td><td>175.000000</td><td>4</td><td>25.00</td><td>500.00</td></tr><tr><td>2</td><td>2011-01-26</td><td>200.00</td><td>900.00</td><td>180.000000</td><td>5</td><td>25.00</td><td>500.00</td></tr><tr><td>2</td><td>2011-01-29</td><td>250.00</td><td>1150.00</td><td>191.666667</td><td>6</td><td>25.00</td><td>500.00</td></tr><tr><td>3</td><td>2011-01-01</td><td>500.00</td><td>500.00</td><td>500.000000</td><td>1</td><td>500.00</td><td>500.00</td></tr><tr><td>3</td><td>2011-01-15</td><td>50.00</td><td>550.00</td><td>275.000000</td><td>2</td><td>50.00</td><td>500.00</td></tr><tr><td>3</td><td>2011-01-22</td><td>5000.00</td><td>5550.00</td><td>1850.000000</td><td>3</td><td>50.00</td><td>5000.00</td></tr><tr><td>3</td><td>2011-01-25</td><td>550.00</td><td>6100.00</td><td>1525.000000</td><td>4</td><td>50.00</td><td>5000.00</td></tr><tr><td>3</td><td>2011-01-27</td><td>95.00</td><td>6195.00</td><td>1239.000000</td><td>5</td><td>50.00</td><td>5000.00</td></tr><tr><td>3</td><td>2011-01-30</td><td>2500.00</td><td>8695.00</td><td>1449.166667</td><td>6</td><td>50.00</td><td>5000.00</td></tr></tbody></table></div>"
      ]
     },
     "metadata": {
      "application/vnd.databricks.v1+output": {
       "addedWidgets": {},
       "aggData": [],
       "aggError": "",
       "aggOverflow": false,
       "aggSchema": [],
       "aggSeriesLimitReached": false,
       "aggType": "",
       "arguments": {},
       "columnCustomDisplayInfos": {},
       "data": [
        [
         1,
         "2011-01-01",
         "500.00",
         "500.00",
         "500.000000",
         1,
         "500.00",
         "500.00"
        ],
        [
         1,
         "2011-01-15",
         "50.00",
         "550.00",
         "275.000000",
         2,
         "50.00",
         "500.00"
        ],
        [
         1,
         "2011-01-22",
         "250.00",
         "800.00",
         "266.666667",
         3,
         "50.00",
         "500.00"
        ],
        [
         1,
         "2011-01-24",
         "75.00",
         "875.00",
         "218.750000",
         4,
         "50.00",
         "500.00"
        ],
        [
         1,
         "2011-01-26",
         "125.00",
         "1000.00",
         "200.000000",
         5,
         "50.00",
         "500.00"
        ],
        [
         1,
         "2011-01-28",
         "175.00",
         "1175.00",
         "195.833333",
         6,
         "50.00",
         "500.00"
        ],
        [
         2,
         "2011-01-01",
         "500.00",
         "500.00",
         "500.000000",
         1,
         "500.00",
         "500.00"
        ],
        [
         2,
         "2011-01-15",
         "50.00",
         "550.00",
         "275.000000",
         2,
         "50.00",
         "500.00"
        ],
        [
         2,
         "2011-01-22",
         "25.00",
         "575.00",
         "191.666667",
         3,
         "25.00",
         "500.00"
        ],
        [
         2,
         "2011-01-23",
         "125.00",
         "700.00",
         "175.000000",
         4,
         "25.00",
         "500.00"
        ],
        [
         2,
         "2011-01-26",
         "200.00",
         "900.00",
         "180.000000",
         5,
         "25.00",
         "500.00"
        ],
        [
         2,
         "2011-01-29",
         "250.00",
         "1150.00",
         "191.666667",
         6,
         "25.00",
         "500.00"
        ],
        [
         3,
         "2011-01-01",
         "500.00",
         "500.00",
         "500.000000",
         1,
         "500.00",
         "500.00"
        ],
        [
         3,
         "2011-01-15",
         "50.00",
         "550.00",
         "275.000000",
         2,
         "50.00",
         "500.00"
        ],
        [
         3,
         "2011-01-22",
         "5000.00",
         "5550.00",
         "1850.000000",
         3,
         "50.00",
         "5000.00"
        ],
        [
         3,
         "2011-01-25",
         "550.00",
         "6100.00",
         "1525.000000",
         4,
         "50.00",
         "5000.00"
        ],
        [
         3,
         "2011-01-27",
         "95.00",
         "6195.00",
         "1239.000000",
         5,
         "50.00",
         "5000.00"
        ],
        [
         3,
         "2011-01-30",
         "2500.00",
         "8695.00",
         "1449.166667",
         6,
         "50.00",
         "5000.00"
        ]
       ],
       "datasetInfos": [],
       "dbfsResultPath": null,
       "isJsonSchema": true,
       "metadata": {},
       "overflow": false,
       "plotOptions": {
        "customPlotOptions": {},
        "displayType": "table",
        "pivotAggregation": null,
        "pivotColumns": null,
        "xColumns": null,
        "yColumns": null
       },
       "removedWidgets": [],
       "schema": [
        {
         "metadata": "{}",
         "name": "AccountId",
         "type": "\"integer\""
        },
        {
         "metadata": "{}",
         "name": "TranDate",
         "type": "\"date\""
        },
        {
         "metadata": "{}",
         "name": "TranAmt",
         "type": "\"decimal(8,2)\""
        },
        {
         "metadata": "{}",
         "name": "RunTotalAmt",
         "type": "\"decimal(18,2)\""
        },
        {
         "metadata": "{}",
         "name": "RunAvg",
         "type": "\"decimal(12,6)\""
        },
        {
         "metadata": "{}",
         "name": "RunTraQty",
         "type": "\"long\""
        },
        {
         "metadata": "{}",
         "name": "RunSmallAmt",
         "type": "\"decimal(8,2)\""
        },
        {
         "metadata": "{}",
         "name": "RunLargeAmt",
         "type": "\"decimal(8,2)\""
        }
       ],
       "type": "table"
      }
     },
     "output_type": "display_data"
    }
   ],
   "source": [
    "transactions_df_1 = transactions_df.withColumn(\"RunTotalAmt\",sum(\"TranAmt\").over(window_spec))\\\n",
    ".withColumn(\"RunAvg\",avg(\"TranAmt\").over(window_spec))\\\n",
    ".withColumn(\"RunTraQty\",count(\"TranAmt\").over(window_spec))\\\n",
    ".withColumn(\"RunSmallAmt\",min(\"tranAmt\").over(window_spec))\\\n",
    ".withColumn(\"RunLargeAmt\",max(\"tranAmt\").over(window_spec))\n",
    "display(transactions_df_1.orderBy(\"AccountId\", \"TranDate\"))"
   ]
  },
  {
   "cell_type": "code",
   "execution_count": 0,
   "metadata": {
    "application/vnd.databricks.v1+cell": {
     "cellMetadata": {
      "byteLimit": 2048000,
      "rowLimit": 10000
     },
     "inputWidgets": {},
     "nuid": "49fe5fc7-cb29-4e0f-a285-e77e953c275d",
     "showTitle": false,
     "tableResultSettingsMap": {},
     "title": ""
    }
   },
   "outputs": [
    {
     "output_type": "display_data",
     "data": {
      "text/html": [
       "<style scoped>\n",
       "  .table-result-container {\n",
       "    max-height: 300px;\n",
       "    overflow: auto;\n",
       "  }\n",
       "  table, th, td {\n",
       "    border: 1px solid black;\n",
       "    border-collapse: collapse;\n",
       "  }\n",
       "  th, td {\n",
       "    padding: 5px;\n",
       "  }\n",
       "  th {\n",
       "    text-align: left;\n",
       "  }\n",
       "</style><div class='table-result-container'><table class='table-result'><thead style='background-color: white'><tr><th>AccountId</th><th>TranDate</th><th>TranAmt</th><th>SlideAvg</th><th>SlideQty</th><th>SlideMin</th><th>SlideMax</th><th>SlideTotal</th><th>RN</th></tr></thead><tbody><tr><td>1</td><td>2011-01-01</td><td>500.00</td><td>500.000000</td><td>1</td><td>500.00</td><td>500.00</td><td>500.00</td><td>1</td></tr><tr><td>1</td><td>2011-01-15</td><td>50.00</td><td>275.000000</td><td>2</td><td>50.00</td><td>500.00</td><td>550.00</td><td>2</td></tr><tr><td>1</td><td>2011-01-22</td><td>250.00</td><td>266.666667</td><td>3</td><td>50.00</td><td>500.00</td><td>800.00</td><td>3</td></tr><tr><td>1</td><td>2011-01-24</td><td>75.00</td><td>125.000000</td><td>3</td><td>50.00</td><td>250.00</td><td>375.00</td><td>4</td></tr><tr><td>1</td><td>2011-01-26</td><td>125.00</td><td>150.000000</td><td>3</td><td>75.00</td><td>250.00</td><td>450.00</td><td>5</td></tr><tr><td>1</td><td>2011-01-28</td><td>175.00</td><td>125.000000</td><td>3</td><td>75.00</td><td>175.00</td><td>375.00</td><td>6</td></tr><tr><td>2</td><td>2011-01-01</td><td>500.00</td><td>500.000000</td><td>1</td><td>500.00</td><td>500.00</td><td>500.00</td><td>1</td></tr><tr><td>2</td><td>2011-01-15</td><td>50.00</td><td>275.000000</td><td>2</td><td>50.00</td><td>500.00</td><td>550.00</td><td>2</td></tr><tr><td>2</td><td>2011-01-22</td><td>25.00</td><td>191.666667</td><td>3</td><td>25.00</td><td>500.00</td><td>575.00</td><td>3</td></tr><tr><td>2</td><td>2011-01-23</td><td>125.00</td><td>66.666667</td><td>3</td><td>25.00</td><td>125.00</td><td>200.00</td><td>4</td></tr><tr><td>2</td><td>2011-01-26</td><td>200.00</td><td>116.666667</td><td>3</td><td>25.00</td><td>200.00</td><td>350.00</td><td>5</td></tr><tr><td>2</td><td>2011-01-29</td><td>250.00</td><td>191.666667</td><td>3</td><td>125.00</td><td>250.00</td><td>575.00</td><td>6</td></tr><tr><td>3</td><td>2011-01-01</td><td>500.00</td><td>500.000000</td><td>1</td><td>500.00</td><td>500.00</td><td>500.00</td><td>1</td></tr><tr><td>3</td><td>2011-01-15</td><td>50.00</td><td>275.000000</td><td>2</td><td>50.00</td><td>500.00</td><td>550.00</td><td>2</td></tr><tr><td>3</td><td>2011-01-22</td><td>5000.00</td><td>1850.000000</td><td>3</td><td>50.00</td><td>5000.00</td><td>5550.00</td><td>3</td></tr><tr><td>3</td><td>2011-01-25</td><td>550.00</td><td>1866.666667</td><td>3</td><td>50.00</td><td>5000.00</td><td>5600.00</td><td>4</td></tr><tr><td>3</td><td>2011-01-27</td><td>95.00</td><td>1881.666667</td><td>3</td><td>95.00</td><td>5000.00</td><td>5645.00</td><td>5</td></tr><tr><td>3</td><td>2011-01-30</td><td>2500.00</td><td>1048.333333</td><td>3</td><td>95.00</td><td>2500.00</td><td>3145.00</td><td>6</td></tr></tbody></table></div>"
      ]
     },
     "metadata": {
      "application/vnd.databricks.v1+output": {
       "addedWidgets": {},
       "aggData": [],
       "aggError": "",
       "aggOverflow": false,
       "aggSchema": [],
       "aggSeriesLimitReached": false,
       "aggType": "",
       "arguments": {},
       "columnCustomDisplayInfos": {},
       "data": [
        [
         1,
         "2011-01-01",
         "500.00",
         "500.000000",
         1,
         "500.00",
         "500.00",
         "500.00",
         1
        ],
        [
         1,
         "2011-01-15",
         "50.00",
         "275.000000",
         2,
         "50.00",
         "500.00",
         "550.00",
         2
        ],
        [
         1,
         "2011-01-22",
         "250.00",
         "266.666667",
         3,
         "50.00",
         "500.00",
         "800.00",
         3
        ],
        [
         1,
         "2011-01-24",
         "75.00",
         "125.000000",
         3,
         "50.00",
         "250.00",
         "375.00",
         4
        ],
        [
         1,
         "2011-01-26",
         "125.00",
         "150.000000",
         3,
         "75.00",
         "250.00",
         "450.00",
         5
        ],
        [
         1,
         "2011-01-28",
         "175.00",
         "125.000000",
         3,
         "75.00",
         "175.00",
         "375.00",
         6
        ],
        [
         2,
         "2011-01-01",
         "500.00",
         "500.000000",
         1,
         "500.00",
         "500.00",
         "500.00",
         1
        ],
        [
         2,
         "2011-01-15",
         "50.00",
         "275.000000",
         2,
         "50.00",
         "500.00",
         "550.00",
         2
        ],
        [
         2,
         "2011-01-22",
         "25.00",
         "191.666667",
         3,
         "25.00",
         "500.00",
         "575.00",
         3
        ],
        [
         2,
         "2011-01-23",
         "125.00",
         "66.666667",
         3,
         "25.00",
         "125.00",
         "200.00",
         4
        ],
        [
         2,
         "2011-01-26",
         "200.00",
         "116.666667",
         3,
         "25.00",
         "200.00",
         "350.00",
         5
        ],
        [
         2,
         "2011-01-29",
         "250.00",
         "191.666667",
         3,
         "125.00",
         "250.00",
         "575.00",
         6
        ],
        [
         3,
         "2011-01-01",
         "500.00",
         "500.000000",
         1,
         "500.00",
         "500.00",
         "500.00",
         1
        ],
        [
         3,
         "2011-01-15",
         "50.00",
         "275.000000",
         2,
         "50.00",
         "500.00",
         "550.00",
         2
        ],
        [
         3,
         "2011-01-22",
         "5000.00",
         "1850.000000",
         3,
         "50.00",
         "5000.00",
         "5550.00",
         3
        ],
        [
         3,
         "2011-01-25",
         "550.00",
         "1866.666667",
         3,
         "50.00",
         "5000.00",
         "5600.00",
         4
        ],
        [
         3,
         "2011-01-27",
         "95.00",
         "1881.666667",
         3,
         "95.00",
         "5000.00",
         "5645.00",
         5
        ],
        [
         3,
         "2011-01-30",
         "2500.00",
         "1048.333333",
         3,
         "95.00",
         "2500.00",
         "3145.00",
         6
        ]
       ],
       "datasetInfos": [],
       "dbfsResultPath": null,
       "isJsonSchema": true,
       "metadata": {},
       "overflow": false,
       "plotOptions": {
        "customPlotOptions": {},
        "displayType": "table",
        "pivotAggregation": null,
        "pivotColumns": null,
        "xColumns": null,
        "yColumns": null
       },
       "removedWidgets": [],
       "schema": [
        {
         "metadata": "{}",
         "name": "AccountId",
         "type": "\"integer\""
        },
        {
         "metadata": "{}",
         "name": "TranDate",
         "type": "\"date\""
        },
        {
         "metadata": "{}",
         "name": "TranAmt",
         "type": "\"decimal(8,2)\""
        },
        {
         "metadata": "{}",
         "name": "SlideAvg",
         "type": "\"decimal(12,6)\""
        },
        {
         "metadata": "{}",
         "name": "SlideQty",
         "type": "\"long\""
        },
        {
         "metadata": "{}",
         "name": "SlideMin",
         "type": "\"decimal(8,2)\""
        },
        {
         "metadata": "{}",
         "name": "SlideMax",
         "type": "\"decimal(8,2)\""
        },
        {
         "metadata": "{}",
         "name": "SlideTotal",
         "type": "\"decimal(18,2)\""
        },
        {
         "metadata": "{}",
         "name": "RN",
         "type": "\"integer\""
        }
       ],
       "type": "table"
      }
     },
     "output_type": "display_data"
    }
   ],
   "source": [
    "sliding_window = Window.partitionBy(\"AccountId\").orderBy(\"TranDate\").rowsBetween(-2, 0)\n",
    "rownum_window = Window.partitionBy(\"AccountId\").orderBy(\"TranDate\")\n",
    "\n",
    "transactions_df_2 = transactions_df \\\n",
    "    .withColumn(\"SlideAvg\", avg(\"TranAmt\").over(sliding_window)) \\\n",
    "    .withColumn(\"SlideQty\", count(\"*\").over(sliding_window)) \\\n",
    "    .withColumn(\"SlideMin\", min(\"TranAmt\").over(sliding_window)) \\\n",
    "    .withColumn(\"SlideMax\", max(\"TranAmt\").over(sliding_window)) \\\n",
    "    .withColumn(\"SlideTotal\", sum(\"TranAmt\").over(sliding_window)) \\\n",
    "    .withColumn(\"RN\", row_number().over(rownum_window))\n",
    "\n",
    "display(transactions_df_2)"
   ]
  },
  {
   "cell_type": "code",
   "execution_count": 0,
   "metadata": {
    "application/vnd.databricks.v1+cell": {
     "cellMetadata": {
      "byteLimit": 2048000,
      "rowLimit": 10000
     },
     "inputWidgets": {},
     "nuid": "c725bb52-2023-4575-9d5e-7da5450cf497",
     "showTitle": false,
     "tableResultSettingsMap": {},
     "title": ""
    }
   },
   "outputs": [
    {
     "output_type": "display_data",
     "data": {
      "text/html": [
       "<style scoped>\n",
       "  .table-result-container {\n",
       "    max-height: 300px;\n",
       "    overflow: auto;\n",
       "  }\n",
       "  table, th, td {\n",
       "    border: 1px solid black;\n",
       "    border-collapse: collapse;\n",
       "  }\n",
       "  th, td {\n",
       "    padding: 5px;\n",
       "  }\n",
       "  th {\n",
       "    text-align: left;\n",
       "  }\n",
       "</style><div class='table-result-container'><table class='table-result'><thead style='background-color: white'><tr><th>RowID</th><th>FName</th><th>Salary</th><th>SumByRows</th><th>SumByRange</th></tr></thead><tbody><tr><td>1</td><td>George</td><td>800</td><td>800</td><td>800</td></tr><tr><td>2</td><td>Sam</td><td>950</td><td>1750</td><td>1750</td></tr><tr><td>3</td><td>Diane</td><td>1100</td><td>2850</td><td>2850</td></tr><tr><td>4</td><td>Nicholas</td><td>1250</td><td>4100</td><td>5350</td></tr><tr><td>5</td><td>Samuel</td><td>1250</td><td>5350</td><td>5350</td></tr><tr><td>6</td><td>Patricia</td><td>1300</td><td>6650</td><td>6650</td></tr><tr><td>7</td><td>Brian</td><td>1500</td><td>8150</td><td>8150</td></tr><tr><td>8</td><td>Thomas</td><td>1600</td><td>9750</td><td>9750</td></tr><tr><td>9</td><td>Fran</td><td>2450</td><td>12200</td><td>12200</td></tr><tr><td>10</td><td>Debbie</td><td>2850</td><td>15050</td><td>15050</td></tr><tr><td>11</td><td>Mark</td><td>2975</td><td>18025</td><td>18025</td></tr><tr><td>12</td><td>James</td><td>3000</td><td>21025</td><td>24025</td></tr><tr><td>13</td><td>Cynthia</td><td>3000</td><td>24025</td><td>24025</td></tr><tr><td>14</td><td>Christopher</td><td>5000</td><td>29025</td><td>29025</td></tr></tbody></table></div>"
      ]
     },
     "metadata": {
      "application/vnd.databricks.v1+output": {
       "addedWidgets": {},
       "aggData": [],
       "aggError": "",
       "aggOverflow": false,
       "aggSchema": [],
       "aggSeriesLimitReached": false,
       "aggType": "",
       "arguments": {},
       "columnCustomDisplayInfos": {},
       "data": [
        [
         1,
         "George",
         800,
         800,
         800
        ],
        [
         2,
         "Sam",
         950,
         1750,
         1750
        ],
        [
         3,
         "Diane",
         1100,
         2850,
         2850
        ],
        [
         4,
         "Nicholas",
         1250,
         4100,
         5350
        ],
        [
         5,
         "Samuel",
         1250,
         5350,
         5350
        ],
        [
         6,
         "Patricia",
         1300,
         6650,
         6650
        ],
        [
         7,
         "Brian",
         1500,
         8150,
         8150
        ],
        [
         8,
         "Thomas",
         1600,
         9750,
         9750
        ],
        [
         9,
         "Fran",
         2450,
         12200,
         12200
        ],
        [
         10,
         "Debbie",
         2850,
         15050,
         15050
        ],
        [
         11,
         "Mark",
         2975,
         18025,
         18025
        ],
        [
         12,
         "James",
         3000,
         21025,
         24025
        ],
        [
         13,
         "Cynthia",
         3000,
         24025,
         24025
        ],
        [
         14,
         "Christopher",
         5000,
         29025,
         29025
        ]
       ],
       "datasetInfos": [],
       "dbfsResultPath": null,
       "isJsonSchema": true,
       "metadata": {},
       "overflow": false,
       "plotOptions": {
        "customPlotOptions": {},
        "displayType": "table",
        "pivotAggregation": null,
        "pivotColumns": null,
        "xColumns": null,
        "yColumns": null
       },
       "removedWidgets": [],
       "schema": [
        {
         "metadata": "{}",
         "name": "RowID",
         "type": "\"integer\""
        },
        {
         "metadata": "{\"__CHAR_VARCHAR_TYPE_STRING\":\"varchar(20)\"}",
         "name": "FName",
         "type": "\"string\""
        },
        {
         "metadata": "{}",
         "name": "Salary",
         "type": "\"short\""
        },
        {
         "metadata": "{}",
         "name": "SumByRows",
         "type": "\"long\""
        },
        {
         "metadata": "{}",
         "name": "SumByRange",
         "type": "\"long\""
        }
       ],
       "type": "table"
      }
     },
     "output_type": "display_data"
    }
   ],
   "source": [
    "\n",
    "logical_df = spark.table(\"Sample.Logical\")\n",
    "\n",
    "# Okno z ROWS\n",
    "rows_window = Window.orderBy(\"Salary\").rowsBetween(Window.unboundedPreceding, Window.currentRow)\n",
    "\n",
    "# PySpark nie wspiera RANGE w pełni – efekt będzie taki sam jak ROWS jeśli Salary jest unikalne\n",
    "range_window = Window.orderBy(\"Salary\").rangeBetween(Window.unboundedPreceding, Window.currentRow)\n",
    "\n",
    "# Dodaj kolumny\n",
    "logical_df = logical_df \\\n",
    "    .withColumn(\"SumByRows\", sum(\"Salary\").over(rows_window)) \\\n",
    "    .withColumn(\"SumByRange\", sum(\"Salary\").over(range_window))\n",
    "\n",
    "# Wyświetlenie\n",
    "display(logical_df.orderBy(\"RowID\"))"
   ]
  },
  {
   "cell_type": "code",
   "execution_count": 0,
   "metadata": {
    "application/vnd.databricks.v1+cell": {
     "cellMetadata": {
      "byteLimit": 2048000,
      "implicitDf": true,
      "rowLimit": 10000
     },
     "inputWidgets": {},
     "nuid": "18894305-8841-4e45-a019-dd48a13f9ad1",
     "showTitle": false,
     "tableResultSettingsMap": {},
     "title": ""
    }
   },
   "outputs": [
    {
     "output_type": "display_data",
     "data": {
      "text/html": [
       "<style scoped>\n",
       "  .table-result-container {\n",
       "    max-height: 300px;\n",
       "    overflow: auto;\n",
       "  }\n",
       "  table, th, td {\n",
       "    border: 1px solid black;\n",
       "    border-collapse: collapse;\n",
       "  }\n",
       "  th, td {\n",
       "    padding: 5px;\n",
       "  }\n",
       "  th {\n",
       "    text-align: left;\n",
       "  }\n",
       "</style><div class='table-result-container'><table class='table-result'><thead style='background-color: white'><tr><th>AccountId</th><th>TranDate</th><th>TranAmt</th><th>PrevTranAmt</th><th>NextTranAmt</th><th>FirstTranAmt</th><th>LastTranAmt</th><th>RowNum</th></tr></thead><tbody><tr><td>1</td><td>2011-01-01</td><td>500.00</td><td>null</td><td>50.00</td><td>500.00</td><td>500.00</td><td>1</td></tr><tr><td>1</td><td>2011-01-15</td><td>50.00</td><td>500.00</td><td>250.00</td><td>500.00</td><td>50.00</td><td>2</td></tr><tr><td>1</td><td>2011-01-22</td><td>250.00</td><td>50.00</td><td>75.00</td><td>500.00</td><td>250.00</td><td>3</td></tr><tr><td>1</td><td>2011-01-24</td><td>75.00</td><td>250.00</td><td>125.00</td><td>500.00</td><td>75.00</td><td>4</td></tr><tr><td>1</td><td>2011-01-26</td><td>125.00</td><td>75.00</td><td>175.00</td><td>500.00</td><td>125.00</td><td>5</td></tr><tr><td>1</td><td>2011-01-28</td><td>175.00</td><td>125.00</td><td>null</td><td>500.00</td><td>175.00</td><td>6</td></tr><tr><td>2</td><td>2011-01-01</td><td>500.00</td><td>null</td><td>50.00</td><td>500.00</td><td>500.00</td><td>1</td></tr><tr><td>2</td><td>2011-01-15</td><td>50.00</td><td>500.00</td><td>25.00</td><td>500.00</td><td>50.00</td><td>2</td></tr><tr><td>2</td><td>2011-01-22</td><td>25.00</td><td>50.00</td><td>125.00</td><td>500.00</td><td>25.00</td><td>3</td></tr><tr><td>2</td><td>2011-01-23</td><td>125.00</td><td>25.00</td><td>200.00</td><td>500.00</td><td>125.00</td><td>4</td></tr><tr><td>2</td><td>2011-01-26</td><td>200.00</td><td>125.00</td><td>250.00</td><td>500.00</td><td>200.00</td><td>5</td></tr><tr><td>2</td><td>2011-01-29</td><td>250.00</td><td>200.00</td><td>null</td><td>500.00</td><td>250.00</td><td>6</td></tr><tr><td>3</td><td>2011-01-01</td><td>500.00</td><td>null</td><td>50.00</td><td>500.00</td><td>500.00</td><td>1</td></tr><tr><td>3</td><td>2011-01-15</td><td>50.00</td><td>500.00</td><td>5000.00</td><td>500.00</td><td>50.00</td><td>2</td></tr><tr><td>3</td><td>2011-01-22</td><td>5000.00</td><td>50.00</td><td>550.00</td><td>500.00</td><td>5000.00</td><td>3</td></tr><tr><td>3</td><td>2011-01-25</td><td>550.00</td><td>5000.00</td><td>95.00</td><td>500.00</td><td>550.00</td><td>4</td></tr><tr><td>3</td><td>2011-01-27</td><td>95.00</td><td>550.00</td><td>2500.00</td><td>500.00</td><td>95.00</td><td>5</td></tr><tr><td>3</td><td>2011-01-30</td><td>2500.00</td><td>95.00</td><td>null</td><td>500.00</td><td>2500.00</td><td>6</td></tr></tbody></table></div>"
      ]
     },
     "metadata": {
      "application/vnd.databricks.v1+output": {
       "addedWidgets": {},
       "aggData": [],
       "aggError": "",
       "aggOverflow": false,
       "aggSchema": [],
       "aggSeriesLimitReached": false,
       "aggType": "",
       "arguments": {},
       "columnCustomDisplayInfos": {},
       "data": [
        [
         1,
         "2011-01-01",
         "500.00",
         null,
         "50.00",
         "500.00",
         "500.00",
         1
        ],
        [
         1,
         "2011-01-15",
         "50.00",
         "500.00",
         "250.00",
         "500.00",
         "50.00",
         2
        ],
        [
         1,
         "2011-01-22",
         "250.00",
         "50.00",
         "75.00",
         "500.00",
         "250.00",
         3
        ],
        [
         1,
         "2011-01-24",
         "75.00",
         "250.00",
         "125.00",
         "500.00",
         "75.00",
         4
        ],
        [
         1,
         "2011-01-26",
         "125.00",
         "75.00",
         "175.00",
         "500.00",
         "125.00",
         5
        ],
        [
         1,
         "2011-01-28",
         "175.00",
         "125.00",
         null,
         "500.00",
         "175.00",
         6
        ],
        [
         2,
         "2011-01-01",
         "500.00",
         null,
         "50.00",
         "500.00",
         "500.00",
         1
        ],
        [
         2,
         "2011-01-15",
         "50.00",
         "500.00",
         "25.00",
         "500.00",
         "50.00",
         2
        ],
        [
         2,
         "2011-01-22",
         "25.00",
         "50.00",
         "125.00",
         "500.00",
         "25.00",
         3
        ],
        [
         2,
         "2011-01-23",
         "125.00",
         "25.00",
         "200.00",
         "500.00",
         "125.00",
         4
        ],
        [
         2,
         "2011-01-26",
         "200.00",
         "125.00",
         "250.00",
         "500.00",
         "200.00",
         5
        ],
        [
         2,
         "2011-01-29",
         "250.00",
         "200.00",
         null,
         "500.00",
         "250.00",
         6
        ],
        [
         3,
         "2011-01-01",
         "500.00",
         null,
         "50.00",
         "500.00",
         "500.00",
         1
        ],
        [
         3,
         "2011-01-15",
         "50.00",
         "500.00",
         "5000.00",
         "500.00",
         "50.00",
         2
        ],
        [
         3,
         "2011-01-22",
         "5000.00",
         "50.00",
         "550.00",
         "500.00",
         "5000.00",
         3
        ],
        [
         3,
         "2011-01-25",
         "550.00",
         "5000.00",
         "95.00",
         "500.00",
         "550.00",
         4
        ],
        [
         3,
         "2011-01-27",
         "95.00",
         "550.00",
         "2500.00",
         "500.00",
         "95.00",
         5
        ],
        [
         3,
         "2011-01-30",
         "2500.00",
         "95.00",
         null,
         "500.00",
         "2500.00",
         6
        ]
       ],
       "datasetInfos": [],
       "dbfsResultPath": null,
       "isJsonSchema": true,
       "metadata": {},
       "overflow": false,
       "plotOptions": {
        "customPlotOptions": {},
        "displayType": "table",
        "pivotAggregation": null,
        "pivotColumns": null,
        "xColumns": null,
        "yColumns": null
       },
       "removedWidgets": [],
       "schema": [
        {
         "metadata": "{}",
         "name": "AccountId",
         "type": "\"integer\""
        },
        {
         "metadata": "{}",
         "name": "TranDate",
         "type": "\"date\""
        },
        {
         "metadata": "{}",
         "name": "TranAmt",
         "type": "\"decimal(8,2)\""
        },
        {
         "metadata": "{}",
         "name": "PrevTranAmt",
         "type": "\"decimal(8,2)\""
        },
        {
         "metadata": "{}",
         "name": "NextTranAmt",
         "type": "\"decimal(8,2)\""
        },
        {
         "metadata": "{}",
         "name": "FirstTranAmt",
         "type": "\"decimal(8,2)\""
        },
        {
         "metadata": "{}",
         "name": "LastTranAmt",
         "type": "\"decimal(8,2)\""
        },
        {
         "metadata": "{}",
         "name": "RowNum",
         "type": "\"integer\""
        }
       ],
       "type": "table"
      }
     },
     "output_type": "display_data"
    }
   ],
   "source": [
    "#from pyspark.sql.functions import lead, lag, first_value, last_value, row_number\n",
    "\n",
    "window_spec = Window.partitionBy(\"AccountId\").orderBy(\"TranDate\")\n",
    "\n",
    "df_windowed = transactions_df.withColumn(\"PrevTranAmt\", lag(\"TranAmt\", 1).over(window_spec)) \\\n",
    "    .withColumn(\"NextTranAmt\", lead(\"TranAmt\", 1).over(window_spec)) \\\n",
    "    .withColumn(\"FirstTranAmt\", first(\"TranAmt\").over(window_spec)) \\\n",
    "    .withColumn(\"LastTranAmt\", last(\"TranAmt\").over(window_spec)) \\\n",
    "    .withColumn(\"RowNum\", row_number().over(window_spec))\n",
    "display(df_windowed)"
   ]
  }
 ],
 "metadata": {
  "application/vnd.databricks.v1+notebook": {
   "computePreferences": null,
   "dashboards": [],
   "environmentMetadata": {
    "base_environment": "",
    "environment_version": "1"
   },
   "inputWidgetPreferences": null,
   "language": "python",
   "notebookMetadata": {
    "mostRecentlyExecutedCommandWithImplicitDF": {
     "commandId": -1,
     "dataframes": [
      "_sqldf"
     ]
    },
    "pythonIndentUnit": 4
   },
   "notebookName": "lab4_zad2",
   "widgets": {}
  }
 },
 "nbformat": 4,
 "nbformat_minor": 0
}