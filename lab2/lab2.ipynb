{
 "cells": [
  {
   "cell_type": "markdown",
   "metadata": {
    "application/vnd.databricks.v1+cell": {
     "cellMetadata": {
      "byteLimit": 2048000,
      "rowLimit": 10000
     },
     "inputWidgets": {},
     "nuid": "fb0b4f8d-3857-476a-984d-3e1c635cf84f",
     "showTitle": false,
     "tableResultSettingsMap": {},
     "title": ""
    }
   },
   "source": [
    "### Zadanie 2"
   ]
  },
  {
   "cell_type": "code",
   "execution_count": 0,
   "metadata": {
    "application/vnd.databricks.v1+cell": {
     "cellMetadata": {
      "byteLimit": 2048000,
      "rowLimit": 10000
     },
     "inputWidgets": {},
     "nuid": "bb934347-06a1-43d2-aff4-3663eabffdcb",
     "showTitle": false,
     "tableResultSettingsMap": {},
     "title": ""
    }
   },
   "outputs": [],
   "source": [
    "from pyspark.sql.types import StructType, StructField, StringType, IntegerType, DateType\n",
    "from pyspark.sql import types "
   ]
  },
  {
   "cell_type": "code",
   "execution_count": 0,
   "metadata": {
    "application/vnd.databricks.v1+cell": {
     "cellMetadata": {
      "byteLimit": 2048000,
      "rowLimit": 10000
     },
     "inputWidgets": {},
     "nuid": "d6457ba4-47a7-4cb8-a0f2-0264134dd022",
     "showTitle": false,
     "tableResultSettingsMap": {},
     "title": ""
    }
   },
   "outputs": [
    {
     "output_type": "display_data",
     "data": {
      "text/html": [
       "<style scoped>\n",
       "  .table-result-container {\n",
       "    max-height: 300px;\n",
       "    overflow: auto;\n",
       "  }\n",
       "  table, th, td {\n",
       "    border: 1px solid black;\n",
       "    border-collapse: collapse;\n",
       "  }\n",
       "  th, td {\n",
       "    padding: 5px;\n",
       "  }\n",
       "  th {\n",
       "    text-align: left;\n",
       "  }\n",
       "</style><div class='table-result-container'><table class='table-result'><thead style='background-color: white'><tr><th>path</th><th>name</th><th>size</th><th>modificationTime</th></tr></thead><tbody><tr><td>dbfs:/FileStore/tables/Files/actors.csv</td><td>actors.csv</td><td>41451610</td><td>1742849563000</td></tr><tr><td>dbfs:/FileStore/tables/Files/movies.csv</td><td>movies.csv</td><td>50657522</td><td>1742849569000</td></tr><tr><td>dbfs:/FileStore/tables/Files/names.csv</td><td>names.csv</td><td>62194757</td><td>1742849577000</td></tr><tr><td>dbfs:/FileStore/tables/Files/ratings.csv</td><td>ratings.csv</td><td>17363252</td><td>1742849579000</td></tr></tbody></table></div>"
      ]
     },
     "metadata": {
      "application/vnd.databricks.v1+output": {
       "addedWidgets": {},
       "aggData": [],
       "aggError": "",
       "aggOverflow": false,
       "aggSchema": [],
       "aggSeriesLimitReached": false,
       "aggType": "",
       "arguments": {},
       "columnCustomDisplayInfos": {},
       "data": [
        [
         "dbfs:/FileStore/tables/Files/actors.csv",
         "actors.csv",
         41451610,
         1742849563000
        ],
        [
         "dbfs:/FileStore/tables/Files/movies.csv",
         "movies.csv",
         50657522,
         1742849569000
        ],
        [
         "dbfs:/FileStore/tables/Files/names.csv",
         "names.csv",
         62194757,
         1742849577000
        ],
        [
         "dbfs:/FileStore/tables/Files/ratings.csv",
         "ratings.csv",
         17363252,
         1742849579000
        ]
       ],
       "datasetInfos": [],
       "dbfsResultPath": null,
       "isJsonSchema": true,
       "metadata": {},
       "overflow": false,
       "plotOptions": {
        "customPlotOptions": {},
        "displayType": "table",
        "pivotAggregation": null,
        "pivotColumns": null,
        "xColumns": null,
        "yColumns": null
       },
       "removedWidgets": [],
       "schema": [
        {
         "metadata": "{}",
         "name": "path",
         "type": "\"string\""
        },
        {
         "metadata": "{}",
         "name": "name",
         "type": "\"string\""
        },
        {
         "metadata": "{}",
         "name": "size",
         "type": "\"long\""
        },
        {
         "metadata": "{}",
         "name": "modificationTime",
         "type": "\"long\""
        }
       ],
       "type": "table"
      }
     },
     "output_type": "display_data"
    }
   ],
   "source": [
    "display(dbutils.fs.ls(\"dbfs:/FileStore/tables/Files/\"))"
   ]
  },
  {
   "cell_type": "code",
   "execution_count": 0,
   "metadata": {
    "application/vnd.databricks.v1+cell": {
     "cellMetadata": {
      "byteLimit": 2048000,
      "rowLimit": 10000
     },
     "inputWidgets": {},
     "nuid": "0983dde7-5b73-4402-a84d-4d054a8775f5",
     "showTitle": false,
     "tableResultSettingsMap": {},
     "title": ""
    }
   },
   "outputs": [
    {
     "output_type": "display_data",
     "data": {
      "text/html": [
       "<style scoped>\n",
       "  .table-result-container {\n",
       "    max-height: 300px;\n",
       "    overflow: auto;\n",
       "  }\n",
       "  table, th, td {\n",
       "    border: 1px solid black;\n",
       "    border-collapse: collapse;\n",
       "  }\n",
       "  th, td {\n",
       "    padding: 5px;\n",
       "  }\n",
       "  th {\n",
       "    text-align: left;\n",
       "  }\n",
       "</style><div class='table-result-container'><table class='table-result'><thead style='background-color: white'><tr><th>title</th><th>original_title</th><th>year</th><th>genre</th><th>duration</th><th>country</th></tr></thead><tbody><tr><td>Miss Jerry</td><td>Miss Jerry</td><td>1894</td><td>Romance</td><td>45</td><td>USA</td></tr><tr><td>The Story of the Kelly Gang</td><td>The Story of the Kelly Gang</td><td>1906</td><td>Biography, Crime, Drama</td><td>70</td><td>Australia</td></tr><tr><td>Den sorte drøm</td><td>Den sorte drøm</td><td>1911</td><td>Drama</td><td>53</td><td>Germany, Denmark</td></tr><tr><td>Cleopatra</td><td>Cleopatra</td><td>1912</td><td>Drama, History</td><td>100</td><td>USA</td></tr><tr><td>L'Inferno</td><td>L'Inferno</td><td>1911</td><td>Adventure, Drama, Fantasy</td><td>68</td><td>Italy</td></tr><tr><td>From the Manger to the Cross or, Jesus of Nazareth</td><td>From the Manger to the Cross or, Jesus of Nazareth</td><td>1912</td><td>Biography, Drama</td><td>60</td><td>USA</td></tr><tr><td>Madame DuBarry</td><td>Madame DuBarry</td><td>1919</td><td>Biography, Drama, Romance</td><td>85</td><td>Germany</td></tr><tr><td>Quo Vadis?</td><td>Quo Vadis?</td><td>1913</td><td>Drama, History</td><td>120</td><td>Italy</td></tr><tr><td>Independenta Romaniei</td><td>Independenta Romaniei</td><td>1912</td><td>History, War</td><td>120</td><td>Romania</td></tr><tr><td>Richard III</td><td>Richard III</td><td>1912</td><td>Drama</td><td>55</td><td>France, USA</td></tr><tr><td>Atlantis</td><td>Atlantis</td><td>1913</td><td>Drama</td><td>121</td><td>Denmark</td></tr><tr><td>Fantômas - À l'ombre de la guillotine</td><td>Fantômas - À l'ombre de la guillotine</td><td>1913</td><td>Crime, Drama</td><td>54</td><td>France</td></tr><tr><td>Il calvario di una madre</td><td>Ingeborg Holm</td><td>1913</td><td>Drama</td><td>96</td><td>Sweden</td></tr><tr><td>Juve contre Fantômas</td><td>Juve contre Fantômas</td><td>1913</td><td>Crime, Drama</td><td>61</td><td>France</td></tr><tr><td>Ma l'amor mio non muore...</td><td>Ma l'amor mio non muore...</td><td>1914</td><td>Drama</td><td>90</td><td>Italy</td></tr><tr><td>Maudite soit la guerre</td><td>Maudite soit la guerre</td><td>1914</td><td>Drama, War</td><td>50</td><td>Belgium</td></tr><tr><td>Le mort qui tue</td><td>Le mort qui tue</td><td>1913</td><td>Crime, Drama, Mystery</td><td>90</td><td>France</td></tr><tr><td>Amore di madre</td><td>Home, Sweet Home</td><td>1914</td><td>Drama</td><td>55</td><td>USA</td></tr><tr><td>Lo studente di Praga</td><td>Der Student von Prag</td><td>1913</td><td>Drama, Fantasy, Horror</td><td>85</td><td>Germany</td></tr><tr><td>Traffic in Souls</td><td>Traffic in Souls</td><td>1913</td><td>Crime, Drama</td><td>88</td><td>USA</td></tr></tbody></table></div>"
      ]
     },
     "metadata": {
      "application/vnd.databricks.v1+output": {
       "addedWidgets": {},
       "aggData": [],
       "aggError": "",
       "aggOverflow": false,
       "aggSchema": [],
       "aggSeriesLimitReached": false,
       "aggType": "",
       "arguments": {},
       "columnCustomDisplayInfos": {},
       "data": [
        [
         "Miss Jerry",
         "Miss Jerry",
         "1894",
         "Romance",
         "45",
         "USA"
        ],
        [
         "The Story of the Kelly Gang",
         "The Story of the Kelly Gang",
         "1906",
         "Biography, Crime, Drama",
         "70",
         "Australia"
        ],
        [
         "Den sorte drøm",
         "Den sorte drøm",
         "1911",
         "Drama",
         "53",
         "Germany, Denmark"
        ],
        [
         "Cleopatra",
         "Cleopatra",
         "1912",
         "Drama, History",
         "100",
         "USA"
        ],
        [
         "L'Inferno",
         "L'Inferno",
         "1911",
         "Adventure, Drama, Fantasy",
         "68",
         "Italy"
        ],
        [
         "From the Manger to the Cross or, Jesus of Nazareth",
         "From the Manger to the Cross or, Jesus of Nazareth",
         "1912",
         "Biography, Drama",
         "60",
         "USA"
        ],
        [
         "Madame DuBarry",
         "Madame DuBarry",
         "1919",
         "Biography, Drama, Romance",
         "85",
         "Germany"
        ],
        [
         "Quo Vadis?",
         "Quo Vadis?",
         "1913",
         "Drama, History",
         "120",
         "Italy"
        ],
        [
         "Independenta Romaniei",
         "Independenta Romaniei",
         "1912",
         "History, War",
         "120",
         "Romania"
        ],
        [
         "Richard III",
         "Richard III",
         "1912",
         "Drama",
         "55",
         "France, USA"
        ],
        [
         "Atlantis",
         "Atlantis",
         "1913",
         "Drama",
         "121",
         "Denmark"
        ],
        [
         "Fantômas - À l'ombre de la guillotine",
         "Fantômas - À l'ombre de la guillotine",
         "1913",
         "Crime, Drama",
         "54",
         "France"
        ],
        [
         "Il calvario di una madre",
         "Ingeborg Holm",
         "1913",
         "Drama",
         "96",
         "Sweden"
        ],
        [
         "Juve contre Fantômas",
         "Juve contre Fantômas",
         "1913",
         "Crime, Drama",
         "61",
         "France"
        ],
        [
         "Ma l'amor mio non muore...",
         "Ma l'amor mio non muore...",
         "1914",
         "Drama",
         "90",
         "Italy"
        ],
        [
         "Maudite soit la guerre",
         "Maudite soit la guerre",
         "1914",
         "Drama, War",
         "50",
         "Belgium"
        ],
        [
         "Le mort qui tue",
         "Le mort qui tue",
         "1913",
         "Crime, Drama, Mystery",
         "90",
         "France"
        ],
        [
         "Amore di madre",
         "Home, Sweet Home",
         "1914",
         "Drama",
         "55",
         "USA"
        ],
        [
         "Lo studente di Praga",
         "Der Student von Prag",
         "1913",
         "Drama, Fantasy, Horror",
         "85",
         "Germany"
        ],
        [
         "Traffic in Souls",
         "Traffic in Souls",
         "1913",
         "Crime, Drama",
         "88",
         "USA"
        ]
       ],
       "datasetInfos": [],
       "dbfsResultPath": null,
       "isJsonSchema": true,
       "metadata": {},
       "overflow": false,
       "plotOptions": {
        "customPlotOptions": {},
        "displayType": "table",
        "pivotAggregation": null,
        "pivotColumns": null,
        "xColumns": null,
        "yColumns": null
       },
       "removedWidgets": [],
       "schema": [
        {
         "metadata": "{}",
         "name": "title",
         "type": "\"string\""
        },
        {
         "metadata": "{}",
         "name": "original_title",
         "type": "\"string\""
        },
        {
         "metadata": "{}",
         "name": "year",
         "type": "\"string\""
        },
        {
         "metadata": "{}",
         "name": "genre",
         "type": "\"string\""
        },
        {
         "metadata": "{}",
         "name": "duration",
         "type": "\"string\""
        },
        {
         "metadata": "{}",
         "name": "country",
         "type": "\"string\""
        }
       ],
       "type": "table"
      }
     },
     "output_type": "display_data"
    }
   ],
   "source": [
    "schemat = StructType([\n",
    "    StructField(\"title\", StringType(), True),\n",
    "    StructField(\"original_title\", StringType(), True),\n",
    "    StructField(\"year\", IntegerType(), True),\n",
    "    StructField(\"genre\", StringType(), True),\n",
    "    StructField(\"duration\", IntegerType(), True),\n",
    "    StructField(\"country\", StringType(), True)\n",
    "])\n",
    "\n",
    "\n",
    "moviesDf = spark.read.format(\"csv\") \\\n",
    "            .option(\"header\",\"true\") \\\n",
    "            .option(\"schemat\",\"true\") \\\n",
    "            .load(\"dbfs:/FileStore/tables/Files/movies.csv\") \\\n",
    "            .select(\"title\", \"original_title\", \"year\", \"genre\", \"duration\", \"country\") \\\n",
    "            .limit(20)\n",
    "display(moviesDf)"
   ]
  },
  {
   "cell_type": "markdown",
   "metadata": {
    "application/vnd.databricks.v1+cell": {
     "cellMetadata": {},
     "inputWidgets": {},
     "nuid": "a7e91fec-c2f4-4111-85dc-2adb9b7a709c",
     "showTitle": false,
     "tableResultSettingsMap": {},
     "title": ""
    }
   },
   "source": [
    "### Zadanie 3"
   ]
  },
  {
   "cell_type": "code",
   "execution_count": 0,
   "metadata": {
    "application/vnd.databricks.v1+cell": {
     "cellMetadata": {
      "byteLimit": 2048000,
      "rowLimit": 10000
     },
     "inputWidgets": {},
     "nuid": "482837f1-3119-449f-a675-8007917dd800",
     "showTitle": false,
     "tableResultSettingsMap": {},
     "title": ""
    }
   },
   "outputs": [
    {
     "output_type": "display_data",
     "data": {
      "text/html": [
       "<style scoped>\n",
       "  .table-result-container {\n",
       "    max-height: 300px;\n",
       "    overflow: auto;\n",
       "  }\n",
       "  table, th, td {\n",
       "    border: 1px solid black;\n",
       "    border-collapse: collapse;\n",
       "  }\n",
       "  th, td {\n",
       "    padding: 5px;\n",
       "  }\n",
       "  th {\n",
       "    text-align: left;\n",
       "  }\n",
       "</style><div class='table-result-container'><table class='table-result'><thead style='background-color: white'><tr><th>title</th><th>original_title</th><th>year</th><th>genre</th><th>duration</th><th>country</th></tr></thead><tbody><tr><td>Miss Jerry</td><td>Miss Jerry</td><td>1894</td><td>Romance</td><td>45</td><td>USA</td></tr><tr><td>The Story of the Kelly Gang</td><td>The Story of the Kelly Gang</td><td>1906</td><td>Biography, Crime, Drama</td><td>70</td><td>Australia</td></tr><tr><td>Den sorte drøm</td><td>Den sorte drøm</td><td>1911</td><td>Drama</td><td>53</td><td>Germany, Denmark</td></tr><tr><td>Cleopatra</td><td>Cleopatra</td><td>a</td><td>Drama, History</td><td>100</td><td>USA</td></tr><tr><td>L'Inferno</td><td>L'Inferno</td><td>1911</td><td>Adventure, Drama, Fantasy</td><td>68</td><td>Italy</td></tr><tr><td>From the Manger to the Cross or, Jesus of Nazareth</td><td>From the Manger to the Cross or, Jesus of Nazareth</td><td>a</td><td>Biography, Drama</td><td>60</td><td>USA</td></tr><tr><td>Madame DuBarry</td><td>Madame DuBarry</td><td>1919</td><td>Biography, Drama, Romance</td><td>85</td><td>Germany</td></tr><tr><td>Quo Vadis?</td><td>Quo Vadis?</td><td>1913</td><td>Drama, History</td><td>120</td><td>Italy</td></tr><tr><td>Independenta Romaniei</td><td>Independenta Romaniei</td><td>a</td><td>History, War</td><td>120</td><td>Romania</td></tr><tr><td>Richard III</td><td>Richard III</td><td>a</td><td>Drama</td><td>55</td><td>France, USA</td></tr><tr><td>Atlantis</td><td>Atlantis</td><td>1913</td><td>Drama</td><td>121</td><td>Denmark</td></tr><tr><td>Fantômas - À l'ombre de la guillotine</td><td>Fantômas - À l'ombre de la guillotine</td><td>1913</td><td>Crime, Drama</td><td>54</td><td>France</td></tr><tr><td>Il calvario di una madre</td><td>Ingeborg Holm</td><td>1913</td><td>Drama</td><td>96</td><td>Sweden</td></tr><tr><td>Juve contre Fantômas</td><td>Juve contre Fantômas</td><td>1913</td><td>Crime, Drama</td><td>61</td><td>France</td></tr><tr><td>Ma l'amor mio non muore...</td><td>Ma l'amor mio non muore...</td><td>1914</td><td>Drama</td><td>90</td><td>Italy</td></tr><tr><td>Maudite soit la guerre</td><td>Maudite soit la guerre</td><td>1914</td><td>Drama, War</td><td>50</td><td>Belgium</td></tr><tr><td>Le mort qui tue</td><td>Le mort qui tue</td><td>1913</td><td>Crime, Drama, Mystery</td><td>90</td><td>France</td></tr><tr><td>Amore di madre</td><td>Home, Sweet Home</td><td>1914</td><td>Drama</td><td>55</td><td>USA</td></tr><tr><td>Lo studente di Praga</td><td>Der Student von Prag</td><td>1913</td><td>Drama, Fantasy, Horror</td><td>85</td><td>Germany</td></tr><tr><td>Traffic in Souls</td><td>Traffic in Souls</td><td>1913</td><td>Crime, Drama</td><td>88</td><td>USA</td></tr></tbody></table></div>"
      ]
     },
     "metadata": {
      "application/vnd.databricks.v1+output": {
       "addedWidgets": {},
       "aggData": [],
       "aggError": "",
       "aggOverflow": false,
       "aggSchema": [],
       "aggSeriesLimitReached": false,
       "aggType": "",
       "arguments": {},
       "columnCustomDisplayInfos": {},
       "data": [
        [
         "Miss Jerry",
         "Miss Jerry",
         "1894",
         "Romance",
         "45",
         "USA"
        ],
        [
         "The Story of the Kelly Gang",
         "The Story of the Kelly Gang",
         "1906",
         "Biography, Crime, Drama",
         "70",
         "Australia"
        ],
        [
         "Den sorte drøm",
         "Den sorte drøm",
         "1911",
         "Drama",
         "53",
         "Germany, Denmark"
        ],
        [
         "Cleopatra",
         "Cleopatra",
         "a",
         "Drama, History",
         "100",
         "USA"
        ],
        [
         "L'Inferno",
         "L'Inferno",
         "1911",
         "Adventure, Drama, Fantasy",
         "68",
         "Italy"
        ],
        [
         "From the Manger to the Cross or, Jesus of Nazareth",
         "From the Manger to the Cross or, Jesus of Nazareth",
         "a",
         "Biography, Drama",
         "60",
         "USA"
        ],
        [
         "Madame DuBarry",
         "Madame DuBarry",
         "1919",
         "Biography, Drama, Romance",
         "85",
         "Germany"
        ],
        [
         "Quo Vadis?",
         "Quo Vadis?",
         "1913",
         "Drama, History",
         "120",
         "Italy"
        ],
        [
         "Independenta Romaniei",
         "Independenta Romaniei",
         "a",
         "History, War",
         "120",
         "Romania"
        ],
        [
         "Richard III",
         "Richard III",
         "a",
         "Drama",
         "55",
         "France, USA"
        ],
        [
         "Atlantis",
         "Atlantis",
         "1913",
         "Drama",
         "121",
         "Denmark"
        ],
        [
         "Fantômas - À l'ombre de la guillotine",
         "Fantômas - À l'ombre de la guillotine",
         "1913",
         "Crime, Drama",
         "54",
         "France"
        ],
        [
         "Il calvario di una madre",
         "Ingeborg Holm",
         "1913",
         "Drama",
         "96",
         "Sweden"
        ],
        [
         "Juve contre Fantômas",
         "Juve contre Fantômas",
         "1913",
         "Crime, Drama",
         "61",
         "France"
        ],
        [
         "Ma l'amor mio non muore...",
         "Ma l'amor mio non muore...",
         "1914",
         "Drama",
         "90",
         "Italy"
        ],
        [
         "Maudite soit la guerre",
         "Maudite soit la guerre",
         "1914",
         "Drama, War",
         "50",
         "Belgium"
        ],
        [
         "Le mort qui tue",
         "Le mort qui tue",
         "1913",
         "Crime, Drama, Mystery",
         "90",
         "France"
        ],
        [
         "Amore di madre",
         "Home, Sweet Home",
         "1914",
         "Drama",
         "55",
         "USA"
        ],
        [
         "Lo studente di Praga",
         "Der Student von Prag",
         "1913",
         "Drama, Fantasy, Horror",
         "85",
         "Germany"
        ],
        [
         "Traffic in Souls",
         "Traffic in Souls",
         "1913",
         "Crime, Drama",
         "88",
         "USA"
        ]
       ],
       "datasetInfos": [],
       "dbfsResultPath": null,
       "isJsonSchema": true,
       "metadata": {},
       "overflow": false,
       "plotOptions": {
        "customPlotOptions": {},
        "displayType": "table",
        "pivotAggregation": null,
        "pivotColumns": null,
        "xColumns": null,
        "yColumns": null
       },
       "removedWidgets": [],
       "schema": [
        {
         "metadata": "{}",
         "name": "title",
         "type": "\"string\""
        },
        {
         "metadata": "{}",
         "name": "original_title",
         "type": "\"string\""
        },
        {
         "metadata": "{}",
         "name": "year",
         "type": "\"string\""
        },
        {
         "metadata": "{}",
         "name": "genre",
         "type": "\"string\""
        },
        {
         "metadata": "{}",
         "name": "duration",
         "type": "\"string\""
        },
        {
         "metadata": "{}",
         "name": "country",
         "type": "\"string\""
        }
       ],
       "type": "table"
      }
     },
     "output_type": "display_data"
    }
   ],
   "source": [
    "moviesDf = moviesDf.withColumn(\"year\", func.when(func.col(\"year\") == 1912, \"a\").otherwise(func.col(\"year\")))\n",
    "display(moviesDf)\n",
    "moviesDf.write.csv(\"dbfs:/tmp/movies2.csv\", sep=\";\", mode=\"overwrite\", header=True)\n",
    "\n",
    "\n"
   ]
  },
  {
   "cell_type": "code",
   "execution_count": 0,
   "metadata": {
    "application/vnd.databricks.v1+cell": {
     "cellMetadata": {
      "byteLimit": 2048000,
      "rowLimit": 10000
     },
     "inputWidgets": {},
     "nuid": "10c15f1c-0563-4842-99a6-f4c9b13750bb",
     "showTitle": false,
     "tableResultSettingsMap": {},
     "title": ""
    }
   },
   "outputs": [
    {
     "output_type": "display_data",
     "data": {
      "text/html": [
       "<style scoped>\n",
       "  .table-result-container {\n",
       "    max-height: 300px;\n",
       "    overflow: auto;\n",
       "  }\n",
       "  table, th, td {\n",
       "    border: 1px solid black;\n",
       "    border-collapse: collapse;\n",
       "  }\n",
       "  th, td {\n",
       "    padding: 5px;\n",
       "  }\n",
       "  th {\n",
       "    text-align: left;\n",
       "  }\n",
       "</style><div class='table-result-container'><table class='table-result'><thead style='background-color: white'><tr><th>title</th><th>original_title</th><th>year</th><th>genre</th><th>duration</th><th>country</th></tr></thead><tbody><tr><td>Miss Jerry</td><td>Miss Jerry</td><td>1894</td><td>Romance</td><td>45</td><td>USA</td></tr><tr><td>The Story of the Kelly Gang</td><td>The Story of the Kelly Gang</td><td>1906</td><td>Biography, Crime, Drama</td><td>70</td><td>Australia</td></tr><tr><td>Den sorte drøm</td><td>Den sorte drøm</td><td>1911</td><td>Drama</td><td>53</td><td>Germany, Denmark</td></tr><tr><td>Cleopatra</td><td>Cleopatra</td><td>null</td><td>Drama, History</td><td>100</td><td>USA</td></tr><tr><td>L'Inferno</td><td>L'Inferno</td><td>1911</td><td>Adventure, Drama, Fantasy</td><td>68</td><td>Italy</td></tr><tr><td>From the Manger to the Cross or, Jesus of Nazareth</td><td>From the Manger to the Cross or, Jesus of Nazareth</td><td>null</td><td>Biography, Drama</td><td>60</td><td>USA</td></tr><tr><td>Madame DuBarry</td><td>Madame DuBarry</td><td>1919</td><td>Biography, Drama, Romance</td><td>85</td><td>Germany</td></tr><tr><td>Quo Vadis?</td><td>Quo Vadis?</td><td>1913</td><td>Drama, History</td><td>120</td><td>Italy</td></tr><tr><td>Independenta Romaniei</td><td>Independenta Romaniei</td><td>null</td><td>History, War</td><td>120</td><td>Romania</td></tr><tr><td>Richard III</td><td>Richard III</td><td>null</td><td>Drama</td><td>55</td><td>France, USA</td></tr><tr><td>Atlantis</td><td>Atlantis</td><td>1913</td><td>Drama</td><td>121</td><td>Denmark</td></tr><tr><td>Fantômas - À l'ombre de la guillotine</td><td>Fantômas - À l'ombre de la guillotine</td><td>1913</td><td>Crime, Drama</td><td>54</td><td>France</td></tr><tr><td>Il calvario di una madre</td><td>Ingeborg Holm</td><td>1913</td><td>Drama</td><td>96</td><td>Sweden</td></tr><tr><td>Juve contre Fantômas</td><td>Juve contre Fantômas</td><td>1913</td><td>Crime, Drama</td><td>61</td><td>France</td></tr><tr><td>Ma l'amor mio non muore...</td><td>Ma l'amor mio non muore...</td><td>1914</td><td>Drama</td><td>90</td><td>Italy</td></tr><tr><td>Maudite soit la guerre</td><td>Maudite soit la guerre</td><td>1914</td><td>Drama, War</td><td>50</td><td>Belgium</td></tr><tr><td>Le mort qui tue</td><td>Le mort qui tue</td><td>1913</td><td>Crime, Drama, Mystery</td><td>90</td><td>France</td></tr><tr><td>Amore di madre</td><td>Home, Sweet Home</td><td>1914</td><td>Drama</td><td>55</td><td>USA</td></tr><tr><td>Lo studente di Praga</td><td>Der Student von Prag</td><td>1913</td><td>Drama, Fantasy, Horror</td><td>85</td><td>Germany</td></tr><tr><td>Traffic in Souls</td><td>Traffic in Souls</td><td>1913</td><td>Crime, Drama</td><td>88</td><td>USA</td></tr></tbody></table></div>"
      ]
     },
     "metadata": {
      "application/vnd.databricks.v1+output": {
       "addedWidgets": {},
       "aggData": [],
       "aggError": "",
       "aggOverflow": false,
       "aggSchema": [],
       "aggSeriesLimitReached": false,
       "aggType": "",
       "arguments": {},
       "columnCustomDisplayInfos": {},
       "data": [
        [
         "Miss Jerry",
         "Miss Jerry",
         1894,
         "Romance",
         45,
         "USA"
        ],
        [
         "The Story of the Kelly Gang",
         "The Story of the Kelly Gang",
         1906,
         "Biography, Crime, Drama",
         70,
         "Australia"
        ],
        [
         "Den sorte drøm",
         "Den sorte drøm",
         1911,
         "Drama",
         53,
         "Germany, Denmark"
        ],
        [
         "Cleopatra",
         "Cleopatra",
         null,
         "Drama, History",
         100,
         "USA"
        ],
        [
         "L'Inferno",
         "L'Inferno",
         1911,
         "Adventure, Drama, Fantasy",
         68,
         "Italy"
        ],
        [
         "From the Manger to the Cross or, Jesus of Nazareth",
         "From the Manger to the Cross or, Jesus of Nazareth",
         null,
         "Biography, Drama",
         60,
         "USA"
        ],
        [
         "Madame DuBarry",
         "Madame DuBarry",
         1919,
         "Biography, Drama, Romance",
         85,
         "Germany"
        ],
        [
         "Quo Vadis?",
         "Quo Vadis?",
         1913,
         "Drama, History",
         120,
         "Italy"
        ],
        [
         "Independenta Romaniei",
         "Independenta Romaniei",
         null,
         "History, War",
         120,
         "Romania"
        ],
        [
         "Richard III",
         "Richard III",
         null,
         "Drama",
         55,
         "France, USA"
        ],
        [
         "Atlantis",
         "Atlantis",
         1913,
         "Drama",
         121,
         "Denmark"
        ],
        [
         "Fantômas - À l'ombre de la guillotine",
         "Fantômas - À l'ombre de la guillotine",
         1913,
         "Crime, Drama",
         54,
         "France"
        ],
        [
         "Il calvario di una madre",
         "Ingeborg Holm",
         1913,
         "Drama",
         96,
         "Sweden"
        ],
        [
         "Juve contre Fantômas",
         "Juve contre Fantômas",
         1913,
         "Crime, Drama",
         61,
         "France"
        ],
        [
         "Ma l'amor mio non muore...",
         "Ma l'amor mio non muore...",
         1914,
         "Drama",
         90,
         "Italy"
        ],
        [
         "Maudite soit la guerre",
         "Maudite soit la guerre",
         1914,
         "Drama, War",
         50,
         "Belgium"
        ],
        [
         "Le mort qui tue",
         "Le mort qui tue",
         1913,
         "Crime, Drama, Mystery",
         90,
         "France"
        ],
        [
         "Amore di madre",
         "Home, Sweet Home",
         1914,
         "Drama",
         55,
         "USA"
        ],
        [
         "Lo studente di Praga",
         "Der Student von Prag",
         1913,
         "Drama, Fantasy, Horror",
         85,
         "Germany"
        ],
        [
         "Traffic in Souls",
         "Traffic in Souls",
         1913,
         "Crime, Drama",
         88,
         "USA"
        ]
       ],
       "datasetInfos": [],
       "dbfsResultPath": null,
       "isJsonSchema": true,
       "metadata": {},
       "overflow": false,
       "plotOptions": {
        "customPlotOptions": {},
        "displayType": "table",
        "pivotAggregation": null,
        "pivotColumns": null,
        "xColumns": null,
        "yColumns": null
       },
       "removedWidgets": [],
       "schema": [
        {
         "metadata": "{}",
         "name": "title",
         "type": "\"string\""
        },
        {
         "metadata": "{}",
         "name": "original_title",
         "type": "\"string\""
        },
        {
         "metadata": "{}",
         "name": "year",
         "type": "\"integer\""
        },
        {
         "metadata": "{}",
         "name": "genre",
         "type": "\"string\""
        },
        {
         "metadata": "{}",
         "name": "duration",
         "type": "\"integer\""
        },
        {
         "metadata": "{}",
         "name": "country",
         "type": "\"string\""
        }
       ],
       "type": "table"
      }
     },
     "output_type": "display_data"
    }
   ],
   "source": [
    "permissive_mode = spark.read.option(\"header\", True).option(\"mode\", \"permissive\").schema(schemat).csv(\"/tmp/movies2.csv\", sep=\";\")\n",
    "display(permissive_mode)"
   ]
  },
  {
   "cell_type": "code",
   "execution_count": 0,
   "metadata": {
    "application/vnd.databricks.v1+cell": {
     "cellMetadata": {
      "byteLimit": 2048000,
      "rowLimit": 10000
     },
     "inputWidgets": {},
     "nuid": "b0822d35-b58a-4551-9d0b-4efde370b368",
     "showTitle": false,
     "tableResultSettingsMap": {},
     "title": ""
    }
   },
   "outputs": [
    {
     "output_type": "display_data",
     "data": {
      "text/html": [
       "<style scoped>\n",
       "  .table-result-container {\n",
       "    max-height: 300px;\n",
       "    overflow: auto;\n",
       "  }\n",
       "  table, th, td {\n",
       "    border: 1px solid black;\n",
       "    border-collapse: collapse;\n",
       "  }\n",
       "  th, td {\n",
       "    padding: 5px;\n",
       "  }\n",
       "  th {\n",
       "    text-align: left;\n",
       "  }\n",
       "</style><div class='table-result-container'><table class='table-result'><thead style='background-color: white'><tr><th>title</th><th>original_title</th><th>year</th><th>genre</th><th>duration</th><th>country</th></tr></thead><tbody><tr><td>Miss Jerry</td><td>Miss Jerry</td><td>1894</td><td>Romance</td><td>45</td><td>USA</td></tr><tr><td>The Story of the Kelly Gang</td><td>The Story of the Kelly Gang</td><td>1906</td><td>Biography, Crime, Drama</td><td>70</td><td>Australia</td></tr><tr><td>Den sorte drøm</td><td>Den sorte drøm</td><td>1911</td><td>Drama</td><td>53</td><td>Germany, Denmark</td></tr><tr><td>L'Inferno</td><td>L'Inferno</td><td>1911</td><td>Adventure, Drama, Fantasy</td><td>68</td><td>Italy</td></tr><tr><td>Madame DuBarry</td><td>Madame DuBarry</td><td>1919</td><td>Biography, Drama, Romance</td><td>85</td><td>Germany</td></tr><tr><td>Quo Vadis?</td><td>Quo Vadis?</td><td>1913</td><td>Drama, History</td><td>120</td><td>Italy</td></tr><tr><td>Atlantis</td><td>Atlantis</td><td>1913</td><td>Drama</td><td>121</td><td>Denmark</td></tr><tr><td>Fantômas - À l'ombre de la guillotine</td><td>Fantômas - À l'ombre de la guillotine</td><td>1913</td><td>Crime, Drama</td><td>54</td><td>France</td></tr><tr><td>Il calvario di una madre</td><td>Ingeborg Holm</td><td>1913</td><td>Drama</td><td>96</td><td>Sweden</td></tr><tr><td>Juve contre Fantômas</td><td>Juve contre Fantômas</td><td>1913</td><td>Crime, Drama</td><td>61</td><td>France</td></tr><tr><td>Ma l'amor mio non muore...</td><td>Ma l'amor mio non muore...</td><td>1914</td><td>Drama</td><td>90</td><td>Italy</td></tr><tr><td>Maudite soit la guerre</td><td>Maudite soit la guerre</td><td>1914</td><td>Drama, War</td><td>50</td><td>Belgium</td></tr><tr><td>Le mort qui tue</td><td>Le mort qui tue</td><td>1913</td><td>Crime, Drama, Mystery</td><td>90</td><td>France</td></tr><tr><td>Amore di madre</td><td>Home, Sweet Home</td><td>1914</td><td>Drama</td><td>55</td><td>USA</td></tr><tr><td>Lo studente di Praga</td><td>Der Student von Prag</td><td>1913</td><td>Drama, Fantasy, Horror</td><td>85</td><td>Germany</td></tr><tr><td>Traffic in Souls</td><td>Traffic in Souls</td><td>1913</td><td>Crime, Drama</td><td>88</td><td>USA</td></tr></tbody></table></div>"
      ]
     },
     "metadata": {
      "application/vnd.databricks.v1+output": {
       "addedWidgets": {},
       "aggData": [],
       "aggError": "",
       "aggOverflow": false,
       "aggSchema": [],
       "aggSeriesLimitReached": false,
       "aggType": "",
       "arguments": {},
       "columnCustomDisplayInfos": {},
       "data": [
        [
         "Miss Jerry",
         "Miss Jerry",
         1894,
         "Romance",
         45,
         "USA"
        ],
        [
         "The Story of the Kelly Gang",
         "The Story of the Kelly Gang",
         1906,
         "Biography, Crime, Drama",
         70,
         "Australia"
        ],
        [
         "Den sorte drøm",
         "Den sorte drøm",
         1911,
         "Drama",
         53,
         "Germany, Denmark"
        ],
        [
         "L'Inferno",
         "L'Inferno",
         1911,
         "Adventure, Drama, Fantasy",
         68,
         "Italy"
        ],
        [
         "Madame DuBarry",
         "Madame DuBarry",
         1919,
         "Biography, Drama, Romance",
         85,
         "Germany"
        ],
        [
         "Quo Vadis?",
         "Quo Vadis?",
         1913,
         "Drama, History",
         120,
         "Italy"
        ],
        [
         "Atlantis",
         "Atlantis",
         1913,
         "Drama",
         121,
         "Denmark"
        ],
        [
         "Fantômas - À l'ombre de la guillotine",
         "Fantômas - À l'ombre de la guillotine",
         1913,
         "Crime, Drama",
         54,
         "France"
        ],
        [
         "Il calvario di una madre",
         "Ingeborg Holm",
         1913,
         "Drama",
         96,
         "Sweden"
        ],
        [
         "Juve contre Fantômas",
         "Juve contre Fantômas",
         1913,
         "Crime, Drama",
         61,
         "France"
        ],
        [
         "Ma l'amor mio non muore...",
         "Ma l'amor mio non muore...",
         1914,
         "Drama",
         90,
         "Italy"
        ],
        [
         "Maudite soit la guerre",
         "Maudite soit la guerre",
         1914,
         "Drama, War",
         50,
         "Belgium"
        ],
        [
         "Le mort qui tue",
         "Le mort qui tue",
         1913,
         "Crime, Drama, Mystery",
         90,
         "France"
        ],
        [
         "Amore di madre",
         "Home, Sweet Home",
         1914,
         "Drama",
         55,
         "USA"
        ],
        [
         "Lo studente di Praga",
         "Der Student von Prag",
         1913,
         "Drama, Fantasy, Horror",
         85,
         "Germany"
        ],
        [
         "Traffic in Souls",
         "Traffic in Souls",
         1913,
         "Crime, Drama",
         88,
         "USA"
        ]
       ],
       "datasetInfos": [],
       "dbfsResultPath": null,
       "isJsonSchema": true,
       "metadata": {},
       "overflow": false,
       "plotOptions": {
        "customPlotOptions": {},
        "displayType": "table",
        "pivotAggregation": null,
        "pivotColumns": null,
        "xColumns": null,
        "yColumns": null
       },
       "removedWidgets": [],
       "schema": [
        {
         "metadata": "{}",
         "name": "title",
         "type": "\"string\""
        },
        {
         "metadata": "{}",
         "name": "original_title",
         "type": "\"string\""
        },
        {
         "metadata": "{}",
         "name": "year",
         "type": "\"integer\""
        },
        {
         "metadata": "{}",
         "name": "genre",
         "type": "\"string\""
        },
        {
         "metadata": "{}",
         "name": "duration",
         "type": "\"integer\""
        },
        {
         "metadata": "{}",
         "name": "country",
         "type": "\"string\""
        }
       ],
       "type": "table"
      }
     },
     "output_type": "display_data"
    }
   ],
   "source": [
    "\n",
    "dropmalformed_mode = spark.read.option(\"header\", True).option(\"mode\", \"dropMalformed\").schema(schemat).csv(\"/tmp/movies2.csv\", sep=\";\")\n",
    "display(dropmalformed_mode)"
   ]
  },
  {
   "cell_type": "code",
   "execution_count": 0,
   "metadata": {
    "application/vnd.databricks.v1+cell": {
     "cellMetadata": {
      "byteLimit": 2048000,
      "rowLimit": 10000
     },
     "inputWidgets": {},
     "nuid": "79534904-d51e-4136-bbe8-a36849463bd1",
     "showTitle": false,
     "tableResultSettingsMap": {},
     "title": ""
    }
   },
   "outputs": [
    {
     "output_type": "display_data",
     "data": {
      "text/html": [
       "<style scoped>\n",
       "  .ansiout {\n",
       "    display: block;\n",
       "    unicode-bidi: embed;\n",
       "    white-space: pre-wrap;\n",
       "    word-wrap: break-word;\n",
       "    word-break: break-all;\n",
       "    font-family: \"Menlo\", \"Monaco\", \"Consolas\", \"Ubuntu Mono\", \"Source Code Pro\", monospace;\n",
       "    font-size: 13px;\n",
       "    color: #555;\n",
       "    margin-left: 4px;\n",
       "    line-height: 19px;\n",
       "  }\n",
       "</style>\n",
       "org.apache.spark.SparkException: Job aborted due to stage failure: Task 0 in stage 128.0 failed 1 times, most recent failure: Lost task 0.0 in stage 128.0 (TID 319) (ip-10-172-246-211.us-west-2.compute.internal executor driver): com.databricks.sql.io.FileReadException: Error while reading file dbfs:/tmp/movies2.csv/part-00000-tid-3148497942218807931-7cbf58df-d031-4cee-867b-5e101e90eb16-315-1-c000.csv.\n",
       "\tat org.apache.spark.sql.execution.datasources.FileScanRDD$$anon$1$$anon$2.logFileNameAndThrow(FileScanRDD.scala:704)\n",
       "\tat org.apache.spark.sql.execution.datasources.FileScanRDD$$anon$1$$anon$2.getNext(FileScanRDD.scala:673)\n",
       "\tat org.apache.spark.util.NextIterator.hasNext(NextIterator.scala:73)\n",
       "\tat org.apache.spark.sql.execution.datasources.FileScanRDD$$anon$1.$anonfun$hasNext$1(FileScanRDD.scala:493)\n",
       "\tat scala.runtime.java8.JFunction0$mcZ$sp.apply(JFunction0$mcZ$sp.java:23)\n",
       "\tat com.databricks.spark.util.ExecutorFrameProfiler$.record(ExecutorFrameProfiler.scala:110)\n",
       "\tat org.apache.spark.sql.execution.datasources.FileScanRDD$$anon$1.hasNext(FileScanRDD.scala:486)\n",
       "\tat scala.collection.Iterator$$anon$10.hasNext(Iterator.scala:460)\n",
       "\tat org.apache.spark.sql.execution.collect.UnsafeRowBatchUtils$.encodeUnsafeRows(UnsafeRowBatchUtils.scala:82)\n",
       "\tat org.apache.spark.sql.execution.collect.Collector.$anonfun$processFunc$1(Collector.scala:208)\n",
       "\tat org.apache.spark.scheduler.ResultTask.$anonfun$runTask$3(ResultTask.scala:75)\n",
       "\tat com.databricks.spark.util.ExecutorFrameProfiler$.record(ExecutorFrameProfiler.scala:110)\n",
       "\tat org.apache.spark.scheduler.ResultTask.$anonfun$runTask$1(ResultTask.scala:75)\n",
       "\tat com.databricks.spark.util.ExecutorFrameProfiler$.record(ExecutorFrameProfiler.scala:110)\n",
       "\tat org.apache.spark.scheduler.ResultTask.runTask(ResultTask.scala:55)\n",
       "\tat org.apache.spark.scheduler.Task.doRunTask(Task.scala:179)\n",
       "\tat org.apache.spark.scheduler.Task.$anonfun$run$5(Task.scala:142)\n",
       "\tat com.databricks.unity.EmptyHandle$.runWithAndClose(UCSHandle.scala:126)\n",
       "\tat org.apache.spark.scheduler.Task.$anonfun$run$1(Task.scala:142)\n",
       "\tat com.databricks.spark.util.ExecutorFrameProfiler$.record(ExecutorFrameProfiler.scala:110)\n",
       "\tat org.apache.spark.scheduler.Task.run(Task.scala:97)\n",
       "\tat org.apache.spark.executor.Executor$TaskRunner.$anonfun$run$13(Executor.scala:904)\n",
       "\tat org.apache.spark.util.Utils$.tryWithSafeFinally(Utils.scala:1741)\n",
       "\tat org.apache.spark.executor.Executor$TaskRunner.$anonfun$run$4(Executor.scala:907)\n",
       "\tat scala.runtime.java8.JFunction0$mcV$sp.apply(JFunction0$mcV$sp.java:23)\n",
       "\tat com.databricks.spark.util.ExecutorFrameProfiler$.record(ExecutorFrameProfiler.scala:110)\n",
       "\tat org.apache.spark.executor.Executor$TaskRunner.run(Executor.scala:761)\n",
       "\tat java.util.concurrent.ThreadPoolExecutor.runWorker(ThreadPoolExecutor.java:1149)\n",
       "\tat java.util.concurrent.ThreadPoolExecutor$Worker.run(ThreadPoolExecutor.java:624)\n",
       "\tat java.lang.Thread.run(Thread.java:750)\n",
       "Caused by: org.apache.spark.SparkException: Malformed records are detected in record parsing. Parse Mode: FAILFAST. To process malformed records as null result, try setting the option 'mode' as 'PERMISSIVE'.\n",
       "\tat org.apache.spark.sql.errors.QueryExecutionErrors$.malformedRecordsDetectedInRecordParsingError(QueryExecutionErrors.scala:1936)\n",
       "\tat org.apache.spark.sql.catalyst.util.FailureSafeParser.parse(FailureSafeParser.scala:103)\n",
       "\tat org.apache.spark.sql.catalyst.csv.UnivocityParser$.$anonfun$parseIterator$2(UnivocityParser.scala:507)\n",
       "\tat scala.collection.Iterator$$anon$11.nextCur(Iterator.scala:486)\n",
       "\tat scala.collection.Iterator$$anon$11.hasNext(Iterator.scala:492)\n",
       "\tat org.apache.spark.util.CompletionIterator.hasNext(CompletionIterator.scala:31)\n",
       "\tat scala.collection.Iterator$$anon$10.hasNext(Iterator.scala:460)\n",
       "\tat org.apache.spark.sql.execution.datasources.FileScanRDD$$anon$1$$anon$2.getNext(FileScanRDD.scala:619)\n",
       "\t... 28 more\n",
       "Caused by: org.apache.spark.sql.catalyst.util.BadRecordException: java.lang.NumberFormatException: For input string: \"a\"\n",
       "Caused by: java.lang.NumberFormatException: For input string: \"a\"\n",
       "\tat java.lang.NumberFormatException.forInputString(NumberFormatException.java:65)\n",
       "\tat java.lang.Integer.parseInt(Integer.java:580)\n",
       "\tat java.lang.Integer.parseInt(Integer.java:615)\n",
       "\tat scala.collection.immutable.StringLike.toInt(StringLike.scala:304)\n",
       "\tat scala.collection.immutable.StringLike.toInt$(StringLike.scala:304)\n",
       "\tat scala.collection.immutable.StringOps.toInt(StringOps.scala:33)\n",
       "\tat org.apache.spark.sql.catalyst.csv.UnivocityParser.$anonfun$makeConverter$6(UnivocityParser.scala:202)\n",
       "\tat org.apache.spark.sql.catalyst.csv.UnivocityParser.$anonfun$makeConverter$6$adapted(UnivocityParser.scala:202)\n",
       "\tat org.apache.spark.sql.catalyst.csv.UnivocityParser.nullSafeDatum(UnivocityParser.scala:305)\n",
       "\tat org.apache.spark.sql.catalyst.csv.UnivocityParser.$anonfun$makeConverter$5(UnivocityParser.scala:202)\n",
       "\tat org.apache.spark.sql.catalyst.csv.UnivocityParser.convert(UnivocityParser.scala:360)\n",
       "\tat org.apache.spark.sql.catalyst.csv.UnivocityParser.$anonfun$parse$2(UnivocityParser.scala:321)\n",
       "\tat org.apache.spark.sql.catalyst.csv.UnivocityParser$.$anonfun$parseIterator$1(UnivocityParser.scala:499)\n",
       "\tat org.apache.spark.sql.catalyst.util.FailureSafeParser.parse(FailureSafeParser.scala:92)\n",
       "\tat org.apache.spark.sql.catalyst.csv.UnivocityParser$.$anonfun$parseIterator$2(UnivocityParser.scala:507)\n",
       "\tat scala.collection.Iterator$$anon$11.nextCur(Iterator.scala:486)\n",
       "\tat scala.collection.Iterator$$anon$11.hasNext(Iterator.scala:492)\n",
       "\tat org.apache.spark.util.CompletionIterator.hasNext(CompletionIterator.scala:31)\n",
       "\tat scala.collection.Iterator$$anon$10.hasNext(Iterator.scala:460)\n",
       "\tat org.apache.spark.sql.execution.datasources.FileScanRDD$$anon$1$$anon$2.getNext(FileScanRDD.scala:619)\n",
       "\tat org.apache.spark.util.NextIterator.hasNext(NextIterator.scala:73)\n",
       "\tat org.apache.spark.sql.execution.datasources.FileScanRDD$$anon$1.$anonfun$hasNext$1(FileScanRDD.scala:493)\n",
       "\tat scala.runtime.java8.JFunction0$mcZ$sp.apply(JFunction0$mcZ$sp.java:23)\n",
       "\tat com.databricks.spark.util.ExecutorFrameProfiler$.record(ExecutorFrameProfiler.scala:110)\n",
       "\tat org.apache.spark.sql.execution.datasources.FileScanRDD$$anon$1.hasNext(FileScanRDD.scala:486)\n",
       "\tat scala.collection.Iterator$$anon$10.hasNext(Iterator.scala:460)\n",
       "\tat org.apache.spark.sql.execution.collect.UnsafeRowBatchUtils$.encodeUnsafeRows(UnsafeRowBatchUtils.scala:82)\n",
       "\tat org.apache.spark.sql.execution.collect.Collector.$anonfun$processFunc$1(Collector.scala:208)\n",
       "\tat org.apache.spark.scheduler.ResultTask.$anonfun$runTask$3(ResultTask.scala:75)\n",
       "\tat com.databricks.spark.util.ExecutorFrameProfiler$.record(ExecutorFrameProfiler.scala:110)\n",
       "\tat org.apache.spark.scheduler.ResultTask.$anonfun$runTask$1(ResultTask.scala:75)\n",
       "\tat com.databricks.spark.util.ExecutorFrameProfiler$.record(ExecutorFrameProfiler.scala:110)\n",
       "\tat org.apache.spark.scheduler.ResultTask.runTask(ResultTask.scala:55)\n",
       "\tat org.apache.spark.scheduler.Task.doRunTask(Task.scala:179)\n",
       "\tat org.apache.spark.scheduler.Task.$anonfun$run$5(Task.scala:142)\n",
       "\tat com.databricks.unity.EmptyHandle$.runWithAndClose(UCSHandle.scala:126)\n",
       "\tat org.apache.spark.scheduler.Task.$anonfun$run$1(Task.scala:142)\n",
       "\tat com.databricks.spark.util.ExecutorFrameProfiler$.record(ExecutorFrameProfiler.scala:110)\n",
       "\tat org.apache.spark.scheduler.Task.run(Task.scala:97)\n",
       "\tat org.apache.spark.executor.Executor$TaskRunner.$anonfun$run$13(Executor.scala:904)\n",
       "\tat org.apache.spark.util.Utils$.tryWithSafeFinally(Utils.scala:1741)\n",
       "\tat org.apache.spark.executor.Executor$TaskRunner.$anonfun$run$4(Executor.scala:907)\n",
       "\tat scala.runtime.java8.JFunction0$mcV$sp.apply(JFunction0$mcV$sp.java:23)\n",
       "\tat com.databricks.spark.util.ExecutorFrameProfiler$.record(ExecutorFrameProfiler.scala:110)\n",
       "\tat org.apache.spark.executor.Executor$TaskRunner.run(Executor.scala:761)\n",
       "\tat java.util.concurrent.ThreadPoolExecutor.runWorker(ThreadPoolExecutor.java:1149)\n",
       "\tat java.util.concurrent.ThreadPoolExecutor$Worker.run(ThreadPoolExecutor.java:624)\n",
       "\tat java.lang.Thread.run(Thread.java:750)\n",
       "\n",
       "Driver stacktrace:\n",
       "\tat org.apache.spark.scheduler.DAGScheduler.failJobAndIndependentStages(DAGScheduler.scala:3440)\n",
       "\tat org.apache.spark.scheduler.DAGScheduler.$anonfun$abortStage$2(DAGScheduler.scala:3362)\n",
       "\tat org.apache.spark.scheduler.DAGScheduler.$anonfun$abortStage$2$adapted(DAGScheduler.scala:3351)\n",
       "\tat scala.collection.mutable.ResizableArray.foreach(ResizableArray.scala:62)\n",
       "\tat scala.collection.mutable.ResizableArray.foreach$(ResizableArray.scala:55)\n",
       "\tat scala.collection.mutable.ArrayBuffer.foreach(ArrayBuffer.scala:49)\n",
       "\tat org.apache.spark.scheduler.DAGScheduler.abortStage(DAGScheduler.scala:3351)\n",
       "\tat org.apache.spark.scheduler.DAGScheduler.$anonfun$handleTaskSetFailed$1(DAGScheduler.scala:1460)\n",
       "\tat org.apache.spark.scheduler.DAGScheduler.$anonfun$handleTaskSetFailed$1$adapted(DAGScheduler.scala:1460)\n",
       "\tat scala.Option.foreach(Option.scala:407)\n",
       "\tat org.apache.spark.scheduler.DAGScheduler.handleTaskSetFailed(DAGScheduler.scala:1460)\n",
       "\tat org.apache.spark.scheduler.DAGSchedulerEventProcessLoop.doOnReceive(DAGScheduler.scala:3651)\n",
       "\tat org.apache.spark.scheduler.DAGSchedulerEventProcessLoop.onReceive(DAGScheduler.scala:3589)\n",
       "\tat org.apache.spark.scheduler.DAGSchedulerEventProcessLoop.onReceive(DAGScheduler.scala:3577)\n",
       "\tat org.apache.spark.util.EventLoop$$anon$1.run(EventLoop.scala:51)\n",
       "\tat org.apache.spark.scheduler.DAGScheduler.$anonfun$runJob$1(DAGScheduler.scala:1209)\n",
       "\tat scala.runtime.java8.JFunction0$mcV$sp.apply(JFunction0$mcV$sp.java:23)\n",
       "\tat com.databricks.spark.util.FrameProfiler$.record(FrameProfiler.scala:80)\n",
       "\tat org.apache.spark.scheduler.DAGScheduler.runJob(DAGScheduler.scala:1197)\n",
       "\tat org.apache.spark.SparkContext.runJobInternal(SparkContext.scala:2758)\n",
       "\tat org.apache.spark.sql.execution.collect.Collector.$anonfun$runSparkJobs$1(Collector.scala:349)\n",
       "\tat scala.runtime.java8.JFunction0$mcV$sp.apply(JFunction0$mcV$sp.java:23)\n",
       "\tat com.databricks.spark.util.FrameProfiler$.record(FrameProfiler.scala:80)\n",
       "\tat org.apache.spark.sql.execution.collect.Collector.runSparkJobs(Collector.scala:293)\n",
       "\tat org.apache.spark.sql.execution.collect.Collector.collect(Collector.scala:377)\n",
       "\tat org.apache.spark.sql.execution.collect.Collector$.collect(Collector.scala:128)\n",
       "\tat org.apache.spark.sql.execution.collect.Collector$.collect(Collector.scala:135)\n",
       "\tat org.apache.spark.sql.execution.qrc.InternalRowFormat$.collect(cachedSparkResults.scala:122)\n",
       "\tat org.apache.spark.sql.execution.qrc.InternalRowFormat$.collect(cachedSparkResults.scala:110)\n",
       "\tat org.apache.spark.sql.execution.qrc.InternalRowFormat$.collect(cachedSparkResults.scala:92)\n",
       "\tat org.apache.spark.sql.execution.qrc.ResultCacheManager.$anonfun$computeResult$1(ResultCacheManager.scala:537)\n",
       "\tat com.databricks.spark.util.FrameProfiler$.record(FrameProfiler.scala:80)\n",
       "\tat org.apache.spark.sql.execution.qrc.ResultCacheManager.collectResult$1(ResultCacheManager.scala:529)\n",
       "\tat org.apache.spark.sql.execution.qrc.ResultCacheManager.computeResult(ResultCacheManager.scala:549)\n",
       "\tat org.apache.spark.sql.execution.qrc.ResultCacheManager.$anonfun$getOrComputeResultInternal$1(ResultCacheManager.scala:402)\n",
       "\tat scala.Option.getOrElse(Option.scala:189)\n",
       "\tat org.apache.spark.sql.execution.qrc.ResultCacheManager.getOrComputeResultInternal(ResultCacheManager.scala:395)\n",
       "\tat org.apache.spark.sql.execution.qrc.ResultCacheManager.getOrComputeResult(ResultCacheManager.scala:289)\n",
       "\tat org.apache.spark.sql.execution.SparkPlan.$anonfun$executeCollectResult$1(SparkPlan.scala:506)\n",
       "\tat com.databricks.spark.util.FrameProfiler$.record(FrameProfiler.scala:80)\n",
       "\tat org.apache.spark.sql.execution.SparkPlan.executeCollectResult(SparkPlan.scala:503)\n",
       "\tat org.apache.spark.sql.Dataset.collectResult(Dataset.scala:3458)\n",
       "\tat org.apache.spark.sql.Dataset.$anonfun$collectResult$1(Dataset.scala:3449)\n",
       "\tat org.apache.spark.sql.Dataset.$anonfun$withAction$3(Dataset.scala:4373)\n",
       "\tat org.apache.spark.sql.execution.QueryExecution$.withInternalError(QueryExecution.scala:841)\n",
       "\tat org.apache.spark.sql.Dataset.$anonfun$withAction$2(Dataset.scala:4371)\n",
       "\tat org.apache.spark.sql.execution.SQLExecution$.$anonfun$withCustomExecutionEnv$9(SQLExecution.scala:258)\n",
       "\tat org.apache.spark.sql.execution.SQLExecution$.withSQLConfPropagated(SQLExecution.scala:448)\n",
       "\tat org.apache.spark.sql.execution.SQLExecution$.$anonfun$withCustomExecutionEnv$1(SQLExecution.scala:203)\n",
       "\tat org.apache.spark.sql.SparkSession.withActive(SparkSession.scala:1073)\n",
       "\tat org.apache.spark.sql.execution.SQLExecution$.withCustomExecutionEnv(SQLExecution.scala:131)\n",
       "\tat org.apache.spark.sql.execution.SQLExecution$.withNewExecutionId(SQLExecution.scala:398)\n",
       "\tat org.apache.spark.sql.Dataset.withAction(Dataset.scala:4371)\n",
       "\tat org.apache.spark.sql.Dataset.collectResult(Dataset.scala:3448)\n",
       "\tat com.databricks.backend.daemon.driver.OutputAggregator$.withOutputAggregation0(OutputAggregator.scala:267)\n",
       "\tat com.databricks.backend.daemon.driver.OutputAggregator$.withOutputAggregation(OutputAggregator.scala:101)\n",
       "\tat com.databricks.backend.daemon.driver.PythonDriverLocalBase.generateTableResult(PythonDriverLocalBase.scala:727)\n",
       "\tat com.databricks.backend.daemon.driver.JupyterDriverLocal.computeListResultsItem(JupyterDriverLocal.scala:887)\n",
       "\tat com.databricks.backend.daemon.driver.JupyterDriverLocal$JupyterEntryPoint.addCustomDisplayData(JupyterDriverLocal.scala:286)\n",
       "\tat sun.reflect.GeneratedMethodAccessor607.invoke(Unknown Source)\n",
       "\tat sun.reflect.DelegatingMethodAccessorImpl.invoke(DelegatingMethodAccessorImpl.java:43)\n",
       "\tat java.lang.reflect.Method.invoke(Method.java:498)\n",
       "\tat py4j.reflection.MethodInvoker.invoke(MethodInvoker.java:244)\n",
       "\tat py4j.reflection.ReflectionEngine.invoke(ReflectionEngine.java:380)\n",
       "\tat py4j.Gateway.invoke(Gateway.java:306)\n",
       "\tat py4j.commands.AbstractCommand.invokeMethod(AbstractCommand.java:132)\n",
       "\tat py4j.commands.CallCommand.execute(CallCommand.java:79)\n",
       "\tat py4j.ClientServerConnection.waitForCommands(ClientServerConnection.java:195)\n",
       "\tat py4j.ClientServerConnection.run(ClientServerConnection.java:115)\n",
       "\tat java.lang.Thread.run(Thread.java:750)\n",
       "Caused by: com.databricks.sql.io.FileReadException: Error while reading file dbfs:/tmp/movies2.csv/part-00000-tid-3148497942218807931-7cbf58df-d031-4cee-867b-5e101e90eb16-315-1-c000.csv.\n",
       "\tat org.apache.spark.sql.execution.datasources.FileScanRDD$$anon$1$$anon$2.logFileNameAndThrow(FileScanRDD.scala:704)\n",
       "\tat org.apache.spark.sql.execution.datasources.FileScanRDD$$anon$1$$anon$2.getNext(FileScanRDD.scala:673)\n",
       "\tat org.apache.spark.util.NextIterator.hasNext(NextIterator.scala:73)\n",
       "\tat org.apache.spark.sql.execution.datasources.FileScanRDD$$anon$1.$anonfun$hasNext$1(FileScanRDD.scala:493)\n",
       "\tat scala.runtime.java8.JFunction0$mcZ$sp.apply(JFunction0$mcZ$sp.java:23)\n",
       "\tat com.databricks.spark.util.ExecutorFrameProfiler$.record(ExecutorFrameProfiler.scala:110)\n",
       "\tat org.apache.spark.sql.execution.datasources.FileScanRDD$$anon$1.hasNext(FileScanRDD.scala:486)\n",
       "\tat scala.collection.Iterator$$anon$10.hasNext(Iterator.scala:460)\n",
       "\tat org.apache.spark.sql.execution.collect.UnsafeRowBatchUtils$.encodeUnsafeRows(UnsafeRowBatchUtils.scala:82)\n",
       "\tat org.apache.spark.sql.execution.collect.Collector.$anonfun$processFunc$1(Collector.scala:208)\n",
       "\tat org.apache.spark.scheduler.ResultTask.$anonfun$runTask$3(ResultTask.scala:75)\n",
       "\tat com.databricks.spark.util.ExecutorFrameProfiler$.record(ExecutorFrameProfiler.scala:110)\n",
       "\tat org.apache.spark.scheduler.ResultTask.$anonfun$runTask$1(ResultTask.scala:75)\n",
       "\tat com.databricks.spark.util.ExecutorFrameProfiler$.record(ExecutorFrameProfiler.scala:110)\n",
       "\tat org.apache.spark.scheduler.ResultTask.runTask(ResultTask.scala:55)\n",
       "\tat org.apache.spark.scheduler.Task.doRunTask(Task.scala:179)\n",
       "\tat org.apache.spark.scheduler.Task.$anonfun$run$5(Task.scala:142)\n",
       "\tat com.databricks.unity.EmptyHandle$.runWithAndClose(UCSHandle.scala:126)\n",
       "\tat org.apache.spark.scheduler.Task.$anonfun$run$1(Task.scala:142)\n",
       "\tat com.databricks.spark.util.ExecutorFrameProfiler$.record(ExecutorFrameProfiler.scala:110)\n",
       "\tat org.apache.spark.scheduler.Task.run(Task.scala:97)\n",
       "\tat org.apache.spark.executor.Executor$TaskRunner.$anonfun$run$13(Executor.scala:904)\n",
       "\tat org.apache.spark.util.Utils$.tryWithSafeFinally(Utils.scala:1741)\n",
       "\tat org.apache.spark.executor.Executor$TaskRunner.$anonfun$run$4(Executor.scala:907)\n",
       "\tat scala.runtime.java8.JFunction0$mcV$sp.apply(JFunction0$mcV$sp.java:23)\n",
       "\tat com.databricks.spark.util.ExecutorFrameProfiler$.record(ExecutorFrameProfiler.scala:110)\n",
       "\tat org.apache.spark.executor.Executor$TaskRunner.run(Executor.scala:761)\n",
       "\tat java.util.concurrent.ThreadPoolExecutor.runWorker(ThreadPoolExecutor.java:1149)\n",
       "\tat java.util.concurrent.ThreadPoolExecutor$Worker.run(ThreadPoolExecutor.java:624)\n",
       "\t... 1 more\n",
       "Caused by: org.apache.spark.SparkException: Malformed records are detected in record parsing. Parse Mode: FAILFAST. To process malformed records as null result, try setting the option 'mode' as 'PERMISSIVE'.\n",
       "\tat org.apache.spark.sql.errors.QueryExecutionErrors$.malformedRecordsDetectedInRecordParsingError(QueryExecutionErrors.scala:1936)\n",
       "\tat org.apache.spark.sql.catalyst.util.FailureSafeParser.parse(FailureSafeParser.scala:103)\n",
       "\tat org.apache.spark.sql.catalyst.csv.UnivocityParser$.$anonfun$parseIterator$2(UnivocityParser.scala:507)\n",
       "\tat scala.collection.Iterator$$anon$11.nextCur(Iterator.scala:486)\n",
       "\tat scala.collection.Iterator$$anon$11.hasNext(Iterator.scala:492)\n",
       "\tat org.apache.spark.util.CompletionIterator.hasNext(CompletionIterator.scala:31)\n",
       "\tat scala.collection.Iterator$$anon$10.hasNext(Iterator.scala:460)\n",
       "\tat org.apache.spark.sql.execution.datasources.FileScanRDD$$anon$1$$anon$2.getNext(FileScanRDD.scala:619)\n",
       "\t... 28 more\n",
       "Caused by: org.apache.spark.sql.catalyst.util.BadRecordException: java.lang.NumberFormatException: For input string: \"a\"\n",
       "Caused by: java.lang.NumberFormatException: For input string: \"a\"\n",
       "\tat java.lang.NumberFormatException.forInputString(NumberFormatException.java:65)\n",
       "\tat java.lang.Integer.parseInt(Integer.java:580)\n",
       "\tat java.lang.Integer.parseInt(Integer.java:615)\n",
       "\tat scala.collection.immutable.StringLike.toInt(StringLike.scala:304)\n",
       "\tat scala.collection.immutable.StringLike.toInt$(StringLike.scala:304)\n",
       "\tat scala.collection.immutable.StringOps.toInt(StringOps.scala:33)\n",
       "\tat org.apache.spark.sql.catalyst.csv.UnivocityParser.$anonfun$makeConverter$6(UnivocityParser.scala:202)\n",
       "\tat org.apache.spark.sql.catalyst.csv.UnivocityParser.$anonfun$makeConverter$6$adapted(UnivocityParser.scala:202)\n",
       "\tat org.apache.spark.sql.catalyst.csv.UnivocityParser.nullSafeDatum(UnivocityParser.scala:305)\n",
       "\tat org.apache.spark.sql.catalyst.csv.UnivocityParser.$anonfun$makeConverter$5(UnivocityParser.scala:202)\n",
       "\tat org.apache.spark.sql.catalyst.csv.UnivocityParser.convert(UnivocityParser.scala:360)\n",
       "\tat org.apache.spark.sql.catalyst.csv.UnivocityParser.$anonfun$parse$2(UnivocityParser.scala:321)\n",
       "\tat org.apache.spark.sql.catalyst.csv.UnivocityParser$.$anonfun$parseIterator$1(UnivocityParser.scala:499)\n",
       "\tat org.apache.spark.sql.catalyst.util.FailureSafeParser.parse(FailureSafeParser.scala:92)\n",
       "\tat org.apache.spark.sql.catalyst.csv.UnivocityParser$.$anonfun$parseIterator$2(UnivocityParser.scala:507)\n",
       "\tat scala.collection.Iterator$$anon$11.nextCur(Iterator.scala:486)\n",
       "\tat scala.collection.Iterator$$anon$11.hasNext(Iterator.scala:492)\n",
       "\tat org.apache.spark.util.CompletionIterator.hasNext(CompletionIterator.scala:31)\n",
       "\tat scala.collection.Iterator$$anon$10.hasNext(Iterator.scala:460)\n",
       "\tat org.apache.spark.sql.execution.datasources.FileScanRDD$$anon$1$$anon$2.getNext(FileScanRDD.scala:619)\n",
       "\tat org.apache.spark.util.NextIterator.hasNext(NextIterator.scala:73)\n",
       "\tat org.apache.spark.sql.execution.datasources.FileScanRDD$$anon$1.$anonfun$hasNext$1(FileScanRDD.scala:493)\n",
       "\tat scala.runtime.java8.JFunction0$mcZ$sp.apply(JFunction0$mcZ$sp.java:23)\n",
       "\tat com.databricks.spark.util.ExecutorFrameProfiler$.record(ExecutorFrameProfiler.scala:110)\n",
       "\tat org.apache.spark.sql.execution.datasources.FileScanRDD$$anon$1.hasNext(FileScanRDD.scala:486)\n",
       "\tat scala.collection.Iterator$$anon$10.hasNext(Iterator.scala:460)\n",
       "\tat org.apache.spark.sql.execution.collect.UnsafeRowBatchUtils$.encodeUnsafeRows(UnsafeRowBatchUtils.scala:82)\n",
       "\tat org.apache.spark.sql.execution.collect.Collector.$anonfun$processFunc$1(Collector.scala:208)\n",
       "\tat org.apache.spark.scheduler.ResultTask.$anonfun$runTask$3(ResultTask.scala:75)\n",
       "\tat com.databricks.spark.util.ExecutorFrameProfiler$.record(ExecutorFrameProfiler.scala:110)\n",
       "\tat org.apache.spark.scheduler.ResultTask.$anonfun$runTask$1(ResultTask.scala:75)\n",
       "\tat com.databricks.spark.util.ExecutorFrameProfiler$.record(ExecutorFrameProfiler.scala:110)\n",
       "\tat org.apache.spark.scheduler.ResultTask.runTask(ResultTask.scala:55)\n",
       "\tat org.apache.spark.scheduler.Task.doRunTask(Task.scala:179)\n",
       "\tat org.apache.spark.scheduler.Task.$anonfun$run$5(Task.scala:142)\n",
       "\tat com.databricks.unity.EmptyHandle$.runWithAndClose(UCSHandle.scala:126)\n",
       "\tat org.apache.spark.scheduler.Task.$anonfun$run$1(Task.scala:142)\n",
       "\tat com.databricks.spark.util.ExecutorFrameProfiler$.record(ExecutorFrameProfiler.scala:110)\n",
       "\tat org.apache.spark.scheduler.Task.run(Task.scala:97)\n",
       "\tat org.apache.spark.executor.Executor$TaskRunner.$anonfun$run$13(Executor.scala:904)\n",
       "\tat org.apache.spark.util.Utils$.tryWithSafeFinally(Utils.scala:1741)\n",
       "\tat org.apache.spark.executor.Executor$TaskRunner.$anonfun$run$4(Executor.scala:907)\n",
       "\tat scala.runtime.java8.JFunction0$mcV$sp.apply(JFunction0$mcV$sp.java:23)\n",
       "\tat com.databricks.spark.util.ExecutorFrameProfiler$.record(ExecutorFrameProfiler.scala:110)\n",
       "\tat org.apache.spark.executor.Executor$TaskRunner.run(Executor.scala:761)\n",
       "\tat java.util.concurrent.ThreadPoolExecutor.runWorker(ThreadPoolExecutor.java:1149)\n",
       "\tat java.util.concurrent.ThreadPoolExecutor$Worker.run(ThreadPoolExecutor.java:624)\n",
       "\tat java.lang.Thread.run(Thread.java:750)"
      ]
     },
     "metadata": {
      "application/vnd.databricks.v1+output": {
       "arguments": {},
       "data": "org.apache.spark.SparkException: Job aborted due to stage failure: Task 0 in stage 128.0 failed 1 times, most recent failure: Lost task 0.0 in stage 128.0 (TID 319) (ip-10-172-246-211.us-west-2.compute.internal executor driver): com.databricks.sql.io.FileReadException: Error while reading file dbfs:/tmp/movies2.csv/part-00000-tid-3148497942218807931-7cbf58df-d031-4cee-867b-5e101e90eb16-315-1-c000.csv.\n\tat org.apache.spark.sql.execution.datasources.FileScanRDD$$anon$1$$anon$2.logFileNameAndThrow(FileScanRDD.scala:704)\n\tat org.apache.spark.sql.execution.datasources.FileScanRDD$$anon$1$$anon$2.getNext(FileScanRDD.scala:673)\n\tat org.apache.spark.util.NextIterator.hasNext(NextIterator.scala:73)\n\tat org.apache.spark.sql.execution.datasources.FileScanRDD$$anon$1.$anonfun$hasNext$1(FileScanRDD.scala:493)\n\tat scala.runtime.java8.JFunction0$mcZ$sp.apply(JFunction0$mcZ$sp.java:23)\n\tat com.databricks.spark.util.ExecutorFrameProfiler$.record(ExecutorFrameProfiler.scala:110)\n\tat org.apache.spark.sql.execution.datasources.FileScanRDD$$anon$1.hasNext(FileScanRDD.scala:486)\n\tat scala.collection.Iterator$$anon$10.hasNext(Iterator.scala:460)\n\tat org.apache.spark.sql.execution.collect.UnsafeRowBatchUtils$.encodeUnsafeRows(UnsafeRowBatchUtils.scala:82)\n\tat org.apache.spark.sql.execution.collect.Collector.$anonfun$processFunc$1(Collector.scala:208)\n\tat org.apache.spark.scheduler.ResultTask.$anonfun$runTask$3(ResultTask.scala:75)\n\tat com.databricks.spark.util.ExecutorFrameProfiler$.record(ExecutorFrameProfiler.scala:110)\n\tat org.apache.spark.scheduler.ResultTask.$anonfun$runTask$1(ResultTask.scala:75)\n\tat com.databricks.spark.util.ExecutorFrameProfiler$.record(ExecutorFrameProfiler.scala:110)\n\tat org.apache.spark.scheduler.ResultTask.runTask(ResultTask.scala:55)\n\tat org.apache.spark.scheduler.Task.doRunTask(Task.scala:179)\n\tat org.apache.spark.scheduler.Task.$anonfun$run$5(Task.scala:142)\n\tat com.databricks.unity.EmptyHandle$.runWithAndClose(UCSHandle.scala:126)\n\tat org.apache.spark.scheduler.Task.$anonfun$run$1(Task.scala:142)\n\tat com.databricks.spark.util.ExecutorFrameProfiler$.record(ExecutorFrameProfiler.scala:110)\n\tat org.apache.spark.scheduler.Task.run(Task.scala:97)\n\tat org.apache.spark.executor.Executor$TaskRunner.$anonfun$run$13(Executor.scala:904)\n\tat org.apache.spark.util.Utils$.tryWithSafeFinally(Utils.scala:1741)\n\tat org.apache.spark.executor.Executor$TaskRunner.$anonfun$run$4(Executor.scala:907)\n\tat scala.runtime.java8.JFunction0$mcV$sp.apply(JFunction0$mcV$sp.java:23)\n\tat com.databricks.spark.util.ExecutorFrameProfiler$.record(ExecutorFrameProfiler.scala:110)\n\tat org.apache.spark.executor.Executor$TaskRunner.run(Executor.scala:761)\n\tat java.util.concurrent.ThreadPoolExecutor.runWorker(ThreadPoolExecutor.java:1149)\n\tat java.util.concurrent.ThreadPoolExecutor$Worker.run(ThreadPoolExecutor.java:624)\n\tat java.lang.Thread.run(Thread.java:750)\nCaused by: org.apache.spark.SparkException: Malformed records are detected in record parsing. Parse Mode: FAILFAST. To process malformed records as null result, try setting the option 'mode' as 'PERMISSIVE'.\n\tat org.apache.spark.sql.errors.QueryExecutionErrors$.malformedRecordsDetectedInRecordParsingError(QueryExecutionErrors.scala:1936)\n\tat org.apache.spark.sql.catalyst.util.FailureSafeParser.parse(FailureSafeParser.scala:103)\n\tat org.apache.spark.sql.catalyst.csv.UnivocityParser$.$anonfun$parseIterator$2(UnivocityParser.scala:507)\n\tat scala.collection.Iterator$$anon$11.nextCur(Iterator.scala:486)\n\tat scala.collection.Iterator$$anon$11.hasNext(Iterator.scala:492)\n\tat org.apache.spark.util.CompletionIterator.hasNext(CompletionIterator.scala:31)\n\tat scala.collection.Iterator$$anon$10.hasNext(Iterator.scala:460)\n\tat org.apache.spark.sql.execution.datasources.FileScanRDD$$anon$1$$anon$2.getNext(FileScanRDD.scala:619)\n\t... 28 more\nCaused by: org.apache.spark.sql.catalyst.util.BadRecordException: java.lang.NumberFormatException: For input string: \"a\"\nCaused by: java.lang.NumberFormatException: For input string: \"a\"\n\tat java.lang.NumberFormatException.forInputString(NumberFormatException.java:65)\n\tat java.lang.Integer.parseInt(Integer.java:580)\n\tat java.lang.Integer.parseInt(Integer.java:615)\n\tat scala.collection.immutable.StringLike.toInt(StringLike.scala:304)\n\tat scala.collection.immutable.StringLike.toInt$(StringLike.scala:304)\n\tat scala.collection.immutable.StringOps.toInt(StringOps.scala:33)\n\tat org.apache.spark.sql.catalyst.csv.UnivocityParser.$anonfun$makeConverter$6(UnivocityParser.scala:202)\n\tat org.apache.spark.sql.catalyst.csv.UnivocityParser.$anonfun$makeConverter$6$adapted(UnivocityParser.scala:202)\n\tat org.apache.spark.sql.catalyst.csv.UnivocityParser.nullSafeDatum(UnivocityParser.scala:305)\n\tat org.apache.spark.sql.catalyst.csv.UnivocityParser.$anonfun$makeConverter$5(UnivocityParser.scala:202)\n\tat org.apache.spark.sql.catalyst.csv.UnivocityParser.convert(UnivocityParser.scala:360)\n\tat org.apache.spark.sql.catalyst.csv.UnivocityParser.$anonfun$parse$2(UnivocityParser.scala:321)\n\tat org.apache.spark.sql.catalyst.csv.UnivocityParser$.$anonfun$parseIterator$1(UnivocityParser.scala:499)\n\tat org.apache.spark.sql.catalyst.util.FailureSafeParser.parse(FailureSafeParser.scala:92)\n\tat org.apache.spark.sql.catalyst.csv.UnivocityParser$.$anonfun$parseIterator$2(UnivocityParser.scala:507)\n\tat scala.collection.Iterator$$anon$11.nextCur(Iterator.scala:486)\n\tat scala.collection.Iterator$$anon$11.hasNext(Iterator.scala:492)\n\tat org.apache.spark.util.CompletionIterator.hasNext(CompletionIterator.scala:31)\n\tat scala.collection.Iterator$$anon$10.hasNext(Iterator.scala:460)\n\tat org.apache.spark.sql.execution.datasources.FileScanRDD$$anon$1$$anon$2.getNext(FileScanRDD.scala:619)\n\tat org.apache.spark.util.NextIterator.hasNext(NextIterator.scala:73)\n\tat org.apache.spark.sql.execution.datasources.FileScanRDD$$anon$1.$anonfun$hasNext$1(FileScanRDD.scala:493)\n\tat scala.runtime.java8.JFunction0$mcZ$sp.apply(JFunction0$mcZ$sp.java:23)\n\tat com.databricks.spark.util.ExecutorFrameProfiler$.record(ExecutorFrameProfiler.scala:110)\n\tat org.apache.spark.sql.execution.datasources.FileScanRDD$$anon$1.hasNext(FileScanRDD.scala:486)\n\tat scala.collection.Iterator$$anon$10.hasNext(Iterator.scala:460)\n\tat org.apache.spark.sql.execution.collect.UnsafeRowBatchUtils$.encodeUnsafeRows(UnsafeRowBatchUtils.scala:82)\n\tat org.apache.spark.sql.execution.collect.Collector.$anonfun$processFunc$1(Collector.scala:208)\n\tat org.apache.spark.scheduler.ResultTask.$anonfun$runTask$3(ResultTask.scala:75)\n\tat com.databricks.spark.util.ExecutorFrameProfiler$.record(ExecutorFrameProfiler.scala:110)\n\tat org.apache.spark.scheduler.ResultTask.$anonfun$runTask$1(ResultTask.scala:75)\n\tat com.databricks.spark.util.ExecutorFrameProfiler$.record(ExecutorFrameProfiler.scala:110)\n\tat org.apache.spark.scheduler.ResultTask.runTask(ResultTask.scala:55)\n\tat org.apache.spark.scheduler.Task.doRunTask(Task.scala:179)\n\tat org.apache.spark.scheduler.Task.$anonfun$run$5(Task.scala:142)\n\tat com.databricks.unity.EmptyHandle$.runWithAndClose(UCSHandle.scala:126)\n\tat org.apache.spark.scheduler.Task.$anonfun$run$1(Task.scala:142)\n\tat com.databricks.spark.util.ExecutorFrameProfiler$.record(ExecutorFrameProfiler.scala:110)\n\tat org.apache.spark.scheduler.Task.run(Task.scala:97)\n\tat org.apache.spark.executor.Executor$TaskRunner.$anonfun$run$13(Executor.scala:904)\n\tat org.apache.spark.util.Utils$.tryWithSafeFinally(Utils.scala:1741)\n\tat org.apache.spark.executor.Executor$TaskRunner.$anonfun$run$4(Executor.scala:907)\n\tat scala.runtime.java8.JFunction0$mcV$sp.apply(JFunction0$mcV$sp.java:23)\n\tat com.databricks.spark.util.ExecutorFrameProfiler$.record(ExecutorFrameProfiler.scala:110)\n\tat org.apache.spark.executor.Executor$TaskRunner.run(Executor.scala:761)\n\tat java.util.concurrent.ThreadPoolExecutor.runWorker(ThreadPoolExecutor.java:1149)\n\tat java.util.concurrent.ThreadPoolExecutor$Worker.run(ThreadPoolExecutor.java:624)\n\tat java.lang.Thread.run(Thread.java:750)\n\nDriver stacktrace:\n\tat org.apache.spark.scheduler.DAGScheduler.failJobAndIndependentStages(DAGScheduler.scala:3440)\n\tat org.apache.spark.scheduler.DAGScheduler.$anonfun$abortStage$2(DAGScheduler.scala:3362)\n\tat org.apache.spark.scheduler.DAGScheduler.$anonfun$abortStage$2$adapted(DAGScheduler.scala:3351)\n\tat scala.collection.mutable.ResizableArray.foreach(ResizableArray.scala:62)\n\tat scala.collection.mutable.ResizableArray.foreach$(ResizableArray.scala:55)\n\tat scala.collection.mutable.ArrayBuffer.foreach(ArrayBuffer.scala:49)\n\tat org.apache.spark.scheduler.DAGScheduler.abortStage(DAGScheduler.scala:3351)\n\tat org.apache.spark.scheduler.DAGScheduler.$anonfun$handleTaskSetFailed$1(DAGScheduler.scala:1460)\n\tat org.apache.spark.scheduler.DAGScheduler.$anonfun$handleTaskSetFailed$1$adapted(DAGScheduler.scala:1460)\n\tat scala.Option.foreach(Option.scala:407)\n\tat org.apache.spark.scheduler.DAGScheduler.handleTaskSetFailed(DAGScheduler.scala:1460)\n\tat org.apache.spark.scheduler.DAGSchedulerEventProcessLoop.doOnReceive(DAGScheduler.scala:3651)\n\tat org.apache.spark.scheduler.DAGSchedulerEventProcessLoop.onReceive(DAGScheduler.scala:3589)\n\tat org.apache.spark.scheduler.DAGSchedulerEventProcessLoop.onReceive(DAGScheduler.scala:3577)\n\tat org.apache.spark.util.EventLoop$$anon$1.run(EventLoop.scala:51)\n\tat org.apache.spark.scheduler.DAGScheduler.$anonfun$runJob$1(DAGScheduler.scala:1209)\n\tat scala.runtime.java8.JFunction0$mcV$sp.apply(JFunction0$mcV$sp.java:23)\n\tat com.databricks.spark.util.FrameProfiler$.record(FrameProfiler.scala:80)\n\tat org.apache.spark.scheduler.DAGScheduler.runJob(DAGScheduler.scala:1197)\n\tat org.apache.spark.SparkContext.runJobInternal(SparkContext.scala:2758)\n\tat org.apache.spark.sql.execution.collect.Collector.$anonfun$runSparkJobs$1(Collector.scala:349)\n\tat scala.runtime.java8.JFunction0$mcV$sp.apply(JFunction0$mcV$sp.java:23)\n\tat com.databricks.spark.util.FrameProfiler$.record(FrameProfiler.scala:80)\n\tat org.apache.spark.sql.execution.collect.Collector.runSparkJobs(Collector.scala:293)\n\tat org.apache.spark.sql.execution.collect.Collector.collect(Collector.scala:377)\n\tat org.apache.spark.sql.execution.collect.Collector$.collect(Collector.scala:128)\n\tat org.apache.spark.sql.execution.collect.Collector$.collect(Collector.scala:135)\n\tat org.apache.spark.sql.execution.qrc.InternalRowFormat$.collect(cachedSparkResults.scala:122)\n\tat org.apache.spark.sql.execution.qrc.InternalRowFormat$.collect(cachedSparkResults.scala:110)\n\tat org.apache.spark.sql.execution.qrc.InternalRowFormat$.collect(cachedSparkResults.scala:92)\n\tat org.apache.spark.sql.execution.qrc.ResultCacheManager.$anonfun$computeResult$1(ResultCacheManager.scala:537)\n\tat com.databricks.spark.util.FrameProfiler$.record(FrameProfiler.scala:80)\n\tat org.apache.spark.sql.execution.qrc.ResultCacheManager.collectResult$1(ResultCacheManager.scala:529)\n\tat org.apache.spark.sql.execution.qrc.ResultCacheManager.computeResult(ResultCacheManager.scala:549)\n\tat org.apache.spark.sql.execution.qrc.ResultCacheManager.$anonfun$getOrComputeResultInternal$1(ResultCacheManager.scala:402)\n\tat scala.Option.getOrElse(Option.scala:189)\n\tat org.apache.spark.sql.execution.qrc.ResultCacheManager.getOrComputeResultInternal(ResultCacheManager.scala:395)\n\tat org.apache.spark.sql.execution.qrc.ResultCacheManager.getOrComputeResult(ResultCacheManager.scala:289)\n\tat org.apache.spark.sql.execution.SparkPlan.$anonfun$executeCollectResult$1(SparkPlan.scala:506)\n\tat com.databricks.spark.util.FrameProfiler$.record(FrameProfiler.scala:80)\n\tat org.apache.spark.sql.execution.SparkPlan.executeCollectResult(SparkPlan.scala:503)\n\tat org.apache.spark.sql.Dataset.collectResult(Dataset.scala:3458)\n\tat org.apache.spark.sql.Dataset.$anonfun$collectResult$1(Dataset.scala:3449)\n\tat org.apache.spark.sql.Dataset.$anonfun$withAction$3(Dataset.scala:4373)\n\tat org.apache.spark.sql.execution.QueryExecution$.withInternalError(QueryExecution.scala:841)\n\tat org.apache.spark.sql.Dataset.$anonfun$withAction$2(Dataset.scala:4371)\n\tat org.apache.spark.sql.execution.SQLExecution$.$anonfun$withCustomExecutionEnv$9(SQLExecution.scala:258)\n\tat org.apache.spark.sql.execution.SQLExecution$.withSQLConfPropagated(SQLExecution.scala:448)\n\tat org.apache.spark.sql.execution.SQLExecution$.$anonfun$withCustomExecutionEnv$1(SQLExecution.scala:203)\n\tat org.apache.spark.sql.SparkSession.withActive(SparkSession.scala:1073)\n\tat org.apache.spark.sql.execution.SQLExecution$.withCustomExecutionEnv(SQLExecution.scala:131)\n\tat org.apache.spark.sql.execution.SQLExecution$.withNewExecutionId(SQLExecution.scala:398)\n\tat org.apache.spark.sql.Dataset.withAction(Dataset.scala:4371)\n\tat org.apache.spark.sql.Dataset.collectResult(Dataset.scala:3448)\n\tat com.databricks.backend.daemon.driver.OutputAggregator$.withOutputAggregation0(OutputAggregator.scala:267)\n\tat com.databricks.backend.daemon.driver.OutputAggregator$.withOutputAggregation(OutputAggregator.scala:101)\n\tat com.databricks.backend.daemon.driver.PythonDriverLocalBase.generateTableResult(PythonDriverLocalBase.scala:727)\n\tat com.databricks.backend.daemon.driver.JupyterDriverLocal.computeListResultsItem(JupyterDriverLocal.scala:887)\n\tat com.databricks.backend.daemon.driver.JupyterDriverLocal$JupyterEntryPoint.addCustomDisplayData(JupyterDriverLocal.scala:286)\n\tat sun.reflect.GeneratedMethodAccessor607.invoke(Unknown Source)\n\tat sun.reflect.DelegatingMethodAccessorImpl.invoke(DelegatingMethodAccessorImpl.java:43)\n\tat java.lang.reflect.Method.invoke(Method.java:498)\n\tat py4j.reflection.MethodInvoker.invoke(MethodInvoker.java:244)\n\tat py4j.reflection.ReflectionEngine.invoke(ReflectionEngine.java:380)\n\tat py4j.Gateway.invoke(Gateway.java:306)\n\tat py4j.commands.AbstractCommand.invokeMethod(AbstractCommand.java:132)\n\tat py4j.commands.CallCommand.execute(CallCommand.java:79)\n\tat py4j.ClientServerConnection.waitForCommands(ClientServerConnection.java:195)\n\tat py4j.ClientServerConnection.run(ClientServerConnection.java:115)\n\tat java.lang.Thread.run(Thread.java:750)\nCaused by: com.databricks.sql.io.FileReadException: Error while reading file dbfs:/tmp/movies2.csv/part-00000-tid-3148497942218807931-7cbf58df-d031-4cee-867b-5e101e90eb16-315-1-c000.csv.\n\tat org.apache.spark.sql.execution.datasources.FileScanRDD$$anon$1$$anon$2.logFileNameAndThrow(FileScanRDD.scala:704)\n\tat org.apache.spark.sql.execution.datasources.FileScanRDD$$anon$1$$anon$2.getNext(FileScanRDD.scala:673)\n\tat org.apache.spark.util.NextIterator.hasNext(NextIterator.scala:73)\n\tat org.apache.spark.sql.execution.datasources.FileScanRDD$$anon$1.$anonfun$hasNext$1(FileScanRDD.scala:493)\n\tat scala.runtime.java8.JFunction0$mcZ$sp.apply(JFunction0$mcZ$sp.java:23)\n\tat com.databricks.spark.util.ExecutorFrameProfiler$.record(ExecutorFrameProfiler.scala:110)\n\tat org.apache.spark.sql.execution.datasources.FileScanRDD$$anon$1.hasNext(FileScanRDD.scala:486)\n\tat scala.collection.Iterator$$anon$10.hasNext(Iterator.scala:460)\n\tat org.apache.spark.sql.execution.collect.UnsafeRowBatchUtils$.encodeUnsafeRows(UnsafeRowBatchUtils.scala:82)\n\tat org.apache.spark.sql.execution.collect.Collector.$anonfun$processFunc$1(Collector.scala:208)\n\tat org.apache.spark.scheduler.ResultTask.$anonfun$runTask$3(ResultTask.scala:75)\n\tat com.databricks.spark.util.ExecutorFrameProfiler$.record(ExecutorFrameProfiler.scala:110)\n\tat org.apache.spark.scheduler.ResultTask.$anonfun$runTask$1(ResultTask.scala:75)\n\tat com.databricks.spark.util.ExecutorFrameProfiler$.record(ExecutorFrameProfiler.scala:110)\n\tat org.apache.spark.scheduler.ResultTask.runTask(ResultTask.scala:55)\n\tat org.apache.spark.scheduler.Task.doRunTask(Task.scala:179)\n\tat org.apache.spark.scheduler.Task.$anonfun$run$5(Task.scala:142)\n\tat com.databricks.unity.EmptyHandle$.runWithAndClose(UCSHandle.scala:126)\n\tat org.apache.spark.scheduler.Task.$anonfun$run$1(Task.scala:142)\n\tat com.databricks.spark.util.ExecutorFrameProfiler$.record(ExecutorFrameProfiler.scala:110)\n\tat org.apache.spark.scheduler.Task.run(Task.scala:97)\n\tat org.apache.spark.executor.Executor$TaskRunner.$anonfun$run$13(Executor.scala:904)\n\tat org.apache.spark.util.Utils$.tryWithSafeFinally(Utils.scala:1741)\n\tat org.apache.spark.executor.Executor$TaskRunner.$anonfun$run$4(Executor.scala:907)\n\tat scala.runtime.java8.JFunction0$mcV$sp.apply(JFunction0$mcV$sp.java:23)\n\tat com.databricks.spark.util.ExecutorFrameProfiler$.record(ExecutorFrameProfiler.scala:110)\n\tat org.apache.spark.executor.Executor$TaskRunner.run(Executor.scala:761)\n\tat java.util.concurrent.ThreadPoolExecutor.runWorker(ThreadPoolExecutor.java:1149)\n\tat java.util.concurrent.ThreadPoolExecutor$Worker.run(ThreadPoolExecutor.java:624)\n\t... 1 more\nCaused by: org.apache.spark.SparkException: Malformed records are detected in record parsing. Parse Mode: FAILFAST. To process malformed records as null result, try setting the option 'mode' as 'PERMISSIVE'.\n\tat org.apache.spark.sql.errors.QueryExecutionErrors$.malformedRecordsDetectedInRecordParsingError(QueryExecutionErrors.scala:1936)\n\tat org.apache.spark.sql.catalyst.util.FailureSafeParser.parse(FailureSafeParser.scala:103)\n\tat org.apache.spark.sql.catalyst.csv.UnivocityParser$.$anonfun$parseIterator$2(UnivocityParser.scala:507)\n\tat scala.collection.Iterator$$anon$11.nextCur(Iterator.scala:486)\n\tat scala.collection.Iterator$$anon$11.hasNext(Iterator.scala:492)\n\tat org.apache.spark.util.CompletionIterator.hasNext(CompletionIterator.scala:31)\n\tat scala.collection.Iterator$$anon$10.hasNext(Iterator.scala:460)\n\tat org.apache.spark.sql.execution.datasources.FileScanRDD$$anon$1$$anon$2.getNext(FileScanRDD.scala:619)\n\t... 28 more\nCaused by: org.apache.spark.sql.catalyst.util.BadRecordException: java.lang.NumberFormatException: For input string: \"a\"\nCaused by: java.lang.NumberFormatException: For input string: \"a\"\n\tat java.lang.NumberFormatException.forInputString(NumberFormatException.java:65)\n\tat java.lang.Integer.parseInt(Integer.java:580)\n\tat java.lang.Integer.parseInt(Integer.java:615)\n\tat scala.collection.immutable.StringLike.toInt(StringLike.scala:304)\n\tat scala.collection.immutable.StringLike.toInt$(StringLike.scala:304)\n\tat scala.collection.immutable.StringOps.toInt(StringOps.scala:33)\n\tat org.apache.spark.sql.catalyst.csv.UnivocityParser.$anonfun$makeConverter$6(UnivocityParser.scala:202)\n\tat org.apache.spark.sql.catalyst.csv.UnivocityParser.$anonfun$makeConverter$6$adapted(UnivocityParser.scala:202)\n\tat org.apache.spark.sql.catalyst.csv.UnivocityParser.nullSafeDatum(UnivocityParser.scala:305)\n\tat org.apache.spark.sql.catalyst.csv.UnivocityParser.$anonfun$makeConverter$5(UnivocityParser.scala:202)\n\tat org.apache.spark.sql.catalyst.csv.UnivocityParser.convert(UnivocityParser.scala:360)\n\tat org.apache.spark.sql.catalyst.csv.UnivocityParser.$anonfun$parse$2(UnivocityParser.scala:321)\n\tat org.apache.spark.sql.catalyst.csv.UnivocityParser$.$anonfun$parseIterator$1(UnivocityParser.scala:499)\n\tat org.apache.spark.sql.catalyst.util.FailureSafeParser.parse(FailureSafeParser.scala:92)\n\tat org.apache.spark.sql.catalyst.csv.UnivocityParser$.$anonfun$parseIterator$2(UnivocityParser.scala:507)\n\tat scala.collection.Iterator$$anon$11.nextCur(Iterator.scala:486)\n\tat scala.collection.Iterator$$anon$11.hasNext(Iterator.scala:492)\n\tat org.apache.spark.util.CompletionIterator.hasNext(CompletionIterator.scala:31)\n\tat scala.collection.Iterator$$anon$10.hasNext(Iterator.scala:460)\n\tat org.apache.spark.sql.execution.datasources.FileScanRDD$$anon$1$$anon$2.getNext(FileScanRDD.scala:619)\n\tat org.apache.spark.util.NextIterator.hasNext(NextIterator.scala:73)\n\tat org.apache.spark.sql.execution.datasources.FileScanRDD$$anon$1.$anonfun$hasNext$1(FileScanRDD.scala:493)\n\tat scala.runtime.java8.JFunction0$mcZ$sp.apply(JFunction0$mcZ$sp.java:23)\n\tat com.databricks.spark.util.ExecutorFrameProfiler$.record(ExecutorFrameProfiler.scala:110)\n\tat org.apache.spark.sql.execution.datasources.FileScanRDD$$anon$1.hasNext(FileScanRDD.scala:486)\n\tat scala.collection.Iterator$$anon$10.hasNext(Iterator.scala:460)\n\tat org.apache.spark.sql.execution.collect.UnsafeRowBatchUtils$.encodeUnsafeRows(UnsafeRowBatchUtils.scala:82)\n\tat org.apache.spark.sql.execution.collect.Collector.$anonfun$processFunc$1(Collector.scala:208)\n\tat org.apache.spark.scheduler.ResultTask.$anonfun$runTask$3(ResultTask.scala:75)\n\tat com.databricks.spark.util.ExecutorFrameProfiler$.record(ExecutorFrameProfiler.scala:110)\n\tat org.apache.spark.scheduler.ResultTask.$anonfun$runTask$1(ResultTask.scala:75)\n\tat com.databricks.spark.util.ExecutorFrameProfiler$.record(ExecutorFrameProfiler.scala:110)\n\tat org.apache.spark.scheduler.ResultTask.runTask(ResultTask.scala:55)\n\tat org.apache.spark.scheduler.Task.doRunTask(Task.scala:179)\n\tat org.apache.spark.scheduler.Task.$anonfun$run$5(Task.scala:142)\n\tat com.databricks.unity.EmptyHandle$.runWithAndClose(UCSHandle.scala:126)\n\tat org.apache.spark.scheduler.Task.$anonfun$run$1(Task.scala:142)\n\tat com.databricks.spark.util.ExecutorFrameProfiler$.record(ExecutorFrameProfiler.scala:110)\n\tat org.apache.spark.scheduler.Task.run(Task.scala:97)\n\tat org.apache.spark.executor.Executor$TaskRunner.$anonfun$run$13(Executor.scala:904)\n\tat org.apache.spark.util.Utils$.tryWithSafeFinally(Utils.scala:1741)\n\tat org.apache.spark.executor.Executor$TaskRunner.$anonfun$run$4(Executor.scala:907)\n\tat scala.runtime.java8.JFunction0$mcV$sp.apply(JFunction0$mcV$sp.java:23)\n\tat com.databricks.spark.util.ExecutorFrameProfiler$.record(ExecutorFrameProfiler.scala:110)\n\tat org.apache.spark.executor.Executor$TaskRunner.run(Executor.scala:761)\n\tat java.util.concurrent.ThreadPoolExecutor.runWorker(ThreadPoolExecutor.java:1149)\n\tat java.util.concurrent.ThreadPoolExecutor$Worker.run(ThreadPoolExecutor.java:624)\n\tat java.lang.Thread.run(Thread.java:750)\n",
       "errorSummary": "FileReadException: Error while reading file dbfs:/tmp/movies2.csv/part-00000-tid-3148497942218807931-7cbf58df-d031-4cee-867b-5e101e90eb16-315-1-c000.csv.\nCaused by: SparkException: Malformed records are detected in record parsing. Parse Mode: FAILFAST. To process malformed records as null result, try setting the option 'mode' as 'PERMISSIVE'.\nCaused by: BadRecordException: java.lang.NumberFormatException: For input string: \"a\"\nCaused by: NumberFormatException: For input string: \"a\"",
       "errorTraceType": "html",
       "metadata": {},
       "type": "ipynbError"
      }
     },
     "output_type": "display_data"
    }
   ],
   "source": [
    "failfast_mode = spark.read.option(\"header\", True).option(\"mode\", \"failFast\").schema(schemat).csv(\"/tmp/movies2.csv\", sep=\";\")\n",
    "display(failfast_mode)"
   ]
  },
  {
   "cell_type": "code",
   "execution_count": 0,
   "metadata": {
    "application/vnd.databricks.v1+cell": {
     "cellMetadata": {
      "byteLimit": 2048000,
      "rowLimit": 10000
     },
     "inputWidgets": {},
     "nuid": "456e92be-7e2e-4508-820e-c374d61bb48c",
     "showTitle": false,
     "tableResultSettingsMap": {},
     "title": ""
    }
   },
   "outputs": [
    {
     "output_type": "display_data",
     "data": {
      "text/html": [
       "<style scoped>\n",
       "  .table-result-container {\n",
       "    max-height: 300px;\n",
       "    overflow: auto;\n",
       "  }\n",
       "  table, th, td {\n",
       "    border: 1px solid black;\n",
       "    border-collapse: collapse;\n",
       "  }\n",
       "  th, td {\n",
       "    padding: 5px;\n",
       "  }\n",
       "  th {\n",
       "    text-align: left;\n",
       "  }\n",
       "</style><div class='table-result-container'><table class='table-result'><thead style='background-color: white'><tr><th>title</th><th>original_title</th><th>year</th><th>genre</th><th>duration</th><th>country</th></tr></thead><tbody><tr><td>Miss Jerry</td><td>Miss Jerry</td><td>1894</td><td>Romance</td><td>45</td><td>USA</td></tr><tr><td>The Story of the Kelly Gang</td><td>The Story of the Kelly Gang</td><td>1906</td><td>Biography, Crime, Drama</td><td>70</td><td>Australia</td></tr><tr><td>Den sorte drøm</td><td>Den sorte drøm</td><td>1911</td><td>Drama</td><td>53</td><td>Germany, Denmark</td></tr><tr><td>Cleopatra</td><td>Cleopatra</td><td>a</td><td>Drama, History</td><td>100</td><td>USA</td></tr><tr><td>L'Inferno</td><td>L'Inferno</td><td>1911</td><td>Adventure, Drama, Fantasy</td><td>68</td><td>Italy</td></tr><tr><td>From the Manger to the Cross or, Jesus of Nazareth</td><td>From the Manger to the Cross or, Jesus of Nazareth</td><td>a</td><td>Biography, Drama</td><td>60</td><td>USA</td></tr><tr><td>Madame DuBarry</td><td>Madame DuBarry</td><td>1919</td><td>Biography, Drama, Romance</td><td>85</td><td>Germany</td></tr><tr><td>Quo Vadis?</td><td>Quo Vadis?</td><td>1913</td><td>Drama, History</td><td>120</td><td>Italy</td></tr><tr><td>Independenta Romaniei</td><td>Independenta Romaniei</td><td>a</td><td>History, War</td><td>120</td><td>Romania</td></tr><tr><td>Richard III</td><td>Richard III</td><td>a</td><td>Drama</td><td>55</td><td>France, USA</td></tr><tr><td>Atlantis</td><td>Atlantis</td><td>1913</td><td>Drama</td><td>121</td><td>Denmark</td></tr><tr><td>Fantômas - À l'ombre de la guillotine</td><td>Fantômas - À l'ombre de la guillotine</td><td>1913</td><td>Crime, Drama</td><td>54</td><td>France</td></tr><tr><td>Il calvario di una madre</td><td>Ingeborg Holm</td><td>1913</td><td>Drama</td><td>96</td><td>Sweden</td></tr><tr><td>Juve contre Fantômas</td><td>Juve contre Fantômas</td><td>1913</td><td>Crime, Drama</td><td>61</td><td>France</td></tr><tr><td>Ma l'amor mio non muore...</td><td>Ma l'amor mio non muore...</td><td>1914</td><td>Drama</td><td>90</td><td>Italy</td></tr><tr><td>Maudite soit la guerre</td><td>Maudite soit la guerre</td><td>1914</td><td>Drama, War</td><td>50</td><td>Belgium</td></tr><tr><td>Le mort qui tue</td><td>Le mort qui tue</td><td>1913</td><td>Crime, Drama, Mystery</td><td>90</td><td>France</td></tr><tr><td>Amore di madre</td><td>Home, Sweet Home</td><td>1914</td><td>Drama</td><td>55</td><td>USA</td></tr><tr><td>Lo studente di Praga</td><td>Der Student von Prag</td><td>1913</td><td>Drama, Fantasy, Horror</td><td>85</td><td>Germany</td></tr><tr><td>Traffic in Souls</td><td>Traffic in Souls</td><td>1913</td><td>Crime, Drama</td><td>88</td><td>USA</td></tr></tbody></table></div>"
      ]
     },
     "metadata": {
      "application/vnd.databricks.v1+output": {
       "addedWidgets": {},
       "aggData": [],
       "aggError": "",
       "aggOverflow": false,
       "aggSchema": [],
       "aggSeriesLimitReached": false,
       "aggType": "",
       "arguments": {},
       "columnCustomDisplayInfos": {},
       "data": [
        [
         "Miss Jerry",
         "Miss Jerry",
         "1894",
         "Romance",
         "45",
         "USA"
        ],
        [
         "The Story of the Kelly Gang",
         "The Story of the Kelly Gang",
         "1906",
         "Biography, Crime, Drama",
         "70",
         "Australia"
        ],
        [
         "Den sorte drøm",
         "Den sorte drøm",
         "1911",
         "Drama",
         "53",
         "Germany, Denmark"
        ],
        [
         "Cleopatra",
         "Cleopatra",
         "a",
         "Drama, History",
         "100",
         "USA"
        ],
        [
         "L'Inferno",
         "L'Inferno",
         "1911",
         "Adventure, Drama, Fantasy",
         "68",
         "Italy"
        ],
        [
         "From the Manger to the Cross or, Jesus of Nazareth",
         "From the Manger to the Cross or, Jesus of Nazareth",
         "a",
         "Biography, Drama",
         "60",
         "USA"
        ],
        [
         "Madame DuBarry",
         "Madame DuBarry",
         "1919",
         "Biography, Drama, Romance",
         "85",
         "Germany"
        ],
        [
         "Quo Vadis?",
         "Quo Vadis?",
         "1913",
         "Drama, History",
         "120",
         "Italy"
        ],
        [
         "Independenta Romaniei",
         "Independenta Romaniei",
         "a",
         "History, War",
         "120",
         "Romania"
        ],
        [
         "Richard III",
         "Richard III",
         "a",
         "Drama",
         "55",
         "France, USA"
        ],
        [
         "Atlantis",
         "Atlantis",
         "1913",
         "Drama",
         "121",
         "Denmark"
        ],
        [
         "Fantômas - À l'ombre de la guillotine",
         "Fantômas - À l'ombre de la guillotine",
         "1913",
         "Crime, Drama",
         "54",
         "France"
        ],
        [
         "Il calvario di una madre",
         "Ingeborg Holm",
         "1913",
         "Drama",
         "96",
         "Sweden"
        ],
        [
         "Juve contre Fantômas",
         "Juve contre Fantômas",
         "1913",
         "Crime, Drama",
         "61",
         "France"
        ],
        [
         "Ma l'amor mio non muore...",
         "Ma l'amor mio non muore...",
         "1914",
         "Drama",
         "90",
         "Italy"
        ],
        [
         "Maudite soit la guerre",
         "Maudite soit la guerre",
         "1914",
         "Drama, War",
         "50",
         "Belgium"
        ],
        [
         "Le mort qui tue",
         "Le mort qui tue",
         "1913",
         "Crime, Drama, Mystery",
         "90",
         "France"
        ],
        [
         "Amore di madre",
         "Home, Sweet Home",
         "1914",
         "Drama",
         "55",
         "USA"
        ],
        [
         "Lo studente di Praga",
         "Der Student von Prag",
         "1913",
         "Drama, Fantasy, Horror",
         "85",
         "Germany"
        ],
        [
         "Traffic in Souls",
         "Traffic in Souls",
         "1913",
         "Crime, Drama",
         "88",
         "USA"
        ]
       ],
       "datasetInfos": [],
       "dbfsResultPath": null,
       "isJsonSchema": true,
       "metadata": {},
       "overflow": false,
       "plotOptions": {
        "customPlotOptions": {},
        "displayType": "table",
        "pivotAggregation": null,
        "pivotColumns": null,
        "xColumns": null,
        "yColumns": null
       },
       "removedWidgets": [],
       "schema": [
        {
         "metadata": "{}",
         "name": "title",
         "type": "\"string\""
        },
        {
         "metadata": "{}",
         "name": "original_title",
         "type": "\"string\""
        },
        {
         "metadata": "{}",
         "name": "year",
         "type": "\"string\""
        },
        {
         "metadata": "{}",
         "name": "genre",
         "type": "\"string\""
        },
        {
         "metadata": "{}",
         "name": "duration",
         "type": "\"string\""
        },
        {
         "metadata": "{}",
         "name": "country",
         "type": "\"string\""
        }
       ],
       "type": "table"
      }
     },
     "output_type": "display_data"
    }
   ],
   "source": [
    "moviesDf.write.parquet(\"dbfs:/tmp/movies2.parquet\", mode=\"overwrite\")\n",
    "moviesDf.write.parquet(\"dbfs:/tmp/movies2.json\", mode=\"overwrite\")\n",
    "\n",
    "display(spark.read.parquet(\"/tmp/movies2.parquet\"))"
   ]
  },
  {
   "cell_type": "code",
   "execution_count": 0,
   "metadata": {
    "application/vnd.databricks.v1+cell": {
     "cellMetadata": {
      "byteLimit": 2048000,
      "rowLimit": 10000
     },
     "inputWidgets": {},
     "nuid": "9e49bb03-245c-4c71-82e0-09c6c753684f",
     "showTitle": false,
     "tableResultSettingsMap": {},
     "title": ""
    }
   },
   "outputs": [
    {
     "output_type": "display_data",
     "data": {
      "text/html": [
       "<style scoped>\n",
       "  .table-result-container {\n",
       "    max-height: 300px;\n",
       "    overflow: auto;\n",
       "  }\n",
       "  table, th, td {\n",
       "    border: 1px solid black;\n",
       "    border-collapse: collapse;\n",
       "  }\n",
       "  th, td {\n",
       "    padding: 5px;\n",
       "  }\n",
       "  th {\n",
       "    text-align: left;\n",
       "  }\n",
       "</style><div class='table-result-container'><table class='table-result'><thead style='background-color: white'><tr><th>title</th><th>original_title</th><th>year</th><th>genre</th><th>duration</th><th>country</th></tr></thead><tbody><tr><td>Miss Jerry</td><td>Miss Jerry</td><td>1894</td><td>Romance</td><td>45</td><td>USA</td></tr><tr><td>The Story of the Kelly Gang</td><td>The Story of the Kelly Gang</td><td>1906</td><td>Biography, Crime, Drama</td><td>70</td><td>Australia</td></tr><tr><td>Den sorte drøm</td><td>Den sorte drøm</td><td>1911</td><td>Drama</td><td>53</td><td>Germany, Denmark</td></tr><tr><td>Cleopatra</td><td>Cleopatra</td><td>a</td><td>Drama, History</td><td>100</td><td>USA</td></tr><tr><td>L'Inferno</td><td>L'Inferno</td><td>1911</td><td>Adventure, Drama, Fantasy</td><td>68</td><td>Italy</td></tr><tr><td>From the Manger to the Cross or, Jesus of Nazareth</td><td>From the Manger to the Cross or, Jesus of Nazareth</td><td>a</td><td>Biography, Drama</td><td>60</td><td>USA</td></tr><tr><td>Madame DuBarry</td><td>Madame DuBarry</td><td>1919</td><td>Biography, Drama, Romance</td><td>85</td><td>Germany</td></tr><tr><td>Quo Vadis?</td><td>Quo Vadis?</td><td>1913</td><td>Drama, History</td><td>120</td><td>Italy</td></tr><tr><td>Independenta Romaniei</td><td>Independenta Romaniei</td><td>a</td><td>History, War</td><td>120</td><td>Romania</td></tr><tr><td>Richard III</td><td>Richard III</td><td>a</td><td>Drama</td><td>55</td><td>France, USA</td></tr><tr><td>Atlantis</td><td>Atlantis</td><td>1913</td><td>Drama</td><td>121</td><td>Denmark</td></tr><tr><td>Fantômas - À l'ombre de la guillotine</td><td>Fantômas - À l'ombre de la guillotine</td><td>1913</td><td>Crime, Drama</td><td>54</td><td>France</td></tr><tr><td>Il calvario di una madre</td><td>Ingeborg Holm</td><td>1913</td><td>Drama</td><td>96</td><td>Sweden</td></tr><tr><td>Juve contre Fantômas</td><td>Juve contre Fantômas</td><td>1913</td><td>Crime, Drama</td><td>61</td><td>France</td></tr><tr><td>Ma l'amor mio non muore...</td><td>Ma l'amor mio non muore...</td><td>1914</td><td>Drama</td><td>90</td><td>Italy</td></tr><tr><td>Maudite soit la guerre</td><td>Maudite soit la guerre</td><td>1914</td><td>Drama, War</td><td>50</td><td>Belgium</td></tr><tr><td>Le mort qui tue</td><td>Le mort qui tue</td><td>1913</td><td>Crime, Drama, Mystery</td><td>90</td><td>France</td></tr><tr><td>Amore di madre</td><td>Home, Sweet Home</td><td>1914</td><td>Drama</td><td>55</td><td>USA</td></tr><tr><td>Lo studente di Praga</td><td>Der Student von Prag</td><td>1913</td><td>Drama, Fantasy, Horror</td><td>85</td><td>Germany</td></tr><tr><td>Traffic in Souls</td><td>Traffic in Souls</td><td>1913</td><td>Crime, Drama</td><td>88</td><td>USA</td></tr></tbody></table></div>"
      ]
     },
     "metadata": {
      "application/vnd.databricks.v1+output": {
       "addedWidgets": {},
       "aggData": [],
       "aggError": "",
       "aggOverflow": false,
       "aggSchema": [],
       "aggSeriesLimitReached": false,
       "aggType": "",
       "arguments": {},
       "columnCustomDisplayInfos": {},
       "data": [
        [
         "Miss Jerry",
         "Miss Jerry",
         "1894",
         "Romance",
         "45",
         "USA"
        ],
        [
         "The Story of the Kelly Gang",
         "The Story of the Kelly Gang",
         "1906",
         "Biography, Crime, Drama",
         "70",
         "Australia"
        ],
        [
         "Den sorte drøm",
         "Den sorte drøm",
         "1911",
         "Drama",
         "53",
         "Germany, Denmark"
        ],
        [
         "Cleopatra",
         "Cleopatra",
         "a",
         "Drama, History",
         "100",
         "USA"
        ],
        [
         "L'Inferno",
         "L'Inferno",
         "1911",
         "Adventure, Drama, Fantasy",
         "68",
         "Italy"
        ],
        [
         "From the Manger to the Cross or, Jesus of Nazareth",
         "From the Manger to the Cross or, Jesus of Nazareth",
         "a",
         "Biography, Drama",
         "60",
         "USA"
        ],
        [
         "Madame DuBarry",
         "Madame DuBarry",
         "1919",
         "Biography, Drama, Romance",
         "85",
         "Germany"
        ],
        [
         "Quo Vadis?",
         "Quo Vadis?",
         "1913",
         "Drama, History",
         "120",
         "Italy"
        ],
        [
         "Independenta Romaniei",
         "Independenta Romaniei",
         "a",
         "History, War",
         "120",
         "Romania"
        ],
        [
         "Richard III",
         "Richard III",
         "a",
         "Drama",
         "55",
         "France, USA"
        ],
        [
         "Atlantis",
         "Atlantis",
         "1913",
         "Drama",
         "121",
         "Denmark"
        ],
        [
         "Fantômas - À l'ombre de la guillotine",
         "Fantômas - À l'ombre de la guillotine",
         "1913",
         "Crime, Drama",
         "54",
         "France"
        ],
        [
         "Il calvario di una madre",
         "Ingeborg Holm",
         "1913",
         "Drama",
         "96",
         "Sweden"
        ],
        [
         "Juve contre Fantômas",
         "Juve contre Fantômas",
         "1913",
         "Crime, Drama",
         "61",
         "France"
        ],
        [
         "Ma l'amor mio non muore...",
         "Ma l'amor mio non muore...",
         "1914",
         "Drama",
         "90",
         "Italy"
        ],
        [
         "Maudite soit la guerre",
         "Maudite soit la guerre",
         "1914",
         "Drama, War",
         "50",
         "Belgium"
        ],
        [
         "Le mort qui tue",
         "Le mort qui tue",
         "1913",
         "Crime, Drama, Mystery",
         "90",
         "France"
        ],
        [
         "Amore di madre",
         "Home, Sweet Home",
         "1914",
         "Drama",
         "55",
         "USA"
        ],
        [
         "Lo studente di Praga",
         "Der Student von Prag",
         "1913",
         "Drama, Fantasy, Horror",
         "85",
         "Germany"
        ],
        [
         "Traffic in Souls",
         "Traffic in Souls",
         "1913",
         "Crime, Drama",
         "88",
         "USA"
        ]
       ],
       "datasetInfos": [],
       "dbfsResultPath": null,
       "isJsonSchema": true,
       "metadata": {},
       "overflow": false,
       "plotOptions": {
        "customPlotOptions": {},
        "displayType": "table",
        "pivotAggregation": null,
        "pivotColumns": null,
        "xColumns": null,
        "yColumns": null
       },
       "removedWidgets": [],
       "schema": [
        {
         "metadata": "{}",
         "name": "title",
         "type": "\"string\""
        },
        {
         "metadata": "{}",
         "name": "original_title",
         "type": "\"string\""
        },
        {
         "metadata": "{}",
         "name": "year",
         "type": "\"string\""
        },
        {
         "metadata": "{}",
         "name": "genre",
         "type": "\"string\""
        },
        {
         "metadata": "{}",
         "name": "duration",
         "type": "\"string\""
        },
        {
         "metadata": "{}",
         "name": "country",
         "type": "\"string\""
        }
       ],
       "type": "table"
      }
     },
     "output_type": "display_data"
    }
   ],
   "source": [
    "display(spark.read.parquet(\"/tmp/movies2.json\"))"
   ]
  }
 ],
 "metadata": {
  "application/vnd.databricks.v1+notebook": {
   "computePreferences": null,
   "dashboards": [],
   "environmentMetadata": {
    "base_environment": "",
    "client": "1"
   },
   "language": "python",
   "notebookMetadata": {
    "pythonIndentUnit": 4
   },
   "notebookName": "lab2",
   "widgets": {}
  }
 },
 "nbformat": 4,
 "nbformat_minor": 0
}
