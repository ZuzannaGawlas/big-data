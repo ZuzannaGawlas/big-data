{
 "cells": [
  {
   "cell_type": "code",
   "execution_count": 0,
   "metadata": {
    "application/vnd.databricks.v1+cell": {
     "cellMetadata": {
      "byteLimit": 2048000,
      "rowLimit": 10000
     },
     "inputWidgets": {},
     "nuid": "75ee3ee7-e1d1-45bd-9306-07a2804170da",
     "showTitle": false,
     "tableResultSettingsMap": {},
     "title": ""
    }
   },
   "outputs": [
    {
     "output_type": "stream",
     "name": "stdout",
     "output_type": "stream",
     "text": [
      "root\n |-- user_id: integer (nullable = false)\n |-- event_date: date (nullable = false)\n |-- event_type: string (nullable = true)\n |-- metric: integer (nullable = true)\n\n+-------+----------+----------+------+\n|user_id|event_date|event_type|metric|\n+-------+----------+----------+------+\n|      1|2024-01-01|     login|     8|\n|      1|2024-01-02|     login|    74|\n|      1|2024-01-03|     login|    80|\n|      1|2024-01-04|     login|    34|\n|      1|2024-01-05|     login|    52|\n|      1|2024-01-06|     login|    17|\n|      1|2024-01-07|     login|    43|\n|      1|2024-01-08|     login|    50|\n|      1|2024-01-09|     login|    87|\n|      1|2024-01-10|     login|    32|\n+-------+----------+----------+------+\nonly showing top 10 rows\n\n"
     ]
    }
   ],
   "source": [
    "from pyspark.sql import SparkSession\n",
    "from pyspark.sql.functions import explode, sequence, concat_ws, lit, rand, col\n",
    "from pyspark.sql.types import DateType\n",
    "\n",
    "spark = SparkSession.builder.appName(\"AltBaseGen\").getOrCreate()\n",
    "\n",
    "user_ids = spark.sql(\"SELECT explode(sequence(1, 5000)) as user_id\")\n",
    "event_dates = spark.sql(\"SELECT explode(sequence(DATE'2024-01-01', DATE'2024-03-31', INTERVAL 1 DAY)) as event_date\")\n",
    "\n",
    "event_types = [\"login\", \"logout\", \"purchase\", \"browse\", \"error\"]\n",
    "event_type_df = spark.createDataFrame([(e,) for e in event_types], [\"event_type\"])\n",
    "\n",
    "df_events = user_ids.crossJoin(event_dates).crossJoin(event_type_df)\n",
    "\n",
    "df_events = df_events.withColumn(\"metric\", (rand() * 100).cast(\"int\"))\n",
    "\n",
    "df_events_a = df_events.withColumnRenamed(\"user_id\", \"user_id_a\")\n",
    "df_events_b = df_events.withColumnRenamed(\"user_id\", \"user_id_b\")\n",
    "\n",
    "df_events.printSchema()\n",
    "df_events.show(10)\n",
    "\n"
   ]
  },
  {
   "cell_type": "code",
   "execution_count": 0,
   "metadata": {
    "application/vnd.databricks.v1+cell": {
     "cellMetadata": {
      "byteLimit": 2048000,
      "rowLimit": 10000
     },
     "inputWidgets": {},
     "nuid": "7e7beb92-54cc-4ad6-91bc-0360fb4dc17c",
     "showTitle": false,
     "tableResultSettingsMap": {},
     "title": ""
    }
   },
   "outputs": [
    {
     "output_type": "stream",
     "name": "stdout",
     "output_type": "stream",
     "text": [
      "+---------+----------+----------+------+---------+----------+----------+------+\n|user_id_a|event_date|event_type|metric|user_id_b|event_date|event_type|metric|\n+---------+----------+----------+------+---------+----------+----------+------+\n|        1|2024-01-02|     login|    74|        1|2024-01-02|     login|    74|\n|        1|2024-01-02|     login|    74|        2|2024-01-02|     login|     6|\n|        1|2024-01-02|     login|    74|        3|2024-01-02|     login|    53|\n|        1|2024-01-02|     login|    74|        4|2024-01-02|     login|    17|\n|        1|2024-01-02|     login|    74|        5|2024-01-02|     login|     5|\n|        1|2024-01-02|     login|    74|        6|2024-01-02|     login|    25|\n|        1|2024-01-02|     login|    74|        7|2024-01-02|     login|    35|\n|        1|2024-01-02|     login|    74|        8|2024-01-02|     login|    82|\n|        1|2024-01-02|     login|    74|        9|2024-01-02|     login|    81|\n|        1|2024-01-02|     login|    74|       10|2024-01-02|     login|    25|\n+---------+----------+----------+------+---------+----------+----------+------+\nonly showing top 10 rows\n\n"
     ]
    }
   ],
   "source": [
    "df_joined = df_events_a.join(df_events_b, df_events_a.event_date == df_events_b.event_date, \"inner\")\n",
    "df_joined.show(10)\n",
    "\n"
   ]
  },
  {
   "cell_type": "code",
   "execution_count": 0,
   "metadata": {
    "application/vnd.databricks.v1+cell": {
     "cellMetadata": {
      "byteLimit": 2048000,
      "rowLimit": 10000
     },
     "inputWidgets": {},
     "nuid": "48cf8568-bb2e-487a-889f-78712d2d7580",
     "showTitle": false,
     "tableResultSettingsMap": {},
     "title": ""
    }
   },
   "outputs": [
    {
     "output_type": "display_data",
     "data": {
      "text/html": [
       "<style scoped>\n",
       "  .table-result-container {\n",
       "    max-height: 300px;\n",
       "    overflow: auto;\n",
       "  }\n",
       "  table, th, td {\n",
       "    border: 1px solid black;\n",
       "    border-collapse: collapse;\n",
       "  }\n",
       "  th, td {\n",
       "    padding: 5px;\n",
       "  }\n",
       "  th {\n",
       "    text-align: left;\n",
       "  }\n",
       "</style><div class='table-result-container'><table class='table-result'><thead style='background-color: white'><tr><th>user_id</th><th>event_date</th><th>event_type_a</th><th>metric_a</th><th>event_type_b</th><th>metric_b</th></tr></thead><tbody><tr><td>1</td><td>2024-01-08</td><td>login</td><td>50</td><td>login</td><td>50</td></tr><tr><td>1</td><td>2024-01-08</td><td>login</td><td>50</td><td>logout</td><td>69</td></tr><tr><td>1</td><td>2024-01-08</td><td>login</td><td>50</td><td>purchase</td><td>16</td></tr><tr><td>1</td><td>2024-01-08</td><td>login</td><td>50</td><td>browse</td><td>98</td></tr><tr><td>1</td><td>2024-01-08</td><td>login</td><td>50</td><td>error</td><td>27</td></tr><tr><td>1</td><td>2024-01-08</td><td>logout</td><td>69</td><td>login</td><td>50</td></tr><tr><td>1</td><td>2024-01-08</td><td>logout</td><td>69</td><td>logout</td><td>69</td></tr><tr><td>1</td><td>2024-01-08</td><td>logout</td><td>69</td><td>purchase</td><td>16</td></tr><tr><td>1</td><td>2024-01-08</td><td>logout</td><td>69</td><td>browse</td><td>98</td></tr><tr><td>1</td><td>2024-01-08</td><td>logout</td><td>69</td><td>error</td><td>27</td></tr></tbody></table></div>"
      ]
     },
     "metadata": {
      "application/vnd.databricks.v1+output": {
       "addedWidgets": {},
       "aggData": [],
       "aggError": "",
       "aggOverflow": false,
       "aggSchema": [],
       "aggSeriesLimitReached": false,
       "aggType": "",
       "arguments": {},
       "columnCustomDisplayInfos": {},
       "data": [
        [
         1,
         "2024-01-08",
         "login",
         50,
         "login",
         50
        ],
        [
         1,
         "2024-01-08",
         "login",
         50,
         "logout",
         69
        ],
        [
         1,
         "2024-01-08",
         "login",
         50,
         "purchase",
         16
        ],
        [
         1,
         "2024-01-08",
         "login",
         50,
         "browse",
         98
        ],
        [
         1,
         "2024-01-08",
         "login",
         50,
         "error",
         27
        ],
        [
         1,
         "2024-01-08",
         "logout",
         69,
         "login",
         50
        ],
        [
         1,
         "2024-01-08",
         "logout",
         69,
         "logout",
         69
        ],
        [
         1,
         "2024-01-08",
         "logout",
         69,
         "purchase",
         16
        ],
        [
         1,
         "2024-01-08",
         "logout",
         69,
         "browse",
         98
        ],
        [
         1,
         "2024-01-08",
         "logout",
         69,
         "error",
         27
        ]
       ],
       "datasetInfos": [],
       "dbfsResultPath": null,
       "isJsonSchema": true,
       "metadata": {},
       "overflow": false,
       "plotOptions": {
        "customPlotOptions": {},
        "displayType": "table",
        "pivotAggregation": null,
        "pivotColumns": null,
        "xColumns": null,
        "yColumns": null
       },
       "removedWidgets": [],
       "schema": [
        {
         "metadata": "{}",
         "name": "user_id",
         "type": "\"integer\""
        },
        {
         "metadata": "{}",
         "name": "event_date",
         "type": "\"date\""
        },
        {
         "metadata": "{}",
         "name": "event_type_a",
         "type": "\"string\""
        },
        {
         "metadata": "{}",
         "name": "metric_a",
         "type": "\"integer\""
        },
        {
         "metadata": "{}",
         "name": "event_type_b",
         "type": "\"string\""
        },
        {
         "metadata": "{}",
         "name": "metric_b",
         "type": "\"integer\""
        }
       ],
       "type": "table"
      }
     },
     "output_type": "display_data"
    },
    {
     "output_type": "stream",
     "name": "stdout",
     "output_type": "stream",
     "text": [
      "Count of rows in df_left_clean: 11375000\n"
     ]
    }
   ],
   "source": [
    "from pyspark.sql.functions import col\n",
    "\n",
    "# Aliasowanie DataFrame'ów\n",
    "dfa = df_events_a.alias(\"a\")\n",
    "dfb = df_events_b.alias(\"b\")\n",
    "\n",
    "# LEFT JOIN z aliasami\n",
    "df_left = dfa.join(\n",
    "    dfb,\n",
    "    (col(\"a.user_id_a\") == col(\"b.user_id_b\")) & \n",
    "    (col(\"a.event_date\") == col(\"b.event_date\")),\n",
    "    \"left\"\n",
    ")\n",
    "\n",
    "df_left_clean = df_left.select(\n",
    "    col(\"a.user_id_a\").alias(\"user_id\"),\n",
    "    col(\"a.event_date\"),\n",
    "    col(\"a.event_type\").alias(\"event_type_a\"),\n",
    "    col(\"a.metric\").alias(\"metric_a\"),        \n",
    "    col(\"b.event_type\").alias(\"event_type_b\"),  \n",
    "    col(\"b.metric\").alias(\"metric_b\")          \n",
    ")\n",
    "\n",
    "display(df_left_clean.limit(10))\n",
    "\n",
    "# Liczenie liczby wierszy\n",
    "df_left_clean_count = df_left_clean.count()\n",
    "print(f\"Count of rows in df_left_clean: {df_left_clean_count}\")\n"
   ]
  },
  {
   "cell_type": "code",
   "execution_count": 0,
   "metadata": {
    "application/vnd.databricks.v1+cell": {
     "cellMetadata": {},
     "inputWidgets": {},
     "nuid": "0f0dcba6-ea8a-4a19-90f1-c44814358069",
     "showTitle": false,
     "tableResultSettingsMap": {},
     "title": ""
    }
   },
   "outputs": [],
   "source": []
  }
 ],
 "metadata": {
  "application/vnd.databricks.v1+notebook": {
   "computePreferences": null,
   "dashboards": [],
   "environmentMetadata": {
    "base_environment": "",
    "environment_version": "1"
   },
   "inputWidgetPreferences": null,
   "language": "python",
   "notebookMetadata": {
    "pythonIndentUnit": 4
   },
   "notebookName": "lab5_zad2",
   "widgets": {}
  }
 },
 "nbformat": 4,
 "nbformat_minor": 0
}